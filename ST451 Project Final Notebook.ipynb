{
 "cells": [
  {
   "cell_type": "code",
   "execution_count": 1,
   "metadata": {},
   "outputs": [],
   "source": [
    "    import numpy as np\n",
    "import pandas as pd\n",
    "import scipy as sc\n",
    "from scipy import optimize\n",
    "from sklearn.model_selection import train_test_split\n",
    "from sklearn.linear_model import LogisticRegression\n",
    "import matplotlib.pyplot as plt #for plots\n",
    "%matplotlib inline\n",
    "from sklearn.metrics import accuracy_score, log_loss, roc_curve, roc_auc_score\n",
    "from sklearn import preprocessing\n",
    "\n",
    "import statsmodels.api as sm\n",
    "from sklearn.discriminant_analysis import LinearDiscriminantAnalysis"
   ]
  },
  {
   "cell_type": "code",
   "execution_count": 2,
   "metadata": {},
   "outputs": [],
   "source": [
    "from sklearn.preprocessing import OneHotEncoder\n",
    "from sklearn.preprocessing import LabelEncoder"
   ]
  },
  {
   "cell_type": "code",
   "execution_count": 3,
   "metadata": {},
   "outputs": [],
   "source": [
    "from math import isnan"
   ]
  },
  {
   "cell_type": "markdown",
   "metadata": {},
   "source": [
    "## Import the Dataset"
   ]
  },
  {
   "cell_type": "code",
   "execution_count": 4,
   "metadata": {},
   "outputs": [
    {
     "data": {
      "text/plain": [
       "'/Users/javiermazonechevarria/Desktop/LSE/ST451 Bayesian Machine Learning/Computer Classes'"
      ]
     },
     "execution_count": 4,
     "metadata": {},
     "output_type": "execute_result"
    }
   ],
   "source": [
    "pwd()"
   ]
  },
  {
   "cell_type": "code",
   "execution_count": 772,
   "metadata": {
    "scrolled": false
   },
   "outputs": [
    {
     "name": "stdout",
     "output_type": "stream",
     "text": [
      "(19158, 14) (2129, 13)\n"
     ]
    },
    {
     "data": {
      "text/html": [
       "<div>\n",
       "<style scoped>\n",
       "    .dataframe tbody tr th:only-of-type {\n",
       "        vertical-align: middle;\n",
       "    }\n",
       "\n",
       "    .dataframe tbody tr th {\n",
       "        vertical-align: top;\n",
       "    }\n",
       "\n",
       "    .dataframe thead th {\n",
       "        text-align: right;\n",
       "    }\n",
       "</style>\n",
       "<table border=\"1\" class=\"dataframe\">\n",
       "  <thead>\n",
       "    <tr style=\"text-align: right;\">\n",
       "      <th></th>\n",
       "      <th>enrollee_id</th>\n",
       "      <th>city</th>\n",
       "      <th>city_development_index</th>\n",
       "      <th>gender</th>\n",
       "      <th>relevent_experience</th>\n",
       "      <th>enrolled_university</th>\n",
       "      <th>education_level</th>\n",
       "      <th>major_discipline</th>\n",
       "      <th>experience</th>\n",
       "      <th>company_size</th>\n",
       "      <th>company_type</th>\n",
       "      <th>last_new_job</th>\n",
       "      <th>training_hours</th>\n",
       "      <th>target</th>\n",
       "    </tr>\n",
       "  </thead>\n",
       "  <tbody>\n",
       "    <tr>\n",
       "      <th>0</th>\n",
       "      <td>8949</td>\n",
       "      <td>city_103</td>\n",
       "      <td>0.920</td>\n",
       "      <td>Male</td>\n",
       "      <td>Has relevent experience</td>\n",
       "      <td>no_enrollment</td>\n",
       "      <td>Graduate</td>\n",
       "      <td>STEM</td>\n",
       "      <td>&gt;20</td>\n",
       "      <td>NaN</td>\n",
       "      <td>NaN</td>\n",
       "      <td>1</td>\n",
       "      <td>36</td>\n",
       "      <td>1.0</td>\n",
       "    </tr>\n",
       "    <tr>\n",
       "      <th>1</th>\n",
       "      <td>29725</td>\n",
       "      <td>city_40</td>\n",
       "      <td>0.776</td>\n",
       "      <td>Male</td>\n",
       "      <td>No relevent experience</td>\n",
       "      <td>no_enrollment</td>\n",
       "      <td>Graduate</td>\n",
       "      <td>STEM</td>\n",
       "      <td>15</td>\n",
       "      <td>50-99</td>\n",
       "      <td>Pvt Ltd</td>\n",
       "      <td>&gt;4</td>\n",
       "      <td>47</td>\n",
       "      <td>0.0</td>\n",
       "    </tr>\n",
       "    <tr>\n",
       "      <th>2</th>\n",
       "      <td>11561</td>\n",
       "      <td>city_21</td>\n",
       "      <td>0.624</td>\n",
       "      <td>NaN</td>\n",
       "      <td>No relevent experience</td>\n",
       "      <td>Full time course</td>\n",
       "      <td>Graduate</td>\n",
       "      <td>STEM</td>\n",
       "      <td>5</td>\n",
       "      <td>NaN</td>\n",
       "      <td>NaN</td>\n",
       "      <td>never</td>\n",
       "      <td>83</td>\n",
       "      <td>0.0</td>\n",
       "    </tr>\n",
       "    <tr>\n",
       "      <th>3</th>\n",
       "      <td>33241</td>\n",
       "      <td>city_115</td>\n",
       "      <td>0.789</td>\n",
       "      <td>NaN</td>\n",
       "      <td>No relevent experience</td>\n",
       "      <td>NaN</td>\n",
       "      <td>Graduate</td>\n",
       "      <td>Business Degree</td>\n",
       "      <td>&lt;1</td>\n",
       "      <td>NaN</td>\n",
       "      <td>Pvt Ltd</td>\n",
       "      <td>never</td>\n",
       "      <td>52</td>\n",
       "      <td>1.0</td>\n",
       "    </tr>\n",
       "    <tr>\n",
       "      <th>4</th>\n",
       "      <td>666</td>\n",
       "      <td>city_162</td>\n",
       "      <td>0.767</td>\n",
       "      <td>Male</td>\n",
       "      <td>Has relevent experience</td>\n",
       "      <td>no_enrollment</td>\n",
       "      <td>Masters</td>\n",
       "      <td>STEM</td>\n",
       "      <td>&gt;20</td>\n",
       "      <td>50-99</td>\n",
       "      <td>Funded Startup</td>\n",
       "      <td>4</td>\n",
       "      <td>8</td>\n",
       "      <td>0.0</td>\n",
       "    </tr>\n",
       "  </tbody>\n",
       "</table>\n",
       "</div>"
      ],
      "text/plain": [
       "   enrollee_id      city  city_development_index gender  \\\n",
       "0         8949  city_103                   0.920   Male   \n",
       "1        29725   city_40                   0.776   Male   \n",
       "2        11561   city_21                   0.624    NaN   \n",
       "3        33241  city_115                   0.789    NaN   \n",
       "4          666  city_162                   0.767   Male   \n",
       "\n",
       "       relevent_experience enrolled_university education_level  \\\n",
       "0  Has relevent experience       no_enrollment        Graduate   \n",
       "1   No relevent experience       no_enrollment        Graduate   \n",
       "2   No relevent experience    Full time course        Graduate   \n",
       "3   No relevent experience                 NaN        Graduate   \n",
       "4  Has relevent experience       no_enrollment         Masters   \n",
       "\n",
       "  major_discipline experience company_size    company_type last_new_job  \\\n",
       "0             STEM        >20          NaN             NaN            1   \n",
       "1             STEM         15        50-99         Pvt Ltd           >4   \n",
       "2             STEM          5          NaN             NaN        never   \n",
       "3  Business Degree         <1          NaN         Pvt Ltd        never   \n",
       "4             STEM        >20        50-99  Funded Startup            4   \n",
       "\n",
       "   training_hours  target  \n",
       "0              36     1.0  \n",
       "1              47     0.0  \n",
       "2              83     0.0  \n",
       "3              52     1.0  \n",
       "4               8     0.0  "
      ]
     },
     "execution_count": 772,
     "metadata": {},
     "output_type": "execute_result"
    }
   ],
   "source": [
    "data1 = pd.read_csv('your_path/data/aug_train.csv')\n",
    "print(data1.shape, data2.shape)\n",
    "data1.head()"
   ]
  },
  {
   "cell_type": "code",
   "execution_count": 773,
   "metadata": {
    "scrolled": true
   },
   "outputs": [
    {
     "name": "stdout",
     "output_type": "stream",
     "text": [
      "14 columns:\n"
     ]
    },
    {
     "data": {
      "text/plain": [
       "enrollee_id                 int64\n",
       "city                       object\n",
       "city_development_index    float64\n",
       "gender                     object\n",
       "relevent_experience        object\n",
       "enrolled_university        object\n",
       "education_level            object\n",
       "major_discipline           object\n",
       "experience                 object\n",
       "company_size               object\n",
       "company_type               object\n",
       "last_new_job               object\n",
       "training_hours              int64\n",
       "target                    float64\n",
       "dtype: object"
      ]
     },
     "execution_count": 773,
     "metadata": {},
     "output_type": "execute_result"
    }
   ],
   "source": [
    "print(\"{} columns:\".format(len(data1.columns)))\n",
    "data1.dtypes"
   ]
  },
  {
   "cell_type": "markdown",
   "metadata": {},
   "source": [
    "As most variables are categorical, they'll have to be coded as categorical ordinal variables with numbers, or with one-hot-encoding in case they are not ordinal"
   ]
  },
  {
   "cell_type": "code",
   "execution_count": 774,
   "metadata": {
    "scrolled": true
   },
   "outputs": [
    {
     "name": "stdout",
     "output_type": "stream",
     "text": [
      " enrollee_id - 19158 different values: [ 8949 29725 11561 ... 24576  5756 23834]\n",
      " city - 123 different values: ['city_103' 'city_40' 'city_21' 'city_115' 'city_162' 'city_176'\n",
      " 'city_160' 'city_46' 'city_61' 'city_114' 'city_13' 'city_159' 'city_102'\n",
      " 'city_67' 'city_100' 'city_16' 'city_71' 'city_104' 'city_64' 'city_101'\n",
      " 'city_83' 'city_105' 'city_73' 'city_75' 'city_41' 'city_11' 'city_93'\n",
      " 'city_90' 'city_36' 'city_20' 'city_57' 'city_152' 'city_19' 'city_65'\n",
      " 'city_74' 'city_173' 'city_136' 'city_98' 'city_97' 'city_50' 'city_138'\n",
      " 'city_82' 'city_157' 'city_89' 'city_150' 'city_70' 'city_175' 'city_94'\n",
      " 'city_28' 'city_59' 'city_165' 'city_145' 'city_142' 'city_26' 'city_12'\n",
      " 'city_37' 'city_43' 'city_116' 'city_23' 'city_99' 'city_149' 'city_10'\n",
      " 'city_45' 'city_80' 'city_128' 'city_158' 'city_123' 'city_7' 'city_72'\n",
      " 'city_106' 'city_143' 'city_78' 'city_109' 'city_24' 'city_134' 'city_48'\n",
      " 'city_144' 'city_91' 'city_146' 'city_133' 'city_126' 'city_118' 'city_9'\n",
      " 'city_167' 'city_27' 'city_84' 'city_54' 'city_39' 'city_79' 'city_76'\n",
      " 'city_77' 'city_81' 'city_131' 'city_44' 'city_117' 'city_155' 'city_33'\n",
      " 'city_141' 'city_127' 'city_62' 'city_53' 'city_25' 'city_2' 'city_69'\n",
      " 'city_120' 'city_111' 'city_30' 'city_1' 'city_140' 'city_179' 'city_55'\n",
      " 'city_14' 'city_42' 'city_107' 'city_18' 'city_139' 'city_180' 'city_166'\n",
      " 'city_121' 'city_129' 'city_8' 'city_31' 'city_171']\n",
      " city_development_index - 93 different values: [0.92  0.776 0.624 0.789 0.767 0.764 0.762 0.913 0.926 0.827 0.843 0.804\n",
      " 0.855 0.887 0.91  0.884 0.924 0.666 0.558 0.923 0.794 0.754 0.939 0.55\n",
      " 0.865 0.698 0.893 0.796 0.866 0.682 0.802 0.579 0.878 0.897 0.949 0.925\n",
      " 0.896 0.836 0.693 0.769 0.775 0.903 0.555 0.727 0.64  0.516 0.743 0.899\n",
      " 0.915 0.689 0.895 0.89  0.847 0.527 0.766 0.738 0.647 0.795 0.74  0.701\n",
      " 0.493 0.84  0.691 0.735 0.742 0.479 0.722 0.921 0.848 0.856 0.898 0.83\n",
      " 0.73  0.68  0.725 0.556 0.448 0.763 0.745 0.645 0.788 0.78  0.512 0.739\n",
      " 0.563 0.518 0.824 0.487 0.649 0.781 0.625 0.807 0.664]\n",
      " gender - 4 different values: ['Male' nan 'Female' 'Other']\n",
      " relevent_experience - 2 different values: ['Has relevent experience' 'No relevent experience']\n",
      " enrolled_university - 4 different values: ['no_enrollment' 'Full time course' nan 'Part time course']\n",
      " education_level - 6 different values: ['Graduate' 'Masters' 'High School' nan 'Phd' 'Primary School']\n",
      " major_discipline - 7 different values: ['STEM' 'Business Degree' nan 'Arts' 'Humanities' 'No Major' 'Other']\n",
      " experience - 23 different values: ['>20' '15' '5' '<1' '11' '13' '7' '17' '2' '16' '1' '4' '10' '14' '18'\n",
      " '19' '12' '3' '6' '9' '8' '20' nan]\n",
      " company_size - 9 different values: [nan '50-99' '<10' '10000+' '5000-9999' '1000-4999' '10/49' '100-500'\n",
      " '500-999']\n",
      " company_type - 7 different values: [nan 'Pvt Ltd' 'Funded Startup' 'Early Stage Startup' 'Other'\n",
      " 'Public Sector' 'NGO']\n",
      " last_new_job - 7 different values: ['1' '>4' 'never' '4' '3' '2' nan]\n",
      " training_hours - 241 different values: [ 36  47  83  52   8  24  18  46 123  32 108  23  26 106   7 132  68  50\n",
      "  48  65  13  22 148  72  40 141  82 145 206 152  42  14 112  87  20  21\n",
      "  92 102  43  45  19  90  25  15  98 142  28 228  29  12  17  35   4 136\n",
      "  27  74  86  75 332 140 182 172  33  34 150 160   3   2 210 101  59 260\n",
      " 131 109  70  51  60 164 290 133  76 156 120 100  39  55  49   6 125 326\n",
      " 198  11  41 114 246  81  31  84 105  38 178 104 202  88 218  62  10  80\n",
      "  77  37 162 190  30  16   5  54  44 110 262 107 134 103  96  57 240  94\n",
      " 113  56  64 320   9 129  58 126 166  95  97 204 116 161 146 302  53 143\n",
      " 124 214 288 306 322  67  61 130 220  78 314 226 280  91 234 163 151  85\n",
      " 256 168 144  66 128  73 122 154  63 292 188  71 135 138 184  89 157 118\n",
      " 111 192 127 216 139 196  99 167 276 121  69 155 316 242 304 284 278 310\n",
      " 222 212 250 180 258 330 158 149 165  79 194 176 174 312 200 328 300 153\n",
      " 232 336 308 147 298 224 254 248 236 170 264 119 117 334 324   1 238 266\n",
      " 282 268 244 272 294 270 286]\n",
      " target - 2 different values: [1. 0.]\n"
     ]
    }
   ],
   "source": [
    "for col in data1.columns:\n",
    "    print(\" {} - {} different values: {}\".format(col, len(data1[col].unique()), data1[col].unique()))"
   ]
  },
  {
   "cell_type": "markdown",
   "metadata": {},
   "source": [
    "### Variables Coding\n",
    "- enrollee_id: We'll get rid of this one as it doesn't tell anything\n",
    "- city: Could have predictive power, but we would have to do one-hot-encoding as the city number is arbitrary and not ordinal. That would add 122 new explanatory variables which is not practical, so it will be easier to remove it\n",
    "- city_development_index: Continuous variable which we'll keep. In fact, this one might capture all the explanatory power the 'city' variable could have.\n",
    "- gender: We'll apply one-hot encoding. We'll turn all the NaNs to 'Other', and we'll code it with a dummy variable for 'Male' and 'Female', and 'Other' will be the baseline (when both are 0)\n",
    "- relevent_experience: Binary variable, will be coded as 0 for no experience and 1 for experience\n",
    "- enrolled_university: We will convert the NaNs to 'no enrollment. Variable will be one-hot-encoded with two dummies, one for part-time enrollment and one for full-time enrollment, both will be set to 0 for the baseline of 'no enrollment'\n",
    "- education_level: In this case we'll remove all the NaNs because it is not so straightforward to assign them to any of the categories. This variable will be coded as a categorical ordinal variable with integers, with 0 being 'Primary School' and 4 'PhD'\n",
    "- major_discipline: Will remove NaNs as well as assigning them is not straightforward. This will be coded with one-hot-encoding with dummy variables. 'No major' will be the baseline for which all the columns of all other categories will be set to 0.\n",
    "- experience: This one will be coded as a categorical ordinal variable. NaNs willl be assigned to <1. Making it discrete could be an option but values of '>20' are not suited.\n",
    "- company_size: Will be coded as categorical ordinal. NaNs will be removed\n",
    "- company_type: One-hot encoding with dummy variables. Other will be baseline. NaNs will be removed\n",
    "- last_new_job: Will be coded as categorical ordinal. Never and NaN will be set to 0\n",
    "- training_hours: Will be left as is as a discrete variable\n",
    "- target: Binary variable"
   ]
  },
  {
   "cell_type": "markdown",
   "metadata": {},
   "source": [
    "We'll get rid of the first two variables before we start inspecting the nans"
   ]
  },
  {
   "cell_type": "code",
   "execution_count": 775,
   "metadata": {},
   "outputs": [],
   "source": [
    "data1.drop(labels = ['enrollee_id', 'city'], axis=1, inplace = True)\n",
    "data2.drop(labels = ['enrollee_id', 'city'], axis=1, inplace = True)"
   ]
  },
  {
   "cell_type": "markdown",
   "metadata": {},
   "source": [
    "### What to do with the nans?"
   ]
  },
  {
   "cell_type": "code",
   "execution_count": 776,
   "metadata": {},
   "outputs": [
    {
     "name": "stdout",
     "output_type": "stream",
     "text": [
      "Training dataset: 10203\n",
      "Test dataset: 1110\n"
     ]
    }
   ],
   "source": [
    "print(\"Training dataset: {}\".format(sum([True for idx,row in data1.iterrows() if any(row.isnull())])))\n",
    "print(\"Test dataset: {}\".format(sum([True for idx,row in data2.iterrows() if any(row.isnull())])))"
   ]
  },
  {
   "cell_type": "code",
   "execution_count": 777,
   "metadata": {
    "scrolled": false
   },
   "outputs": [
    {
     "data": {
      "text/plain": [
       "city_development_index       0\n",
       "gender                    4508\n",
       "relevent_experience          0\n",
       "enrolled_university        386\n",
       "education_level            460\n",
       "major_discipline          2813\n",
       "experience                  65\n",
       "company_size              5938\n",
       "company_type              6140\n",
       "last_new_job               423\n",
       "training_hours               0\n",
       "target                       0\n",
       "dtype: int64"
      ]
     },
     "execution_count": 777,
     "metadata": {},
     "output_type": "execute_result"
    }
   ],
   "source": [
    "data1.isnull().sum()"
   ]
  },
  {
   "cell_type": "code",
   "execution_count": 778,
   "metadata": {},
   "outputs": [
    {
     "data": {
      "text/plain": [
       "city_development_index      0\n",
       "gender                    508\n",
       "relevent_experience         0\n",
       "enrolled_university        31\n",
       "education_level            52\n",
       "major_discipline          312\n",
       "experience                  5\n",
       "company_size              622\n",
       "company_type              634\n",
       "last_new_job               40\n",
       "training_hours              0\n",
       "dtype: int64"
      ]
     },
     "execution_count": 778,
     "metadata": {},
     "output_type": "execute_result"
    }
   ],
   "source": [
    "data2.isnull().sum()"
   ]
  },
  {
   "cell_type": "markdown",
   "metadata": {},
   "source": [
    "### Proportion observations with at least 1 nan\n",
    "- Training set: 10203 of ~19000 \n",
    "- Test set: 1110 of ~2100\n",
    "\n",
    "There are variables like gender, company_size and company_type that have roughly 1/4th of missing values or more.\n",
    "For certain variables, the nans can be assumed to be one of the values that indicates the lowest level by logic, as indicated above, without a high risk of being wrong (for example experience or enrolled_university).\n",
    "\n",
    "For the rest, assigning them to a specific value, the average, or other common heuristic would be quite arbitray, especially with large amounts of nans. Removing all these observations would leave us with less than half of the original dataset, so that is also a bad solution.\n",
    "\n",
    "First we'll fill in the nans that can be assumed logically to be the lowest category. Then, we'll fit a regression in a smaller dataset without *any* nans to see which categories of the variables have more predictive power and see how we can deal with them based on that.\n",
    "\n",
    "Ideally, we'll regress the variables with large amounts of nans on the rest of variables (including the original target) and will fill the nans with their predicted values.\n",
    "\n",
    "Then, we'll predict the original target variable again with the enlarged dataset.\n"
   ]
  },
  {
   "cell_type": "markdown",
   "metadata": {},
   "source": [
    "There are 3 variables with relatively low amount of nans that can be filled based on logic. There is one fourth, education level, with a low amount of nans and that can't be filled by logic. This is the only one for which we'll remove the rows with nans, as the low amount of entries does not justify spending time in predicting them, unlike those with 25% of missing values."
   ]
  },
  {
   "cell_type": "markdown",
   "metadata": {},
   "source": [
    "## Checking nan variables to be filled directly: enrolled_university, experience, last_new_job, education_level, major_discipline"
   ]
  },
  {
   "cell_type": "markdown",
   "metadata": {},
   "source": [
    "Now we'll start fixing the nans for the three variables for which we can do so easily, and one-hot encode them"
   ]
  },
  {
   "cell_type": "markdown",
   "metadata": {},
   "source": [
    "### enrolled_university:\n",
    "- 386 nans\n",
    "- 'no_enrollment' 'Full time course' nan 'Part time course'"
   ]
  },
  {
   "cell_type": "code",
   "execution_count": 779,
   "metadata": {},
   "outputs": [
    {
     "name": "stdout",
     "output_type": "stream",
     "text": [
      "Current Values: ['no_enrollment' 'Full time course' nan 'Part time course']\n"
     ]
    },
    {
     "data": {
      "text/plain": [
       "count             18772\n",
       "unique                3\n",
       "top       no_enrollment\n",
       "freq              13817\n",
       "Name: enrolled_university, dtype: object"
      ]
     },
     "execution_count": 779,
     "metadata": {},
     "output_type": "execute_result"
    }
   ],
   "source": [
    "print(\"Current Values: {}\".format(data1.enrolled_university.unique()))\n",
    "data1.enrolled_university.describe()"
   ]
  },
  {
   "cell_type": "code",
   "execution_count": 780,
   "metadata": {
    "scrolled": true
   },
   "outputs": [
    {
     "name": "stdout",
     "output_type": "stream",
     "text": [
      "Full time course: 3757\n",
      "Part time course: 1198\n",
      "No enrollment: 13817\n"
     ]
    }
   ],
   "source": [
    "print(\"Full time course: {}\".format((data1.enrolled_university == 'Full time course').sum()))\n",
    "print(\"Part time course: {}\".format((data1.enrolled_university == 'Part time course').sum()))\n",
    "print(\"No enrollment: {}\".format((data1.enrolled_university == 'no_enrollment').sum()))"
   ]
  },
  {
   "cell_type": "markdown",
   "metadata": {},
   "source": [
    "The class 'no_enrollment' is the most typical one by an overwhelming difference, so assigning the nans to this one does not seem risky or arbitrary, espacially since it makes logical sense to assing missing value / 'not applicable(s)' to absence of enrollemnt"
   ]
  },
  {
   "cell_type": "code",
   "execution_count": 781,
   "metadata": {},
   "outputs": [],
   "source": [
    "data1.loc[data1.enrolled_university.isna(), 'enrolled_university'] = 'no_enrollment'\n",
    "data2.loc[data2.enrolled_university.isna(), 'enrolled_university'] = 'no_enrollment'"
   ]
  },
  {
   "cell_type": "markdown",
   "metadata": {},
   "source": [
    "##### One-hot Encoding for the Variable"
   ]
  },
  {
   "cell_type": "code",
   "execution_count": 782,
   "metadata": {},
   "outputs": [
    {
     "name": "stdout",
     "output_type": "stream",
     "text": [
      "Category columns by order: \n",
      "\n",
      "[array(['Full time course', 'Part time course', 'no_enrollment'],\n",
      "      dtype=object)] \n",
      "\n",
      "The last one is 0 for all columns\n"
     ]
    }
   ],
   "source": [
    "enc_univ = OneHotEncoder(drop = ['no_enrollment'], sparse = False)\n",
    "univ_code1 = enc_univ.fit_transform(np.asarray(data1['enrolled_university']).reshape(-1, 1))\n",
    "univ_code2 = enc_univ.fit_transform(np.asarray(data2['enrolled_university']).reshape(-1, 1))\n",
    "print(\"Category columns by order: \\n\\n{} \\n\\nThe last one is 0 for all columns\".format(enc_univ.categories_))"
   ]
  },
  {
   "cell_type": "code",
   "execution_count": 783,
   "metadata": {},
   "outputs": [],
   "source": [
    "univcode_df1 = pd.DataFrame(univ_code1, columns = ['Full time course', 'Part time course'])\n",
    "univcode_df2 = pd.DataFrame(univ_code2, columns = ['Full time course', 'Part time course'])\n",
    "location = data2.columns.get_loc('enrolled_university')\n",
    "data1.insert(location, column = 'Full time course', value = univcode_df1['Full time course'])\n",
    "data1.insert(location+1, column = 'Part time course', value = univcode_df1['Part time course'])\n",
    "data2.insert(location, column = 'Full time course', value = univcode_df2['Full time course'])\n",
    "data2.insert(location+1, column = 'Part time course', value = univcode_df2['Part time course'])\n",
    "data1.drop('enrolled_university', axis = 1, inplace = True)\n",
    "data2.drop('enrolled_university', axis = 1, inplace = True)"
   ]
  },
  {
   "cell_type": "markdown",
   "metadata": {},
   "source": [
    "### experience:\n",
    "- 65 nans\n",
    "- numerical discrete variable with numbers from 1 to 20, and <1 and >20\n"
   ]
  },
  {
   "cell_type": "code",
   "execution_count": 784,
   "metadata": {
    "scrolled": true
   },
   "outputs": [
    {
     "name": "stdout",
     "output_type": "stream",
     "text": [
      "Current Values: ['>20' '15' '5' '<1' '11' '13' '7' '17' '2' '16' '1' '4' '10' '14' '18'\n",
      " '19' '12' '3' '6' '9' '8' '20' nan]\n"
     ]
    },
    {
     "data": {
      "text/plain": [
       "count     19093\n",
       "unique       22\n",
       "top         >20\n",
       "freq       3286\n",
       "Name: experience, dtype: object"
      ]
     },
     "execution_count": 784,
     "metadata": {},
     "output_type": "execute_result"
    }
   ],
   "source": [
    "print(\"Current Values: {}\".format(data1.experience.unique()))\n",
    "data1.experience.describe()"
   ]
  },
  {
   "cell_type": "markdown",
   "metadata": {},
   "source": [
    "The value '>20' is a string and can't be coded like that into a discrete variable, and picking a number for a categorical ordinal value is also not ideal since the variable is numeric.\n",
    "\n",
    "We'll leve a discrete variable with values 0-20 (including <1), and add a dummy variables for '>20' years of experience."
   ]
  },
  {
   "cell_type": "code",
   "execution_count": 785,
   "metadata": {},
   "outputs": [],
   "source": [
    "location = data1.columns.get_loc('experience')\n",
    "data1.insert(location, column = '>20y experience', value = np.zeros(data1.shape[0]))\n",
    "data1.loc[data1.experience == '>20', '>20y experience'] = 1\n",
    "data2.insert(location, column = '>20y experience', value = np.zeros(data2.shape[0]))\n",
    "data2.loc[data2.experience == '>20', '>20y experience'] = 1"
   ]
  },
  {
   "cell_type": "code",
   "execution_count": 786,
   "metadata": {},
   "outputs": [],
   "source": [
    "data1.loc[data1.experience == ('<1') , 'experience'] = 0\n",
    "data1.loc[data1.experience == ('>20') , 'experience'] = 0\n",
    "data2.loc[data2.experience == ('<1') , 'experience'] = 0\n",
    "data2.loc[data2.experience == ('>20') , 'experience'] = 0"
   ]
  },
  {
   "cell_type": "code",
   "execution_count": 787,
   "metadata": {},
   "outputs": [],
   "source": [
    "data1.experience = pd.to_numeric(data1.experience)\n",
    "data2.experience = pd.to_numeric(data2.experience)"
   ]
  },
  {
   "cell_type": "markdown",
   "metadata": {},
   "source": [
    "To decide what to do with the nans we'll look at the most typical values, mean and median"
   ]
  },
  {
   "cell_type": "code",
   "execution_count": 788,
   "metadata": {},
   "outputs": [
    {
     "data": {
      "text/plain": [
       "count    19093.000000\n",
       "mean         6.485937\n",
       "std          5.474889\n",
       "min          0.000000\n",
       "25%          2.000000\n",
       "50%          5.000000\n",
       "75%         10.000000\n",
       "max         20.000000\n",
       "Name: experience, dtype: float64"
      ]
     },
     "execution_count": 788,
     "metadata": {},
     "output_type": "execute_result"
    }
   ],
   "source": [
    "data1.experience.describe(percentiles=[0.25, 0.5, 0.75])"
   ]
  },
  {
   "cell_type": "code",
   "execution_count": 789,
   "metadata": {},
   "outputs": [
    {
     "data": {
      "text/plain": [
       "0.0     0.198768\n",
       "5.0     0.074642\n",
       "4.0     0.073233\n",
       "3.0     0.070675\n",
       "6.0     0.063472\n",
       "2.0     0.058827\n",
       "7.0     0.053659\n",
       "10.0    0.051415\n",
       "9.0     0.051154\n",
       "8.0     0.041862\n",
       "15.0    0.035807\n",
       "11.0    0.034659\n",
       "14.0    0.030588\n",
       "1.0     0.028656\n",
       "16.0    0.026516\n",
       "12.0    0.025786\n",
       "13.0    0.020827\n",
       "17.0    0.017852\n",
       "19.0    0.015868\n",
       "18.0    0.014615\n",
       "20.0    0.007725\n",
       "Name: experience, dtype: float64"
      ]
     },
     "execution_count": 789,
     "metadata": {},
     "output_type": "execute_result"
    }
   ],
   "source": [
    "data1.experience.value_counts()/len(data1.experience)"
   ]
  },
  {
   "cell_type": "code",
   "execution_count": 790,
   "metadata": {},
   "outputs": [
    {
     "data": {
      "text/plain": [
       "count    19158.000000\n",
       "mean         0.171521\n",
       "std          0.376973\n",
       "min          0.000000\n",
       "25%          0.000000\n",
       "50%          0.000000\n",
       "75%          0.000000\n",
       "max          1.000000\n",
       "Name: >20y experience, dtype: float64"
      ]
     },
     "execution_count": 790,
     "metadata": {},
     "output_type": "execute_result"
    }
   ],
   "source": [
    "data1['>20y experience'].describe()"
   ]
  },
  {
   "cell_type": "code",
   "execution_count": 791,
   "metadata": {
    "scrolled": true
   },
   "outputs": [
    {
     "data": {
      "text/plain": [
       "65"
      ]
     },
     "execution_count": 791,
     "metadata": {},
     "output_type": "execute_result"
    }
   ],
   "source": [
    "data1.experience.isna().sum()"
   ]
  },
  {
   "cell_type": "code",
   "execution_count": 792,
   "metadata": {
    "scrolled": true
   },
   "outputs": [
    {
     "data": {
      "text/plain": [
       "5"
      ]
     },
     "execution_count": 792,
     "metadata": {},
     "output_type": "execute_result"
    }
   ],
   "source": [
    "data2.experience.isna().sum()"
   ]
  },
  {
   "cell_type": "markdown",
   "metadata": {},
   "source": [
    "2.7% of participants have less than 1 year of experence (The 10.87% shown as 0 in the first variable - 17.1% from the second variable '>20'), 17% have more than 20. there is a large standard deviation on the range from 0 to 20, so assiging nans to the most typical value, the median or mean would seem quite arbitray. Due to the small number of nans it will be easier to get rid of them. Since they are just 65 it is not a huge loss of data."
   ]
  },
  {
   "cell_type": "code",
   "execution_count": 793,
   "metadata": {},
   "outputs": [],
   "source": [
    "data1 = data1.dropna(subset=['experience'])\n",
    "data2 = data2.dropna(subset=['experience'])"
   ]
  },
  {
   "cell_type": "markdown",
   "metadata": {},
   "source": [
    "### last_new_job:\n",
    "- numerical discrete variable with numbers from 1 to 4, and 0 and >4"
   ]
  },
  {
   "cell_type": "code",
   "execution_count": 794,
   "metadata": {},
   "outputs": [
    {
     "name": "stdout",
     "output_type": "stream",
     "text": [
      "Current Values: ['1' '>4' 'never' '4' '3' '2' nan]\n",
      "Nans: 399\n"
     ]
    },
    {
     "data": {
      "text/plain": [
       "count     18694\n",
       "unique        6\n",
       "top           1\n",
       "freq       8019\n",
       "Name: last_new_job, dtype: object"
      ]
     },
     "execution_count": 794,
     "metadata": {},
     "output_type": "execute_result"
    }
   ],
   "source": [
    "print(\"Current Values: {}\\nNans: {}\".format(data1.last_new_job.unique(), data1.last_new_job.isna().sum()))\n",
    "data1.last_new_job.describe()"
   ]
  },
  {
   "cell_type": "markdown",
   "metadata": {},
   "source": [
    "Well follow a similar procedure as with the last variable:\n",
    "- Dummy variable for >4\n",
    "- Numeric Discrete variable for values from 0 to 4\n",
    "\n",
    "We'll have to change 'never' into 0 to make the variable numeric"
   ]
  },
  {
   "cell_type": "code",
   "execution_count": 795,
   "metadata": {},
   "outputs": [],
   "source": [
    "location = data1.columns.get_loc('last_new_job')\n",
    "data1.insert(location, column = '>4y from last job', value = np.zeros(data1.shape[0]))\n",
    "data1.loc[data1.last_new_job == '>4', '>4y from last job'] = 1\n",
    "data1.loc[data1.last_new_job == '>4' , 'last_new_job'] = 0\n",
    "data1.loc[data1.last_new_job == 'never' , 'last_new_job'] = 0\n",
    "\n",
    "data2.insert(location, column = '>4y from last job', value = np.zeros(data2.shape[0]))\n",
    "data2.loc[data2.last_new_job == '>4', '>4y from last job'] = 1\n",
    "data2.loc[data2.last_new_job == '>4' , 'last_new_job'] = 0\n",
    "data2.loc[data2.last_new_job == 'never' , 'last_new_job'] = 0"
   ]
  },
  {
   "cell_type": "code",
   "execution_count": 796,
   "metadata": {},
   "outputs": [],
   "source": [
    "data1.last_new_job = pd.to_numeric(data1.last_new_job)\n",
    "data2.last_new_job = pd.to_numeric(data2.last_new_job)"
   ]
  },
  {
   "cell_type": "code",
   "execution_count": null,
   "metadata": {},
   "outputs": [],
   "source": []
  },
  {
   "cell_type": "code",
   "execution_count": 797,
   "metadata": {
    "scrolled": true
   },
   "outputs": [
    {
     "data": {
      "text/plain": [
       "count    18694.000000\n",
       "mean         1.123034\n",
       "std          1.077061\n",
       "min          0.000000\n",
       "25%          0.000000\n",
       "50%          1.000000\n",
       "75%          2.000000\n",
       "max          4.000000\n",
       "Name: last_new_job, dtype: float64"
      ]
     },
     "execution_count": 797,
     "metadata": {},
     "output_type": "execute_result"
    }
   ],
   "source": [
    "data1.last_new_job.describe(percentiles=[0.25, 0.5, 0.75])"
   ]
  },
  {
   "cell_type": "code",
   "execution_count": 798,
   "metadata": {
    "scrolled": true
   },
   "outputs": [
    {
     "data": {
      "text/plain": [
       "count    19093.000000\n",
       "mean         0.171948\n",
       "std          0.377345\n",
       "min          0.000000\n",
       "25%          0.000000\n",
       "50%          0.000000\n",
       "75%          0.000000\n",
       "max          1.000000\n",
       "Name: >4y from last job, dtype: float64"
      ]
     },
     "execution_count": 798,
     "metadata": {},
     "output_type": "execute_result"
    }
   ],
   "source": [
    "data1['>4y from last job'].describe(percentiles=[0.25, 0.5, 0.75])"
   ]
  },
  {
   "cell_type": "code",
   "execution_count": 799,
   "metadata": {},
   "outputs": [
    {
     "data": {
      "text/plain": [
       "1.0    0.419997\n",
       "0.0    0.299953\n",
       "2.0    0.151731\n",
       "4.0    0.053842\n",
       "3.0    0.053580\n",
       "Name: last_new_job, dtype: float64"
      ]
     },
     "execution_count": 799,
     "metadata": {},
     "output_type": "execute_result"
    }
   ],
   "source": [
    "data1.last_new_job.value_counts()/len(data1.experience)"
   ]
  },
  {
   "cell_type": "markdown",
   "metadata": {},
   "source": [
    "42% spent 1 year between their last and their current job. From those for which we have 0 we have to subtract te 17% who spent more than 4 because they also have the value 0 in the 'last_new_job' variable, so that category has 13%. The rationale behind this encoding is that if the person in question spent more than 4 years between his last job and the current one, the coefficient for 'last_new_job' will be multiplied by 0 and have no effect, whereas the effect of having spent more than 4 years between the current job and the last one will be captured by a separate coefficient.\n",
    "\n",
    "The distribution seems relatively well centered around 1, so we'll assign nans to 1."
   ]
  },
  {
   "cell_type": "code",
   "execution_count": 800,
   "metadata": {},
   "outputs": [],
   "source": [
    "data1.loc[data1.last_new_job.isna(), 'last_new_job'] = 1\n",
    "data2.loc[data2.last_new_job.isna(), 'last_new_job'] = 1"
   ]
  },
  {
   "cell_type": "markdown",
   "metadata": {},
   "source": [
    "### education_level and major_discipline"
   ]
  },
  {
   "cell_type": "markdown",
   "metadata": {},
   "source": [
    "Given we have High school and primary school for education level, there is a chance many of the nans for major discipline come from there. They would have to be assigned to no major if there is a big overlap."
   ]
  },
  {
   "cell_type": "code",
   "execution_count": 801,
   "metadata": {},
   "outputs": [
    {
     "data": {
      "text/plain": [
       "High School       2013\n",
       "Primary School     307\n",
       "Graduate            22\n",
       "Masters              4\n",
       "Name: education_level, dtype: int64"
      ]
     },
     "execution_count": 801,
     "metadata": {},
     "output_type": "execute_result"
    }
   ],
   "source": [
    "data1.loc[data1.loc[:, 'major_discipline'].isna(), 'education_level'].value_counts()"
   ]
  },
  {
   "cell_type": "markdown",
   "metadata": {},
   "source": [
    "The vast majority (~ 80%) of those with a nan in their major have High School education. The second category is Primary School (~ 13%), which for these purposes shouldn't be too different, so nans in major_discipline will be assigned 'no Major'."
   ]
  },
  {
   "cell_type": "code",
   "execution_count": 802,
   "metadata": {
    "scrolled": true
   },
   "outputs": [],
   "source": [
    "data1.loc[(data1.loc[:, 'education_level'] == 'High School'),'major_discipline'] = data1.loc[(data1.loc[:, 'education_level'] == 'High School'),'major_discipline'].replace(np.nan, 'No Major')\n",
    "data1.loc[(data1.loc[:, 'education_level'] == 'Primary School'),'major_discipline'] = data1.loc[(data1.loc[:, 'education_level'] == 'Primary School'),'major_discipline'].replace(np.nan, 'No Major')"
   ]
  },
  {
   "cell_type": "code",
   "execution_count": 803,
   "metadata": {
    "scrolled": true
   },
   "outputs": [],
   "source": [
    "data2.loc[(data2.loc[:, 'education_level'] == 'High School'),'major_discipline'] = data2.loc[(data2.loc[:, 'education_level'] == 'High School'),'major_discipline'].replace(np.nan, 'No Major')\n",
    "data2.loc[(data2.last_new_job.isna() == 'Primary School').values,'major_discipline'] = data2.loc[(data2.last_new_job.isna() == 'Primary School').values,'major_discipline'].replace(np.nan, 'No Major')"
   ]
  },
  {
   "cell_type": "code",
   "execution_count": 804,
   "metadata": {},
   "outputs": [
    {
     "data": {
      "text/plain": [
       "city_development_index       0\n",
       "gender                    4459\n",
       "relevent_experience          0\n",
       "Full time course             0\n",
       "Part time course             0\n",
       "education_level            450\n",
       "major_discipline           476\n",
       ">20y experience              0\n",
       "experience                   0\n",
       "company_size              5915\n",
       "company_type              6104\n",
       ">4y from last job            0\n",
       "last_new_job                 0\n",
       "training_hours               0\n",
       "target                       0\n",
       "dtype: int64"
      ]
     },
     "execution_count": 804,
     "metadata": {},
     "output_type": "execute_result"
    }
   ],
   "source": [
    "data1.isnull().sum()"
   ]
  },
  {
   "cell_type": "markdown",
   "metadata": {},
   "source": [
    "We got rid of many nans. Now for the nans in education level we can check the majors to see if there are more possible replacements"
   ]
  },
  {
   "cell_type": "code",
   "execution_count": 805,
   "metadata": {},
   "outputs": [
    {
     "data": {
      "text/plain": [
       "450"
      ]
     },
     "execution_count": 805,
     "metadata": {},
     "output_type": "execute_result"
    }
   ],
   "source": [
    "data1.loc[data1.loc[:, 'education_level'].isna(), 'major_discipline'].isna().sum()"
   ]
  },
  {
   "cell_type": "code",
   "execution_count": 806,
   "metadata": {},
   "outputs": [
    {
     "data": {
      "text/plain": [
       "array([nan], dtype=object)"
      ]
     },
     "execution_count": 806,
     "metadata": {},
     "output_type": "execute_result"
    }
   ],
   "source": [
    "data1.loc[data1.loc[:, 'education_level'].isna(), 'major_discipline'].unique()"
   ]
  },
  {
   "cell_type": "markdown",
   "metadata": {},
   "source": [
    "All nans in education_level have a nan in major_discipline as well"
   ]
  },
  {
   "cell_type": "code",
   "execution_count": 807,
   "metadata": {},
   "outputs": [
    {
     "data": {
      "text/plain": [
       "array([nan, 'Graduate', 'Masters'], dtype=object)"
      ]
     },
     "execution_count": 807,
     "metadata": {},
     "output_type": "execute_result"
    }
   ],
   "source": [
    "data1.loc[data1.loc[:, 'major_discipline'].isna(), 'education_level'].unique()"
   ]
  },
  {
   "cell_type": "markdown",
   "metadata": {},
   "source": [
    "Some of the observations with a nan in major_discipline have Graduate and Masters as education. They'll be assigned 'Other' as major because is it is the option with the most intuitive sense. There remains a set of 450 observations with nan both in education and major. Following along with the earlier decisions, these will be assigned High School and No Major."
   ]
  },
  {
   "cell_type": "code",
   "execution_count": 808,
   "metadata": {},
   "outputs": [],
   "source": [
    "data1.loc[data1.loc[:, 'education_level'] == 'Graduate', 'major_discipline'] = data1.loc[data1.loc[:, 'education_level'] == 'Graduate', 'major_discipline'].replace(np.nan, 'Other')\n",
    "data2.loc[(data2.loc[:, 'education_level'] == 'Graduate').values, 'major_discipline'] = data2.loc[(data2.loc[:, 'education_level'] == 'Graduate').values, 'major_discipline'].replace(np.nan, 'Other')"
   ]
  },
  {
   "cell_type": "code",
   "execution_count": 809,
   "metadata": {},
   "outputs": [],
   "source": [
    "data1.loc[data1.loc[:, 'education_level'] == 'Masters', 'major_discipline'] = data1.loc[data1.loc[:, 'education_level'] == 'Masters', 'major_discipline'].replace(np.nan, 'Other')\n",
    "data2.loc[(data2.loc[:, 'education_level'] == 'Masters').values, 'major_discipline'] = data2.loc[(data2.loc[:, 'education_level'] == 'Masters').values, 'major_discipline'].replace(np.nan, 'Other')"
   ]
  },
  {
   "cell_type": "code",
   "execution_count": 810,
   "metadata": {},
   "outputs": [],
   "source": [
    "data1.loc[data1.education_level.isna(),'education_level'] = 'High School'\n",
    "data2.loc[data2.education_level.isna(),'education_level'] = 'High School'"
   ]
  },
  {
   "cell_type": "code",
   "execution_count": 811,
   "metadata": {},
   "outputs": [],
   "source": [
    "data1.loc[data1.major_discipline.isna(), 'major_discipline'] = 'No Major'\n",
    "data2.loc[data2.major_discipline.isna(), 'major_discipline'] = 'No Major'"
   ]
  },
  {
   "cell_type": "code",
   "execution_count": 812,
   "metadata": {},
   "outputs": [
    {
     "data": {
      "text/plain": [
       "city_development_index       0\n",
       "gender                    4459\n",
       "relevent_experience          0\n",
       "Full time course             0\n",
       "Part time course             0\n",
       "education_level              0\n",
       "major_discipline             0\n",
       ">20y experience              0\n",
       "experience                   0\n",
       "company_size              5915\n",
       "company_type              6104\n",
       ">4y from last job            0\n",
       "last_new_job                 0\n",
       "training_hours               0\n",
       "target                       0\n",
       "dtype: int64"
      ]
     },
     "execution_count": 812,
     "metadata": {},
     "output_type": "execute_result"
    }
   ],
   "source": [
    "data1.isna().sum()"
   ]
  },
  {
   "cell_type": "code",
   "execution_count": 813,
   "metadata": {},
   "outputs": [
    {
     "data": {
      "text/plain": [
       "(19093, 15)"
      ]
     },
     "execution_count": 813,
     "metadata": {},
     "output_type": "execute_result"
    }
   ],
   "source": [
    "data1.shape"
   ]
  },
  {
   "cell_type": "markdown",
   "metadata": {},
   "source": [
    "So far we have lost ~60 observations only. From here on well get rid of the remaining nans to do the first prediction as outlined at the beginning and based on that we'll come back to make predictions for the missing values of the remaining nan values"
   ]
  },
  {
   "cell_type": "code",
   "execution_count": 814,
   "metadata": {},
   "outputs": [],
   "source": [
    "data1.dropna(subset=['gender', 'company_size', 'company_type'], inplace = True)\n",
    "data2.dropna(subset=['gender', 'company_size', 'company_type'], inplace = True)\n",
    "data1.reset_index(drop = True, inplace = True)\n",
    "data2.reset_index(drop = True, inplace = True)"
   ]
  },
  {
   "cell_type": "markdown",
   "metadata": {},
   "source": [
    "## One-hot Encoding of the remaining variables"
   ]
  },
  {
   "cell_type": "markdown",
   "metadata": {},
   "source": [
    "#### Gender"
   ]
  },
  {
   "cell_type": "code",
   "execution_count": 816,
   "metadata": {},
   "outputs": [
    {
     "data": {
      "text/plain": [
       "array(['Male', 'Female', 'Other'], dtype=object)"
      ]
     },
     "execution_count": 816,
     "metadata": {},
     "output_type": "execute_result"
    }
   ],
   "source": [
    "data1.gender.unique()"
   ]
  },
  {
   "cell_type": "code",
   "execution_count": 817,
   "metadata": {
    "scrolled": true
   },
   "outputs": [
    {
     "name": "stdout",
     "output_type": "stream",
     "text": [
      "Category columns by order: \n",
      "\n",
      "[array(['Female', 'Male', 'Other'], dtype=object)] \n",
      "\n",
      "The last one is 0 for all columns\n"
     ]
    }
   ],
   "source": [
    "enc_gen = OneHotEncoder(drop = ['Other'], sparse = False)\n",
    "gen_code1 = enc_gen.fit_transform(np.asarray(data1['gender']).reshape(-1, 1))\n",
    "gen_code2 = enc_gen.fit_transform(np.asarray(data2['gender']).reshape(-1, 1))\n",
    "print(\"Category columns by order: \\n\\n{} \\n\\nThe last one is 0 for all columns\".format(enc_gen.categories_))"
   ]
  },
  {
   "cell_type": "code",
   "execution_count": 818,
   "metadata": {},
   "outputs": [],
   "source": [
    "gencode_df1 = pd.DataFrame(gen_code1, columns = ['Female', 'Male'])\n",
    "gencode_df2 = pd.DataFrame(gen_code2, columns = ['Female', 'Male'])\n",
    "\n",
    "#gencode_df2 = pd.DataFrame(gencode2, columns = ['Female', 'Male'])\n",
    "\n",
    "\n",
    "location = data1.columns.get_loc('gender')\n",
    "data1.insert(location, column = 'Female', value = gencode_df1['Female'].values)\n",
    "data1.insert(location+1, column = 'Male', value = gencode_df1['Male'].values)\n",
    "data1.drop('gender', axis = 1, inplace = True)\n",
    "\n",
    "data2.insert(location, column = 'Female', value = gencode_df2['Female'].values)\n",
    "data2.insert(location+1, column = 'Male', value = gencode_df2['Male'].values)\n",
    "data2.drop('gender', axis = 1, inplace = True)\n",
    "\n"
   ]
  },
  {
   "cell_type": "markdown",
   "metadata": {},
   "source": [
    "#### Relevant Experience"
   ]
  },
  {
   "cell_type": "code",
   "execution_count": 819,
   "metadata": {},
   "outputs": [
    {
     "data": {
      "text/plain": [
       "array(['No relevent experience', 'Has relevent experience'], dtype=object)"
      ]
     },
     "execution_count": 819,
     "metadata": {},
     "output_type": "execute_result"
    }
   ],
   "source": [
    "data1.relevent_experience.unique()"
   ]
  },
  {
   "cell_type": "code",
   "execution_count": 820,
   "metadata": {},
   "outputs": [],
   "source": [
    "data1.loc[data1.loc[:, 'relevent_experience'] == 'No relevent experience', 'relevent_experience'] = 0\n",
    "data1.loc[data1.loc[:, 'relevent_experience'] == 'Has relevent experience', 'relevent_experience'] = 1\n",
    "data1.relevent_experience = pd.to_numeric(data1.relevent_experience)"
   ]
  },
  {
   "cell_type": "code",
   "execution_count": 821,
   "metadata": {},
   "outputs": [],
   "source": [
    "data2.loc[data2.loc[:, 'relevent_experience'] == 'No relevent experience', 'relevent_experience'] = 0\n",
    "data2.loc[data2.loc[:, 'relevent_experience'] == 'Has relevent experience', 'relevent_experience'] = 1\n",
    "data2.relevent_experience = pd.to_numeric(data2.relevent_experience)"
   ]
  },
  {
   "cell_type": "markdown",
   "metadata": {},
   "source": [
    "#### Education Level"
   ]
  },
  {
   "cell_type": "code",
   "execution_count": 822,
   "metadata": {
    "scrolled": true
   },
   "outputs": [
    {
     "data": {
      "text/plain": [
       "array(['Graduate', 'Masters', 'High School', 'Phd', 'Primary School'],\n",
       "      dtype=object)"
      ]
     },
     "execution_count": 822,
     "metadata": {},
     "output_type": "execute_result"
    }
   ],
   "source": [
    "data1.education_level.unique()"
   ]
  },
  {
   "cell_type": "code",
   "execution_count": 823,
   "metadata": {
    "scrolled": true
   },
   "outputs": [
    {
     "name": "stdout",
     "output_type": "stream",
     "text": [
      "Category columns by order: \n",
      "\n",
      "[array(['Graduate', 'High School', 'Masters', 'Phd', 'Primary School'],\n",
      "      dtype=object)] \n",
      "\n",
      "The last one is 0 for all columns\n"
     ]
    }
   ],
   "source": [
    "enc_edu = OneHotEncoder(drop = ['Primary School'], sparse = False)\n",
    "edu_code1 = enc_edu.fit_transform(np.asarray(data1['education_level']).reshape(-1, 1))\n",
    "edu_code2 = enc_edu.fit_transform(np.asarray(data2['education_level']).reshape(-1, 1))\n",
    "print(\"Category columns by order: \\n\\n{} \\n\\nThe last one is 0 for all columns\".format(enc_edu.categories_))"
   ]
  },
  {
   "cell_type": "code",
   "execution_count": 824,
   "metadata": {},
   "outputs": [],
   "source": [
    "educode_df1 = pd.DataFrame(edu_code1, columns = ['Graduate', 'High School', 'Masters', 'Phd'])\n",
    "educode_df2 = pd.DataFrame(edu_code2, columns = ['Graduate', 'High School', 'Masters', 'Phd'])\n",
    "location = data1.columns.get_loc('education_level')\n",
    "data1.insert(location, column = 'High School', value = educode_df1['High School'].values)\n",
    "data1.insert(location+1, column = 'Graduate', value = educode_df1['Graduate'].values)\n",
    "data1.insert(location+2, column = 'Masters', value = educode_df1['Masters'].values)\n",
    "data1.insert(location+3, column = 'Phd', value = educode_df1['Phd'].values)\n",
    "data1.drop('education_level', axis = 1, inplace = True)\n",
    "\n",
    "data2.insert(location, column = 'High School', value = educode_df2['High School'].values)\n",
    "data2.insert(location+1, column = 'Graduate', value = educode_df2['Graduate'].values)\n",
    "data2.insert(location+2, column = 'Masters', value = educode_df2['Masters'].values)\n",
    "data2.insert(location+3, column = 'Phd', value = educode_df2['Phd'].values)\n",
    "data2.drop('education_level', axis = 1, inplace = True)"
   ]
  },
  {
   "cell_type": "markdown",
   "metadata": {},
   "source": [
    "### major_discipline"
   ]
  },
  {
   "cell_type": "code",
   "execution_count": 825,
   "metadata": {
    "scrolled": true
   },
   "outputs": [
    {
     "data": {
      "text/plain": [
       "array(['STEM', 'No Major', 'Humanities', 'Business Degree', 'Other',\n",
       "       'Arts'], dtype=object)"
      ]
     },
     "execution_count": 825,
     "metadata": {},
     "output_type": "execute_result"
    }
   ],
   "source": [
    "data1.major_discipline.unique()"
   ]
  },
  {
   "cell_type": "code",
   "execution_count": 826,
   "metadata": {
    "scrolled": true
   },
   "outputs": [
    {
     "name": "stdout",
     "output_type": "stream",
     "text": [
      "Category columns by order: \n",
      "\n",
      "[array(['Arts', 'Business Degree', 'Humanities', 'No Major', 'Other',\n",
      "       'STEM'], dtype=object)] \n",
      "\n",
      "'No Major' one is 0 for all columns\n"
     ]
    }
   ],
   "source": [
    "enc_maj = OneHotEncoder(drop = ['No Major'], sparse = False)\n",
    "maj_code1 = enc_maj.fit_transform(np.asarray(data1['major_discipline']).reshape(-1, 1))\n",
    "maj_code2 = enc_maj.fit_transform(np.asarray(data2['major_discipline']).reshape(-1, 1))\n",
    "\n",
    "print(\"Category columns by order: \\n\\n{} \\n\\n'No Major' one is 0 for all columns\".format(enc_maj.categories_))"
   ]
  },
  {
   "cell_type": "code",
   "execution_count": 827,
   "metadata": {},
   "outputs": [],
   "source": [
    "majcode_df1 = pd.DataFrame(maj_code1, columns = ['Arts', 'Business Degree', 'Humanities', 'Other', 'STEM'])\n",
    "location = data1.columns.get_loc('major_discipline')\n",
    "data1.insert(location, column = 'Other_major', value = majcode_df1['Other'].values)\n",
    "data1.insert(location+1, column = 'Arts_major', value = majcode_df1['Arts'].values)\n",
    "data1.insert(location+2, column = 'Humanities_major', value = majcode_df1['Humanities'].values)\n",
    "data1.insert(location+3, column = 'Business_Degree_major', value = majcode_df1['Business Degree'].values)\n",
    "data1.insert(location+4, column = 'STEM_major', value = majcode_df1['STEM'].values)\n",
    "data1.drop('major_discipline', axis = 1, inplace = True)\n",
    "\n",
    "majcode_df2 = pd.DataFrame(maj_code2, columns = ['Arts', 'Business Degree', 'Humanities', 'Other', 'STEM'])\n",
    "data2.insert(location, column = 'Other_major', value = majcode_df2['Other'].values)\n",
    "data2.insert(location+1, column = 'Arts_major', value = majcode_df2['Arts'].values)\n",
    "data2.insert(location+2, column = 'Humanities_major', value = majcode_df2['Humanities'].values)\n",
    "data2.insert(location+3, column = 'Business_Degree_major', value = majcode_df2['Business Degree'].values)\n",
    "data2.insert(location+4, column = 'STEM_major', value = majcode_df2['STEM'].values)\n",
    "data2.drop('major_discipline', axis = 1, inplace = True)"
   ]
  },
  {
   "cell_type": "markdown",
   "metadata": {},
   "source": [
    "#### company_size"
   ]
  },
  {
   "cell_type": "code",
   "execution_count": 828,
   "metadata": {
    "scrolled": true
   },
   "outputs": [
    {
     "data": {
      "text/plain": [
       "array(['50-99', '<10', '5000-9999', '1000-4999', '10/49', '100-500',\n",
       "       '10000+', '500-999'], dtype=object)"
      ]
     },
     "execution_count": 828,
     "metadata": {},
     "output_type": "execute_result"
    }
   ],
   "source": [
    "data1.company_size.unique()"
   ]
  },
  {
   "cell_type": "markdown",
   "metadata": {},
   "source": [
    "Since this one is given in ranges, the value of having a specific number is gone. Therefore, we can code it as a categorical ordinal variable for simplicity, with 0 corresponding to the lowest value (<10) and 7 to the highest (10000+)."
   ]
  },
  {
   "cell_type": "code",
   "execution_count": 829,
   "metadata": {},
   "outputs": [],
   "source": [
    "data1.replace({'company_size': {'<10': 0, '10/49': 1, '50-99': 2, '100-500': 3, '500-999': 4, '1000-4999': 5, '5000-9999': 6, '10000+': 7}}, inplace = True)\n",
    "data2.replace({'company_size': {'<10': 0, '10/49': 1, '50-99': 2, '100-500': 3, '500-999': 4, '1000-4999': 5, '5000-9999': 6, '10000+': 7}}, inplace = True)"
   ]
  },
  {
   "cell_type": "markdown",
   "metadata": {},
   "source": [
    "#### company_type"
   ]
  },
  {
   "cell_type": "code",
   "execution_count": 830,
   "metadata": {},
   "outputs": [
    {
     "data": {
      "text/plain": [
       "array(['Pvt Ltd', 'Funded Startup', 'Early Stage Startup', 'Other',\n",
       "       'Public Sector', 'NGO'], dtype=object)"
      ]
     },
     "execution_count": 830,
     "metadata": {},
     "output_type": "execute_result"
    }
   ],
   "source": [
    "data1.company_type.unique()"
   ]
  },
  {
   "cell_type": "code",
   "execution_count": 831,
   "metadata": {
    "scrolled": true
   },
   "outputs": [
    {
     "name": "stdout",
     "output_type": "stream",
     "text": [
      "Category columns by order: \n",
      "\n",
      "[array(['Early Stage Startup', 'Funded Startup', 'NGO', 'Other',\n",
      "       'Public Sector', 'Pvt Ltd'], dtype=object)] \n",
      "\n",
      "'Other' one is 0 for all columns\n"
     ]
    }
   ],
   "source": [
    "enc_comp = OneHotEncoder(drop = ['Other'], sparse = False)\n",
    "comp_code1 = enc_comp.fit_transform(np.asarray(data1['company_type']).reshape(-1, 1))\n",
    "comp_code2 = enc_comp.fit_transform(np.asarray(data2['company_type']).reshape(-1, 1))\n",
    "print(\"Category columns by order: \\n\\n{} \\n\\n'Other' one is 0 for all columns\".format(enc_comp.categories_))"
   ]
  },
  {
   "cell_type": "code",
   "execution_count": 832,
   "metadata": {},
   "outputs": [],
   "source": [
    "compcode_df1 = pd.DataFrame(comp_code1, columns = ['Early Stage Startup', 'Funded Startup', 'NGO', 'Public Sector', 'Pvt Ltd'])\n",
    "location = data1.columns.get_loc('company_type')\n",
    "data1.insert(location, column = 'NGO', value = compcode_df1['NGO'].values)\n",
    "data1.insert(location+1, column = 'Public_Sector', value = compcode_df1['Public Sector'].values)\n",
    "data1.insert(location+2, column = 'Pvt_Ltd', value = compcode_df1['Pvt Ltd'].values)\n",
    "data1.insert(location+3, column = 'Early_Stage_Startup', value = compcode_df1['Early Stage Startup'].values)\n",
    "data1.insert(location+4, column = 'Funded_Startup', value = compcode_df1['Funded Startup'].values)\n",
    "\n",
    "data1.drop('company_type', axis = 1, inplace = True)\n",
    "\n",
    "compcode_df2 = pd.DataFrame(comp_code2, columns = ['Early Stage Startup', 'Funded Startup', 'NGO', 'Public Sector', 'Pvt Ltd'])\n",
    "data2.insert(location, column = 'NGO', value = compcode_df2['NGO'].values)\n",
    "data2.insert(location+1, column = 'Public_Sector', value = compcode_df2['Public Sector'].values)\n",
    "data2.insert(location+2, column = 'Pvt_Ltd', value = compcode_df2['Pvt Ltd'].values)\n",
    "data2.insert(location+3, column = 'Early_Stage_Startup', value = compcode_df2['Early Stage Startup'].values)\n",
    "data2.insert(location+4, column = 'Funded_Startup', value = compcode_df2['Funded Startup'].values)\n",
    "\n",
    "data2.drop('company_type', axis = 1, inplace = True)"
   ]
  },
  {
   "cell_type": "markdown",
   "metadata": {},
   "source": [
    "Do One-hot encoding for all variables first, then look at correlation"
   ]
  },
  {
   "cell_type": "markdown",
   "metadata": {},
   "source": [
    "For after first regression and classification to check significance, we are goin to predict the missing values for the following variables:\n",
    "- gender\n",
    "- education level\n",
    "- major discipline\n",
    "- company size\n",
    "- company type\n",
    "predict missing values for variables based on the following variables (intuitively):\n",
    "- Predict education level on relevant experience, full and part time course, major discipline, experience years, time from last job, training hours and target\n",
    "- Predict gender from Full/part time course, education level, major discipline, experience, time from last job, training hours and target\n",
    "- Predict major discipline from relevant experience, full/part time, \n",
    "\n",
    "Maybe rather look at correlation, predict first the one with the most correlation, and then add predicted varaibles to predictions of the following ones if they're highly correlated. Although, ideally, independent variables shouldn't be correlated (very low correlation)"
   ]
  },
  {
   "cell_type": "code",
   "execution_count": 65,
   "metadata": {
    "scrolled": true
   },
   "outputs": [
    {
     "data": {
      "text/html": [
       "<div>\n",
       "<style scoped>\n",
       "    .dataframe tbody tr th:only-of-type {\n",
       "        vertical-align: middle;\n",
       "    }\n",
       "\n",
       "    .dataframe tbody tr th {\n",
       "        vertical-align: top;\n",
       "    }\n",
       "\n",
       "    .dataframe thead th {\n",
       "        text-align: right;\n",
       "    }\n",
       "</style>\n",
       "<table border=\"1\" class=\"dataframe\">\n",
       "  <thead>\n",
       "    <tr style=\"text-align: right;\">\n",
       "      <th></th>\n",
       "      <th>city_development_index</th>\n",
       "      <th>Female</th>\n",
       "      <th>Male</th>\n",
       "      <th>relevent_experience</th>\n",
       "      <th>Full time course</th>\n",
       "      <th>Part time course</th>\n",
       "      <th>High School</th>\n",
       "      <th>Graduate</th>\n",
       "      <th>Masters</th>\n",
       "      <th>Phd</th>\n",
       "      <th>...</th>\n",
       "      <th>company_size</th>\n",
       "      <th>NGO</th>\n",
       "      <th>Public_Sector</th>\n",
       "      <th>Pvt_Ltd</th>\n",
       "      <th>Early_Stage_Startup</th>\n",
       "      <th>Funded_Startup</th>\n",
       "      <th>&gt;4y from last job</th>\n",
       "      <th>last_new_job</th>\n",
       "      <th>training_hours</th>\n",
       "      <th>target</th>\n",
       "    </tr>\n",
       "  </thead>\n",
       "  <tbody>\n",
       "    <tr>\n",
       "      <th>city_development_index</th>\n",
       "      <td>1.000000</td>\n",
       "      <td>0.017539</td>\n",
       "      <td>-0.027219</td>\n",
       "      <td>-0.011462</td>\n",
       "      <td>-0.119065</td>\n",
       "      <td>-0.015050</td>\n",
       "      <td>0.064552</td>\n",
       "      <td>-0.072496</td>\n",
       "      <td>0.013935</td>\n",
       "      <td>0.069952</td>\n",
       "      <td>...</td>\n",
       "      <td>0.072305</td>\n",
       "      <td>0.015610</td>\n",
       "      <td>0.058960</td>\n",
       "      <td>-0.022378</td>\n",
       "      <td>-0.074745</td>\n",
       "      <td>0.020592</td>\n",
       "      <td>0.131864</td>\n",
       "      <td>0.004151</td>\n",
       "      <td>-0.005762</td>\n",
       "      <td>-0.411438</td>\n",
       "    </tr>\n",
       "    <tr>\n",
       "      <th>Female</th>\n",
       "      <td>0.017539</td>\n",
       "      <td>1.000000</td>\n",
       "      <td>-0.941155</td>\n",
       "      <td>-0.041742</td>\n",
       "      <td>-0.011740</td>\n",
       "      <td>-0.006758</td>\n",
       "      <td>-0.055693</td>\n",
       "      <td>-0.006300</td>\n",
       "      <td>0.024914</td>\n",
       "      <td>0.046529</td>\n",
       "      <td>...</td>\n",
       "      <td>0.008167</td>\n",
       "      <td>0.029250</td>\n",
       "      <td>0.039332</td>\n",
       "      <td>-0.057583</td>\n",
       "      <td>0.006227</td>\n",
       "      <td>0.025357</td>\n",
       "      <td>-0.033696</td>\n",
       "      <td>0.006849</td>\n",
       "      <td>0.008843</td>\n",
       "      <td>0.001701</td>\n",
       "    </tr>\n",
       "    <tr>\n",
       "      <th>Male</th>\n",
       "      <td>-0.027219</td>\n",
       "      <td>-0.941155</td>\n",
       "      <td>1.000000</td>\n",
       "      <td>0.060050</td>\n",
       "      <td>0.005617</td>\n",
       "      <td>-0.004860</td>\n",
       "      <td>0.039261</td>\n",
       "      <td>0.004968</td>\n",
       "      <td>-0.016835</td>\n",
       "      <td>-0.038725</td>\n",
       "      <td>...</td>\n",
       "      <td>-0.009018</td>\n",
       "      <td>-0.028196</td>\n",
       "      <td>-0.037185</td>\n",
       "      <td>0.056878</td>\n",
       "      <td>-0.003776</td>\n",
       "      <td>-0.028655</td>\n",
       "      <td>0.035343</td>\n",
       "      <td>-0.007786</td>\n",
       "      <td>-0.006308</td>\n",
       "      <td>0.000074</td>\n",
       "    </tr>\n",
       "    <tr>\n",
       "      <th>relevent_experience</th>\n",
       "      <td>-0.011462</td>\n",
       "      <td>-0.041742</td>\n",
       "      <td>0.060050</td>\n",
       "      <td>1.000000</td>\n",
       "      <td>-0.211411</td>\n",
       "      <td>-0.074568</td>\n",
       "      <td>-0.117912</td>\n",
       "      <td>0.067382</td>\n",
       "      <td>0.031151</td>\n",
       "      <td>-0.092708</td>\n",
       "      <td>...</td>\n",
       "      <td>-0.044649</td>\n",
       "      <td>-0.094612</td>\n",
       "      <td>-0.177906</td>\n",
       "      <td>0.118178</td>\n",
       "      <td>-0.002909</td>\n",
       "      <td>0.043416</td>\n",
       "      <td>0.015263</td>\n",
       "      <td>0.033170</td>\n",
       "      <td>0.010369</td>\n",
       "      <td>-0.038980</td>\n",
       "    </tr>\n",
       "    <tr>\n",
       "      <th>Full time course</th>\n",
       "      <td>-0.119065</td>\n",
       "      <td>-0.011740</td>\n",
       "      <td>0.005617</td>\n",
       "      <td>-0.211411</td>\n",
       "      <td>1.000000</td>\n",
       "      <td>-0.088671</td>\n",
       "      <td>0.146231</td>\n",
       "      <td>-0.019884</td>\n",
       "      <td>-0.048268</td>\n",
       "      <td>-0.039227</td>\n",
       "      <td>...</td>\n",
       "      <td>-0.027268</td>\n",
       "      <td>0.025841</td>\n",
       "      <td>0.084963</td>\n",
       "      <td>-0.059400</td>\n",
       "      <td>0.036010</td>\n",
       "      <td>-0.027448</td>\n",
       "      <td>-0.121866</td>\n",
       "      <td>0.011308</td>\n",
       "      <td>0.009093</td>\n",
       "      <td>0.087451</td>\n",
       "    </tr>\n",
       "    <tr>\n",
       "      <th>Part time course</th>\n",
       "      <td>-0.015050</td>\n",
       "      <td>-0.006758</td>\n",
       "      <td>-0.004860</td>\n",
       "      <td>-0.074568</td>\n",
       "      <td>-0.088671</td>\n",
       "      <td>1.000000</td>\n",
       "      <td>0.065596</td>\n",
       "      <td>0.028295</td>\n",
       "      <td>-0.060388</td>\n",
       "      <td>-0.024133</td>\n",
       "      <td>...</td>\n",
       "      <td>-0.011703</td>\n",
       "      <td>0.014754</td>\n",
       "      <td>0.030507</td>\n",
       "      <td>-0.021294</td>\n",
       "      <td>0.024273</td>\n",
       "      <td>-0.022823</td>\n",
       "      <td>-0.051069</td>\n",
       "      <td>0.022088</td>\n",
       "      <td>0.010004</td>\n",
       "      <td>-0.009799</td>\n",
       "    </tr>\n",
       "    <tr>\n",
       "      <th>High School</th>\n",
       "      <td>0.064552</td>\n",
       "      <td>-0.055693</td>\n",
       "      <td>0.039261</td>\n",
       "      <td>-0.117912</td>\n",
       "      <td>0.146231</td>\n",
       "      <td>0.065596</td>\n",
       "      <td>1.000000</td>\n",
       "      <td>-0.372937</td>\n",
       "      <td>-0.161024</td>\n",
       "      <td>-0.045322</td>\n",
       "      <td>...</td>\n",
       "      <td>-0.063256</td>\n",
       "      <td>-0.018881</td>\n",
       "      <td>0.002970</td>\n",
       "      <td>0.008280</td>\n",
       "      <td>0.012536</td>\n",
       "      <td>-0.019675</td>\n",
       "      <td>-0.022765</td>\n",
       "      <td>-0.013505</td>\n",
       "      <td>0.008730</td>\n",
       "      <td>-0.040031</td>\n",
       "    </tr>\n",
       "    <tr>\n",
       "      <th>Graduate</th>\n",
       "      <td>-0.072496</td>\n",
       "      <td>-0.006300</td>\n",
       "      <td>0.004968</td>\n",
       "      <td>0.067382</td>\n",
       "      <td>-0.019884</td>\n",
       "      <td>0.028295</td>\n",
       "      <td>-0.372937</td>\n",
       "      <td>1.000000</td>\n",
       "      <td>-0.785427</td>\n",
       "      <td>-0.221066</td>\n",
       "      <td>...</td>\n",
       "      <td>-0.028882</td>\n",
       "      <td>-0.022183</td>\n",
       "      <td>-0.086116</td>\n",
       "      <td>0.043628</td>\n",
       "      <td>-0.001529</td>\n",
       "      <td>0.024388</td>\n",
       "      <td>-0.027188</td>\n",
       "      <td>0.007194</td>\n",
       "      <td>0.010920</td>\n",
       "      <td>0.045755</td>\n",
       "    </tr>\n",
       "    <tr>\n",
       "      <th>Masters</th>\n",
       "      <td>0.013935</td>\n",
       "      <td>0.024914</td>\n",
       "      <td>-0.016835</td>\n",
       "      <td>0.031151</td>\n",
       "      <td>-0.048268</td>\n",
       "      <td>-0.060388</td>\n",
       "      <td>-0.161024</td>\n",
       "      <td>-0.785427</td>\n",
       "      <td>1.000000</td>\n",
       "      <td>-0.095450</td>\n",
       "      <td>...</td>\n",
       "      <td>0.060207</td>\n",
       "      <td>0.019398</td>\n",
       "      <td>0.039956</td>\n",
       "      <td>-0.016102</td>\n",
       "      <td>-0.002173</td>\n",
       "      <td>-0.017157</td>\n",
       "      <td>0.024547</td>\n",
       "      <td>0.008239</td>\n",
       "      <td>-0.016043</td>\n",
       "      <td>-0.021273</td>\n",
       "    </tr>\n",
       "    <tr>\n",
       "      <th>Phd</th>\n",
       "      <td>0.069952</td>\n",
       "      <td>0.046529</td>\n",
       "      <td>-0.038725</td>\n",
       "      <td>-0.092708</td>\n",
       "      <td>-0.039227</td>\n",
       "      <td>-0.024133</td>\n",
       "      <td>-0.045322</td>\n",
       "      <td>-0.221066</td>\n",
       "      <td>-0.095450</td>\n",
       "      <td>1.000000</td>\n",
       "      <td>...</td>\n",
       "      <td>0.033707</td>\n",
       "      <td>0.042852</td>\n",
       "      <td>0.143616</td>\n",
       "      <td>-0.095956</td>\n",
       "      <td>-0.010151</td>\n",
       "      <td>0.002156</td>\n",
       "      <td>0.057539</td>\n",
       "      <td>-0.022635</td>\n",
       "      <td>0.006733</td>\n",
       "      <td>-0.013314</td>\n",
       "    </tr>\n",
       "    <tr>\n",
       "      <th>Other_major</th>\n",
       "      <td>0.015780</td>\n",
       "      <td>0.013443</td>\n",
       "      <td>-0.013137</td>\n",
       "      <td>-0.018826</td>\n",
       "      <td>-0.003982</td>\n",
       "      <td>-0.008795</td>\n",
       "      <td>-0.038701</td>\n",
       "      <td>0.013520</td>\n",
       "      <td>0.010939</td>\n",
       "      <td>-0.004284</td>\n",
       "      <td>...</td>\n",
       "      <td>-0.008305</td>\n",
       "      <td>-0.001377</td>\n",
       "      <td>0.009305</td>\n",
       "      <td>-0.001009</td>\n",
       "      <td>-0.011847</td>\n",
       "      <td>-0.003175</td>\n",
       "      <td>-0.009863</td>\n",
       "      <td>0.002389</td>\n",
       "      <td>-0.008472</td>\n",
       "      <td>-0.017355</td>\n",
       "    </tr>\n",
       "    <tr>\n",
       "      <th>Arts_major</th>\n",
       "      <td>0.062378</td>\n",
       "      <td>0.041926</td>\n",
       "      <td>-0.045155</td>\n",
       "      <td>-0.006814</td>\n",
       "      <td>-0.033613</td>\n",
       "      <td>-0.000543</td>\n",
       "      <td>-0.031960</td>\n",
       "      <td>0.048242</td>\n",
       "      <td>-0.028162</td>\n",
       "      <td>-0.013332</td>\n",
       "      <td>...</td>\n",
       "      <td>-0.033178</td>\n",
       "      <td>0.018253</td>\n",
       "      <td>0.006610</td>\n",
       "      <td>-0.028958</td>\n",
       "      <td>0.032047</td>\n",
       "      <td>0.002830</td>\n",
       "      <td>-0.001638</td>\n",
       "      <td>0.012220</td>\n",
       "      <td>-0.017131</td>\n",
       "      <td>-0.029127</td>\n",
       "    </tr>\n",
       "    <tr>\n",
       "      <th>Humanities_major</th>\n",
       "      <td>0.095178</td>\n",
       "      <td>0.094640</td>\n",
       "      <td>-0.090485</td>\n",
       "      <td>-0.050965</td>\n",
       "      <td>-0.049502</td>\n",
       "      <td>-0.023813</td>\n",
       "      <td>-0.055504</td>\n",
       "      <td>-0.006154</td>\n",
       "      <td>0.041434</td>\n",
       "      <td>0.000280</td>\n",
       "      <td>...</td>\n",
       "      <td>-0.007449</td>\n",
       "      <td>0.065997</td>\n",
       "      <td>0.019338</td>\n",
       "      <td>-0.047558</td>\n",
       "      <td>-0.017196</td>\n",
       "      <td>0.017646</td>\n",
       "      <td>0.009625</td>\n",
       "      <td>0.006864</td>\n",
       "      <td>0.002747</td>\n",
       "      <td>-0.031133</td>\n",
       "    </tr>\n",
       "    <tr>\n",
       "      <th>Business_Degree_major</th>\n",
       "      <td>0.037970</td>\n",
       "      <td>0.004134</td>\n",
       "      <td>-0.004745</td>\n",
       "      <td>-0.043222</td>\n",
       "      <td>-0.020044</td>\n",
       "      <td>0.003848</td>\n",
       "      <td>-0.036877</td>\n",
       "      <td>0.025526</td>\n",
       "      <td>0.001247</td>\n",
       "      <td>-0.016973</td>\n",
       "      <td>...</td>\n",
       "      <td>0.013623</td>\n",
       "      <td>0.005255</td>\n",
       "      <td>-0.012371</td>\n",
       "      <td>0.016968</td>\n",
       "      <td>-0.024788</td>\n",
       "      <td>-0.002035</td>\n",
       "      <td>0.009896</td>\n",
       "      <td>-0.016331</td>\n",
       "      <td>0.011138</td>\n",
       "      <td>-0.014447</td>\n",
       "    </tr>\n",
       "    <tr>\n",
       "      <th>STEM_major</th>\n",
       "      <td>-0.136047</td>\n",
       "      <td>-0.022256</td>\n",
       "      <td>0.033066</td>\n",
       "      <td>0.137794</td>\n",
       "      <td>-0.047044</td>\n",
       "      <td>-0.030362</td>\n",
       "      <td>-0.599177</td>\n",
       "      <td>0.226591</td>\n",
       "      <td>0.108142</td>\n",
       "      <td>0.048714</td>\n",
       "      <td>...</td>\n",
       "      <td>0.063808</td>\n",
       "      <td>-0.032903</td>\n",
       "      <td>-0.012983</td>\n",
       "      <td>0.025692</td>\n",
       "      <td>-0.000659</td>\n",
       "      <td>0.007668</td>\n",
       "      <td>0.010842</td>\n",
       "      <td>0.007833</td>\n",
       "      <td>0.003977</td>\n",
       "      <td>0.065986</td>\n",
       "    </tr>\n",
       "    <tr>\n",
       "      <th>&gt;20y experience</th>\n",
       "      <td>0.224092</td>\n",
       "      <td>-0.048571</td>\n",
       "      <td>0.051107</td>\n",
       "      <td>0.058247</td>\n",
       "      <td>-0.144619</td>\n",
       "      <td>-0.080630</td>\n",
       "      <td>-0.060105</td>\n",
       "      <td>-0.062880</td>\n",
       "      <td>0.056918</td>\n",
       "      <td>0.132524</td>\n",
       "      <td>...</td>\n",
       "      <td>0.063671</td>\n",
       "      <td>0.001916</td>\n",
       "      <td>0.007375</td>\n",
       "      <td>0.037788</td>\n",
       "      <td>-0.055904</td>\n",
       "      <td>-0.028704</td>\n",
       "      <td>0.317419</td>\n",
       "      <td>-0.129783</td>\n",
       "      <td>-0.011708</td>\n",
       "      <td>-0.118840</td>\n",
       "    </tr>\n",
       "    <tr>\n",
       "      <th>experience</th>\n",
       "      <td>0.031067</td>\n",
       "      <td>-0.016005</td>\n",
       "      <td>0.013622</td>\n",
       "      <td>0.098937</td>\n",
       "      <td>-0.064634</td>\n",
       "      <td>-0.009734</td>\n",
       "      <td>-0.018642</td>\n",
       "      <td>-0.016862</td>\n",
       "      <td>0.050280</td>\n",
       "      <td>-0.050576</td>\n",
       "      <td>...</td>\n",
       "      <td>0.017078</td>\n",
       "      <td>-0.014084</td>\n",
       "      <td>-0.013480</td>\n",
       "      <td>0.007294</td>\n",
       "      <td>-0.018930</td>\n",
       "      <td>0.029080</td>\n",
       "      <td>-0.015358</td>\n",
       "      <td>0.071300</td>\n",
       "      <td>0.010572</td>\n",
       "      <td>-0.041220</td>\n",
       "    </tr>\n",
       "    <tr>\n",
       "      <th>company_size</th>\n",
       "      <td>0.072305</td>\n",
       "      <td>0.008167</td>\n",
       "      <td>-0.009018</td>\n",
       "      <td>-0.044649</td>\n",
       "      <td>-0.027268</td>\n",
       "      <td>-0.011703</td>\n",
       "      <td>-0.063256</td>\n",
       "      <td>-0.028882</td>\n",
       "      <td>0.060207</td>\n",
       "      <td>0.033707</td>\n",
       "      <td>...</td>\n",
       "      <td>1.000000</td>\n",
       "      <td>0.011484</td>\n",
       "      <td>0.104705</td>\n",
       "      <td>0.181412</td>\n",
       "      <td>-0.245978</td>\n",
       "      <td>-0.198869</td>\n",
       "      <td>0.093149</td>\n",
       "      <td>-0.012398</td>\n",
       "      <td>-0.016044</td>\n",
       "      <td>-0.002018</td>\n",
       "    </tr>\n",
       "    <tr>\n",
       "      <th>NGO</th>\n",
       "      <td>0.015610</td>\n",
       "      <td>0.029250</td>\n",
       "      <td>-0.028196</td>\n",
       "      <td>-0.094612</td>\n",
       "      <td>0.025841</td>\n",
       "      <td>0.014754</td>\n",
       "      <td>-0.018881</td>\n",
       "      <td>-0.022183</td>\n",
       "      <td>0.019398</td>\n",
       "      <td>0.042852</td>\n",
       "      <td>...</td>\n",
       "      <td>0.011484</td>\n",
       "      <td>1.000000</td>\n",
       "      <td>-0.052585</td>\n",
       "      <td>-0.357599</td>\n",
       "      <td>-0.043271</td>\n",
       "      <td>-0.061971</td>\n",
       "      <td>0.011038</td>\n",
       "      <td>-0.019281</td>\n",
       "      <td>-0.000419</td>\n",
       "      <td>-0.004785</td>\n",
       "    </tr>\n",
       "    <tr>\n",
       "      <th>Public_Sector</th>\n",
       "      <td>0.058960</td>\n",
       "      <td>0.039332</td>\n",
       "      <td>-0.037185</td>\n",
       "      <td>-0.177906</td>\n",
       "      <td>0.084963</td>\n",
       "      <td>0.030507</td>\n",
       "      <td>0.002970</td>\n",
       "      <td>-0.086116</td>\n",
       "      <td>0.039956</td>\n",
       "      <td>0.143616</td>\n",
       "      <td>...</td>\n",
       "      <td>0.104705</td>\n",
       "      <td>-0.052585</td>\n",
       "      <td>1.000000</td>\n",
       "      <td>-0.461619</td>\n",
       "      <td>-0.055858</td>\n",
       "      <td>-0.079997</td>\n",
       "      <td>0.027719</td>\n",
       "      <td>-0.006281</td>\n",
       "      <td>-0.026579</td>\n",
       "      <td>0.006511</td>\n",
       "    </tr>\n",
       "    <tr>\n",
       "      <th>Pvt_Ltd</th>\n",
       "      <td>-0.022378</td>\n",
       "      <td>-0.057583</td>\n",
       "      <td>0.056878</td>\n",
       "      <td>0.118178</td>\n",
       "      <td>-0.059400</td>\n",
       "      <td>-0.021294</td>\n",
       "      <td>0.008280</td>\n",
       "      <td>0.043628</td>\n",
       "      <td>-0.016102</td>\n",
       "      <td>-0.095956</td>\n",
       "      <td>...</td>\n",
       "      <td>0.181412</td>\n",
       "      <td>-0.357599</td>\n",
       "      <td>-0.461619</td>\n",
       "      <td>1.000000</td>\n",
       "      <td>-0.379857</td>\n",
       "      <td>-0.544006</td>\n",
       "      <td>0.086316</td>\n",
       "      <td>-0.008835</td>\n",
       "      <td>-0.000967</td>\n",
       "      <td>-0.004618</td>\n",
       "    </tr>\n",
       "    <tr>\n",
       "      <th>Early_Stage_Startup</th>\n",
       "      <td>-0.074745</td>\n",
       "      <td>0.006227</td>\n",
       "      <td>-0.003776</td>\n",
       "      <td>-0.002909</td>\n",
       "      <td>0.036010</td>\n",
       "      <td>0.024273</td>\n",
       "      <td>0.012536</td>\n",
       "      <td>-0.001529</td>\n",
       "      <td>-0.002173</td>\n",
       "      <td>-0.010151</td>\n",
       "      <td>...</td>\n",
       "      <td>-0.245978</td>\n",
       "      <td>-0.043271</td>\n",
       "      <td>-0.055858</td>\n",
       "      <td>-0.379857</td>\n",
       "      <td>1.000000</td>\n",
       "      <td>-0.065828</td>\n",
       "      <td>-0.083121</td>\n",
       "      <td>0.000353</td>\n",
       "      <td>0.017438</td>\n",
       "      <td>0.032407</td>\n",
       "    </tr>\n",
       "    <tr>\n",
       "      <th>Funded_Startup</th>\n",
       "      <td>0.020592</td>\n",
       "      <td>0.025357</td>\n",
       "      <td>-0.028655</td>\n",
       "      <td>0.043416</td>\n",
       "      <td>-0.027448</td>\n",
       "      <td>-0.022823</td>\n",
       "      <td>-0.019675</td>\n",
       "      <td>0.024388</td>\n",
       "      <td>-0.017157</td>\n",
       "      <td>0.002156</td>\n",
       "      <td>...</td>\n",
       "      <td>-0.198869</td>\n",
       "      <td>-0.061971</td>\n",
       "      <td>-0.079997</td>\n",
       "      <td>-0.544006</td>\n",
       "      <td>-0.065828</td>\n",
       "      <td>1.000000</td>\n",
       "      <td>-0.109336</td>\n",
       "      <td>0.038322</td>\n",
       "      <td>0.010576</td>\n",
       "      <td>-0.022928</td>\n",
       "    </tr>\n",
       "    <tr>\n",
       "      <th>&gt;4y from last job</th>\n",
       "      <td>0.131864</td>\n",
       "      <td>-0.033696</td>\n",
       "      <td>0.035343</td>\n",
       "      <td>0.015263</td>\n",
       "      <td>-0.121866</td>\n",
       "      <td>-0.051069</td>\n",
       "      <td>-0.022765</td>\n",
       "      <td>-0.027188</td>\n",
       "      <td>0.024547</td>\n",
       "      <td>0.057539</td>\n",
       "      <td>...</td>\n",
       "      <td>0.093149</td>\n",
       "      <td>0.011038</td>\n",
       "      <td>0.027719</td>\n",
       "      <td>0.086316</td>\n",
       "      <td>-0.083121</td>\n",
       "      <td>-0.109336</td>\n",
       "      <td>1.000000</td>\n",
       "      <td>-0.588257</td>\n",
       "      <td>-0.013007</td>\n",
       "      <td>-0.070530</td>\n",
       "    </tr>\n",
       "    <tr>\n",
       "      <th>last_new_job</th>\n",
       "      <td>0.004151</td>\n",
       "      <td>0.006849</td>\n",
       "      <td>-0.007786</td>\n",
       "      <td>0.033170</td>\n",
       "      <td>0.011308</td>\n",
       "      <td>0.022088</td>\n",
       "      <td>-0.013505</td>\n",
       "      <td>0.007194</td>\n",
       "      <td>0.008239</td>\n",
       "      <td>-0.022635</td>\n",
       "      <td>...</td>\n",
       "      <td>-0.012398</td>\n",
       "      <td>-0.019281</td>\n",
       "      <td>-0.006281</td>\n",
       "      <td>-0.008835</td>\n",
       "      <td>0.000353</td>\n",
       "      <td>0.038322</td>\n",
       "      <td>-0.588257</td>\n",
       "      <td>1.000000</td>\n",
       "      <td>0.009591</td>\n",
       "      <td>0.023574</td>\n",
       "    </tr>\n",
       "    <tr>\n",
       "      <th>training_hours</th>\n",
       "      <td>-0.005762</td>\n",
       "      <td>0.008843</td>\n",
       "      <td>-0.006308</td>\n",
       "      <td>0.010369</td>\n",
       "      <td>0.009093</td>\n",
       "      <td>0.010004</td>\n",
       "      <td>0.008730</td>\n",
       "      <td>0.010920</td>\n",
       "      <td>-0.016043</td>\n",
       "      <td>0.006733</td>\n",
       "      <td>...</td>\n",
       "      <td>-0.016044</td>\n",
       "      <td>-0.000419</td>\n",
       "      <td>-0.026579</td>\n",
       "      <td>-0.000967</td>\n",
       "      <td>0.017438</td>\n",
       "      <td>0.010576</td>\n",
       "      <td>-0.013007</td>\n",
       "      <td>0.009591</td>\n",
       "      <td>1.000000</td>\n",
       "      <td>-0.009061</td>\n",
       "    </tr>\n",
       "    <tr>\n",
       "      <th>target</th>\n",
       "      <td>-0.411438</td>\n",
       "      <td>0.001701</td>\n",
       "      <td>0.000074</td>\n",
       "      <td>-0.038980</td>\n",
       "      <td>0.087451</td>\n",
       "      <td>-0.009799</td>\n",
       "      <td>-0.040031</td>\n",
       "      <td>0.045755</td>\n",
       "      <td>-0.021273</td>\n",
       "      <td>-0.013314</td>\n",
       "      <td>...</td>\n",
       "      <td>-0.002018</td>\n",
       "      <td>-0.004785</td>\n",
       "      <td>0.006511</td>\n",
       "      <td>-0.004618</td>\n",
       "      <td>0.032407</td>\n",
       "      <td>-0.022928</td>\n",
       "      <td>-0.070530</td>\n",
       "      <td>0.023574</td>\n",
       "      <td>-0.009061</td>\n",
       "      <td>1.000000</td>\n",
       "    </tr>\n",
       "  </tbody>\n",
       "</table>\n",
       "<p>27 rows × 27 columns</p>\n",
       "</div>"
      ],
      "text/plain": [
       "                        city_development_index    Female      Male  \\\n",
       "city_development_index                1.000000  0.017539 -0.027219   \n",
       "Female                                0.017539  1.000000 -0.941155   \n",
       "Male                                 -0.027219 -0.941155  1.000000   \n",
       "relevent_experience                  -0.011462 -0.041742  0.060050   \n",
       "Full time course                     -0.119065 -0.011740  0.005617   \n",
       "Part time course                     -0.015050 -0.006758 -0.004860   \n",
       "High School                           0.064552 -0.055693  0.039261   \n",
       "Graduate                             -0.072496 -0.006300  0.004968   \n",
       "Masters                               0.013935  0.024914 -0.016835   \n",
       "Phd                                   0.069952  0.046529 -0.038725   \n",
       "Other_major                           0.015780  0.013443 -0.013137   \n",
       "Arts_major                            0.062378  0.041926 -0.045155   \n",
       "Humanities_major                      0.095178  0.094640 -0.090485   \n",
       "Business_Degree_major                 0.037970  0.004134 -0.004745   \n",
       "STEM_major                           -0.136047 -0.022256  0.033066   \n",
       ">20y experience                       0.224092 -0.048571  0.051107   \n",
       "experience                            0.031067 -0.016005  0.013622   \n",
       "company_size                          0.072305  0.008167 -0.009018   \n",
       "NGO                                   0.015610  0.029250 -0.028196   \n",
       "Public_Sector                         0.058960  0.039332 -0.037185   \n",
       "Pvt_Ltd                              -0.022378 -0.057583  0.056878   \n",
       "Early_Stage_Startup                  -0.074745  0.006227 -0.003776   \n",
       "Funded_Startup                        0.020592  0.025357 -0.028655   \n",
       ">4y from last job                     0.131864 -0.033696  0.035343   \n",
       "last_new_job                          0.004151  0.006849 -0.007786   \n",
       "training_hours                       -0.005762  0.008843 -0.006308   \n",
       "target                               -0.411438  0.001701  0.000074   \n",
       "\n",
       "                        relevent_experience  Full time course  \\\n",
       "city_development_index            -0.011462         -0.119065   \n",
       "Female                            -0.041742         -0.011740   \n",
       "Male                               0.060050          0.005617   \n",
       "relevent_experience                1.000000         -0.211411   \n",
       "Full time course                  -0.211411          1.000000   \n",
       "Part time course                  -0.074568         -0.088671   \n",
       "High School                       -0.117912          0.146231   \n",
       "Graduate                           0.067382         -0.019884   \n",
       "Masters                            0.031151         -0.048268   \n",
       "Phd                               -0.092708         -0.039227   \n",
       "Other_major                       -0.018826         -0.003982   \n",
       "Arts_major                        -0.006814         -0.033613   \n",
       "Humanities_major                  -0.050965         -0.049502   \n",
       "Business_Degree_major             -0.043222         -0.020044   \n",
       "STEM_major                         0.137794         -0.047044   \n",
       ">20y experience                    0.058247         -0.144619   \n",
       "experience                         0.098937         -0.064634   \n",
       "company_size                      -0.044649         -0.027268   \n",
       "NGO                               -0.094612          0.025841   \n",
       "Public_Sector                     -0.177906          0.084963   \n",
       "Pvt_Ltd                            0.118178         -0.059400   \n",
       "Early_Stage_Startup               -0.002909          0.036010   \n",
       "Funded_Startup                     0.043416         -0.027448   \n",
       ">4y from last job                  0.015263         -0.121866   \n",
       "last_new_job                       0.033170          0.011308   \n",
       "training_hours                     0.010369          0.009093   \n",
       "target                            -0.038980          0.087451   \n",
       "\n",
       "                        Part time course  High School  Graduate   Masters  \\\n",
       "city_development_index         -0.015050     0.064552 -0.072496  0.013935   \n",
       "Female                         -0.006758    -0.055693 -0.006300  0.024914   \n",
       "Male                           -0.004860     0.039261  0.004968 -0.016835   \n",
       "relevent_experience            -0.074568    -0.117912  0.067382  0.031151   \n",
       "Full time course               -0.088671     0.146231 -0.019884 -0.048268   \n",
       "Part time course                1.000000     0.065596  0.028295 -0.060388   \n",
       "High School                     0.065596     1.000000 -0.372937 -0.161024   \n",
       "Graduate                        0.028295    -0.372937  1.000000 -0.785427   \n",
       "Masters                        -0.060388    -0.161024 -0.785427  1.000000   \n",
       "Phd                            -0.024133    -0.045322 -0.221066 -0.095450   \n",
       "Other_major                    -0.008795    -0.038701  0.013520  0.010939   \n",
       "Arts_major                     -0.000543    -0.031960  0.048242 -0.028162   \n",
       "Humanities_major               -0.023813    -0.055504 -0.006154  0.041434   \n",
       "Business_Degree_major           0.003848    -0.036877  0.025526  0.001247   \n",
       "STEM_major                     -0.030362    -0.599177  0.226591  0.108142   \n",
       ">20y experience                -0.080630    -0.060105 -0.062880  0.056918   \n",
       "experience                     -0.009734    -0.018642 -0.016862  0.050280   \n",
       "company_size                   -0.011703    -0.063256 -0.028882  0.060207   \n",
       "NGO                             0.014754    -0.018881 -0.022183  0.019398   \n",
       "Public_Sector                   0.030507     0.002970 -0.086116  0.039956   \n",
       "Pvt_Ltd                        -0.021294     0.008280  0.043628 -0.016102   \n",
       "Early_Stage_Startup             0.024273     0.012536 -0.001529 -0.002173   \n",
       "Funded_Startup                 -0.022823    -0.019675  0.024388 -0.017157   \n",
       ">4y from last job              -0.051069    -0.022765 -0.027188  0.024547   \n",
       "last_new_job                    0.022088    -0.013505  0.007194  0.008239   \n",
       "training_hours                  0.010004     0.008730  0.010920 -0.016043   \n",
       "target                         -0.009799    -0.040031  0.045755 -0.021273   \n",
       "\n",
       "                             Phd  ...  company_size       NGO  Public_Sector  \\\n",
       "city_development_index  0.069952  ...      0.072305  0.015610       0.058960   \n",
       "Female                  0.046529  ...      0.008167  0.029250       0.039332   \n",
       "Male                   -0.038725  ...     -0.009018 -0.028196      -0.037185   \n",
       "relevent_experience    -0.092708  ...     -0.044649 -0.094612      -0.177906   \n",
       "Full time course       -0.039227  ...     -0.027268  0.025841       0.084963   \n",
       "Part time course       -0.024133  ...     -0.011703  0.014754       0.030507   \n",
       "High School            -0.045322  ...     -0.063256 -0.018881       0.002970   \n",
       "Graduate               -0.221066  ...     -0.028882 -0.022183      -0.086116   \n",
       "Masters                -0.095450  ...      0.060207  0.019398       0.039956   \n",
       "Phd                     1.000000  ...      0.033707  0.042852       0.143616   \n",
       "Other_major            -0.004284  ...     -0.008305 -0.001377       0.009305   \n",
       "Arts_major             -0.013332  ...     -0.033178  0.018253       0.006610   \n",
       "Humanities_major        0.000280  ...     -0.007449  0.065997       0.019338   \n",
       "Business_Degree_major  -0.016973  ...      0.013623  0.005255      -0.012371   \n",
       "STEM_major              0.048714  ...      0.063808 -0.032903      -0.012983   \n",
       ">20y experience         0.132524  ...      0.063671  0.001916       0.007375   \n",
       "experience             -0.050576  ...      0.017078 -0.014084      -0.013480   \n",
       "company_size            0.033707  ...      1.000000  0.011484       0.104705   \n",
       "NGO                     0.042852  ...      0.011484  1.000000      -0.052585   \n",
       "Public_Sector           0.143616  ...      0.104705 -0.052585       1.000000   \n",
       "Pvt_Ltd                -0.095956  ...      0.181412 -0.357599      -0.461619   \n",
       "Early_Stage_Startup    -0.010151  ...     -0.245978 -0.043271      -0.055858   \n",
       "Funded_Startup          0.002156  ...     -0.198869 -0.061971      -0.079997   \n",
       ">4y from last job       0.057539  ...      0.093149  0.011038       0.027719   \n",
       "last_new_job           -0.022635  ...     -0.012398 -0.019281      -0.006281   \n",
       "training_hours          0.006733  ...     -0.016044 -0.000419      -0.026579   \n",
       "target                 -0.013314  ...     -0.002018 -0.004785       0.006511   \n",
       "\n",
       "                         Pvt_Ltd  Early_Stage_Startup  Funded_Startup  \\\n",
       "city_development_index -0.022378            -0.074745        0.020592   \n",
       "Female                 -0.057583             0.006227        0.025357   \n",
       "Male                    0.056878            -0.003776       -0.028655   \n",
       "relevent_experience     0.118178            -0.002909        0.043416   \n",
       "Full time course       -0.059400             0.036010       -0.027448   \n",
       "Part time course       -0.021294             0.024273       -0.022823   \n",
       "High School             0.008280             0.012536       -0.019675   \n",
       "Graduate                0.043628            -0.001529        0.024388   \n",
       "Masters                -0.016102            -0.002173       -0.017157   \n",
       "Phd                    -0.095956            -0.010151        0.002156   \n",
       "Other_major            -0.001009            -0.011847       -0.003175   \n",
       "Arts_major             -0.028958             0.032047        0.002830   \n",
       "Humanities_major       -0.047558            -0.017196        0.017646   \n",
       "Business_Degree_major   0.016968            -0.024788       -0.002035   \n",
       "STEM_major              0.025692            -0.000659        0.007668   \n",
       ">20y experience         0.037788            -0.055904       -0.028704   \n",
       "experience              0.007294            -0.018930        0.029080   \n",
       "company_size            0.181412            -0.245978       -0.198869   \n",
       "NGO                    -0.357599            -0.043271       -0.061971   \n",
       "Public_Sector          -0.461619            -0.055858       -0.079997   \n",
       "Pvt_Ltd                 1.000000            -0.379857       -0.544006   \n",
       "Early_Stage_Startup    -0.379857             1.000000       -0.065828   \n",
       "Funded_Startup         -0.544006            -0.065828        1.000000   \n",
       ">4y from last job       0.086316            -0.083121       -0.109336   \n",
       "last_new_job           -0.008835             0.000353        0.038322   \n",
       "training_hours         -0.000967             0.017438        0.010576   \n",
       "target                 -0.004618             0.032407       -0.022928   \n",
       "\n",
       "                        >4y from last job  last_new_job  training_hours  \\\n",
       "city_development_index           0.131864      0.004151       -0.005762   \n",
       "Female                          -0.033696      0.006849        0.008843   \n",
       "Male                             0.035343     -0.007786       -0.006308   \n",
       "relevent_experience              0.015263      0.033170        0.010369   \n",
       "Full time course                -0.121866      0.011308        0.009093   \n",
       "Part time course                -0.051069      0.022088        0.010004   \n",
       "High School                     -0.022765     -0.013505        0.008730   \n",
       "Graduate                        -0.027188      0.007194        0.010920   \n",
       "Masters                          0.024547      0.008239       -0.016043   \n",
       "Phd                              0.057539     -0.022635        0.006733   \n",
       "Other_major                     -0.009863      0.002389       -0.008472   \n",
       "Arts_major                      -0.001638      0.012220       -0.017131   \n",
       "Humanities_major                 0.009625      0.006864        0.002747   \n",
       "Business_Degree_major            0.009896     -0.016331        0.011138   \n",
       "STEM_major                       0.010842      0.007833        0.003977   \n",
       ">20y experience                  0.317419     -0.129783       -0.011708   \n",
       "experience                      -0.015358      0.071300        0.010572   \n",
       "company_size                     0.093149     -0.012398       -0.016044   \n",
       "NGO                              0.011038     -0.019281       -0.000419   \n",
       "Public_Sector                    0.027719     -0.006281       -0.026579   \n",
       "Pvt_Ltd                          0.086316     -0.008835       -0.000967   \n",
       "Early_Stage_Startup             -0.083121      0.000353        0.017438   \n",
       "Funded_Startup                  -0.109336      0.038322        0.010576   \n",
       ">4y from last job                1.000000     -0.588257       -0.013007   \n",
       "last_new_job                    -0.588257      1.000000        0.009591   \n",
       "training_hours                  -0.013007      0.009591        1.000000   \n",
       "target                          -0.070530      0.023574       -0.009061   \n",
       "\n",
       "                          target  \n",
       "city_development_index -0.411438  \n",
       "Female                  0.001701  \n",
       "Male                    0.000074  \n",
       "relevent_experience    -0.038980  \n",
       "Full time course        0.087451  \n",
       "Part time course       -0.009799  \n",
       "High School            -0.040031  \n",
       "Graduate                0.045755  \n",
       "Masters                -0.021273  \n",
       "Phd                    -0.013314  \n",
       "Other_major            -0.017355  \n",
       "Arts_major             -0.029127  \n",
       "Humanities_major       -0.031133  \n",
       "Business_Degree_major  -0.014447  \n",
       "STEM_major              0.065986  \n",
       ">20y experience        -0.118840  \n",
       "experience             -0.041220  \n",
       "company_size           -0.002018  \n",
       "NGO                    -0.004785  \n",
       "Public_Sector           0.006511  \n",
       "Pvt_Ltd                -0.004618  \n",
       "Early_Stage_Startup     0.032407  \n",
       "Funded_Startup         -0.022928  \n",
       ">4y from last job      -0.070530  \n",
       "last_new_job            0.023574  \n",
       "training_hours         -0.009061  \n",
       "target                  1.000000  \n",
       "\n",
       "[27 rows x 27 columns]"
      ]
     },
     "execution_count": 65,
     "metadata": {},
     "output_type": "execute_result"
    }
   ],
   "source": [
    "data1.corr()"
   ]
  },
  {
   "cell_type": "code",
   "execution_count": 66,
   "metadata": {
    "scrolled": true
   },
   "outputs": [
    {
     "name": "stdout",
     "output_type": "stream",
     "text": [
      "Male                    Female                   -0.941155\n",
      "Female                  Male                     -0.941155\n",
      "Masters                 Graduate                 -0.785427\n",
      "Graduate                Masters                  -0.785427\n",
      "experience              >20y experience          -0.630378\n",
      ">20y experience         experience               -0.630378\n",
      "High School             STEM_major               -0.599177\n",
      "STEM_major              High School              -0.599177\n",
      ">4y from last job       last_new_job             -0.588257\n",
      "last_new_job            >4y from last job        -0.588257\n",
      "Pvt_Ltd                 Funded_Startup           -0.544006\n",
      "Funded_Startup          Pvt_Ltd                  -0.544006\n",
      "Pvt_Ltd                 Public_Sector            -0.461619\n",
      "Public_Sector           Pvt_Ltd                  -0.461619\n",
      "Humanities_major        STEM_major               -0.434972\n",
      "STEM_major              Humanities_major         -0.434972\n",
      "city_development_index  target                   -0.411438\n",
      "target                  city_development_index   -0.411438\n",
      "Early_Stage_Startup     Pvt_Ltd                  -0.379857\n",
      "Pvt_Ltd                 Early_Stage_Startup      -0.379857\n",
      "dtype: float64\n",
      "Pvt_Ltd                 relevent_experience       0.118178\n",
      "relevent_experience     Pvt_Ltd                   0.118178\n",
      "city_development_index  >4y from last job         0.131864\n",
      ">4y from last job       city_development_index    0.131864\n",
      ">20y experience         Phd                       0.132524\n",
      "Phd                     >20y experience           0.132524\n",
      "STEM_major              relevent_experience       0.137794\n",
      "relevent_experience     STEM_major                0.137794\n",
      "Public_Sector           Phd                       0.143616\n",
      "Phd                     Public_Sector             0.143616\n",
      "High School             Full time course          0.146231\n",
      "Full time course        High School               0.146231\n",
      "Pvt_Ltd                 company_size              0.181412\n",
      "company_size            Pvt_Ltd                   0.181412\n",
      "city_development_index  >20y experience           0.224092\n",
      ">20y experience         city_development_index    0.224092\n",
      "STEM_major              Graduate                  0.226591\n",
      "Graduate                STEM_major                0.226591\n",
      ">4y from last job       >20y experience           0.317419\n",
      ">20y experience         >4y from last job         0.317419\n",
      "dtype: float64\n"
     ]
    }
   ],
   "source": [
    "\n",
    "ordered_corr = data1.corr().unstack().sort_values()\n",
    "print(ordered_corr[0:20])\n",
    "print(ordered_corr[682:702])"
   ]
  },
  {
   "cell_type": "markdown",
   "metadata": {},
   "source": [
    "## Logistic Regression"
   ]
  },
  {
   "cell_type": "code",
   "execution_count": 80,
   "metadata": {},
   "outputs": [],
   "source": [
    "from sklearn.model_selection import StratifiedKFold\n",
    "#from sklearn.model_selection import cross_val_score\n",
    "from sklearn import metrics\n",
    "import statsmodels.api as sm"
   ]
  },
  {
   "cell_type": "code",
   "execution_count": 68,
   "metadata": {},
   "outputs": [],
   "source": [
    "predictors = ['city_development_index', 'Female', 'Male', 'relevent_experience',\n",
    "       'Full time course', 'Part time course', 'High School', 'Graduate',\n",
    "       'Masters', 'Phd', 'Other_major', 'Arts_major', 'Humanities_major',\n",
    "       'Business_Degree_major', 'STEM_major', '>20y experience', 'experience',\n",
    "       'company_size', 'NGO', 'Public_Sector', 'Pvt_Ltd',\n",
    "       'Early_Stage_Startup', 'Funded_Startup', '>4y from last job',\n",
    "       'last_new_job', 'training_hours']\n",
    "target = ['target']"
   ]
  },
  {
   "cell_type": "code",
   "execution_count": 78,
   "metadata": {},
   "outputs": [
    {
     "name": "stdout",
     "output_type": "stream",
     "text": [
      "TRAIN: [ 954  961  962 ... 9782 9783 9784] TEST: [  0   1   2   3   4   5   6   7   8   9  10  11  12  13  14  15  16  17\n",
      "  18  19  20  21  22  23  24  25  26  27  28  29  30  31  32  33  34  35\n",
      "  36  37  38  39  40  41  42  43  44  45  46  47  48  49  50  51  52  53\n",
      "  54  55  56  57  58  59  60  61  62  63  64  65  66  67  68  69  70  71\n",
      "  72  73  74  75  76  77  78  79  80  81  82  83  84  85  86  87  88  89\n",
      "  90  91  92  93  94  95  96  97  98  99 100 101 102 103 104 105 106 107\n",
      " 108 109 110 111 112 113 114 115 116 117 118 119 120 121 122 123 124 125\n",
      " 126 127 128 129 130 131 132 133 134 135 136 137 138 139 140 141 142 143\n",
      " 144 145 146 147 148 149 150 151 152 153 154 155 156 157 158 159 160 161\n",
      " 162 163 164 165 166 167 168 169 170 171 172 173 174 175 176 177 178 179\n",
      " 180 181 182 183 184 185 186 187 188 189 190 191 192 193 194 195 196 197\n",
      " 198 199 200 201 202 203 204 205 206 207 208 209 210 211 212 213 214 215\n",
      " 216 217 218 219 220 221 222 223 224 225 226 227 228 229 230 231 232 233\n",
      " 234 235 236 237 238 239 240 241 242 243 244 245 246 247 248 249 250 251\n",
      " 252 253 254 255 256 257 258 259 260 261 262 263 264 265 266 267 268 269\n",
      " 270 271 272 273 274 275 276 277 278 279 280 281 282 283 284 285 286 287\n",
      " 288 289 290 291 292 293 294 295 296 297 298 299 300 301 302 303 304 305\n",
      " 306 307 308 309 310 311 312 313 314 315 316 317 318 319 320 321 322 323\n",
      " 324 325 326 327 328 329 330 331 332 333 334 335 336 337 338 339 340 341\n",
      " 342 343 344 345 346 347 348 349 350 351 352 353 354 355 356 357 358 359\n",
      " 360 361 362 363 364 365 366 367 368 369 370 371 372 373 374 375 376 377\n",
      " 378 379 380 381 382 383 384 385 386 387 388 389 390 391 392 393 394 395\n",
      " 396 397 398 399 400 401 402 403 404 405 406 407 408 409 410 411 412 413\n",
      " 414 415 416 417 418 419 420 421 422 423 424 425 426 427 428 429 430 431\n",
      " 432 433 434 435 436 437 438 439 440 441 442 443 444 445 446 447 448 449\n",
      " 450 451 452 453 454 455 456 457 458 459 460 461 462 463 464 465 466 467\n",
      " 468 469 470 471 472 473 474 475 476 477 478 479 480 481 482 483 484 485\n",
      " 486 487 488 489 490 491 492 493 494 495 496 497 498 499 500 501 502 503\n",
      " 504 505 506 507 508 509 510 511 512 513 514 515 516 517 518 519 520 521\n",
      " 522 523 524 525 526 527 528 529 530 531 532 533 534 535 536 537 538 539\n",
      " 540 541 542 543 544 545 546 547 548 549 550 551 552 553 554 555 556 557\n",
      " 558 559 560 561 562 563 564 565 566 567 568 569 570 571 572 573 574 575\n",
      " 576 577 578 579 580 581 582 583 584 585 586 587 588 589 590 591 592 593\n",
      " 594 595 596 597 598 599 600 601 602 603 604 605 606 607 608 609 610 611\n",
      " 612 613 614 615 616 617 618 619 620 621 622 623 624 625 626 627 628 629\n",
      " 630 631 632 633 634 635 636 637 638 639 640 641 642 643 644 645 646 647\n",
      " 648 649 650 651 652 653 654 655 656 657 658 659 660 661 662 663 664 665\n",
      " 666 667 668 669 670 671 672 673 674 675 676 677 678 679 680 681 682 683\n",
      " 684 685 686 687 688 689 690 691 692 693 694 695 696 697 698 699 700 701\n",
      " 702 703 704 705 706 707 708 709 710 711 712 713 714 715 716 717 718 719\n",
      " 720 721 722 723 724 725 726 727 728 729 730 731 732 733 734 735 736 737\n",
      " 738 739 740 741 742 743 744 745 746 747 748 749 750 751 752 753 754 755\n",
      " 756 757 758 759 760 761 762 763 764 765 766 767 768 769 770 771 772 773\n",
      " 774 775 776 777 778 779 780 781 782 783 784 785 786 787 788 789 790 791\n",
      " 792 793 794 795 796 797 798 799 800 801 802 803 804 805 806 807 808 809\n",
      " 810 811 812 813 814 815 816 817 818 819 820 821 822 823 824 825 826 827\n",
      " 828 829 830 831 832 833 834 835 836 837 838 839 840 841 842 843 844 845\n",
      " 846 847 848 849 850 851 852 853 854 855 856 857 858 859 860 861 862 863\n",
      " 864 865 866 867 868 869 870 871 872 873 874 875 876 877 878 879 880 881\n",
      " 882 883 884 885 886 887 888 889 890 891 892 893 894 895 896 897 898 899\n",
      " 900 901 902 903 904 905 906 907 908 909 910 911 912 913 914 915 916 917\n",
      " 918 919 920 921 922 923 924 925 926 927 928 929 930 931 932 933 934 935\n",
      " 936 937 938 939 940 941 942 943 944 945 946 947 948 949 950 951 952 953\n",
      " 955 956 957 958 959 960 964 965 966 968 969 971 972 973 974 975 976 977\n",
      " 978 979 980 982 983 985 986]\n",
      "TRAIN: [   0    1    2 ... 9782 9783 9784] TEST: [ 954  961  962  963  967  970  981  984  987  988  989  990  991  992\n",
      "  993  994  995  996  997  998  999 1000 1001 1002 1003 1004 1005 1006\n",
      " 1007 1008 1009 1010 1011 1012 1013 1014 1015 1016 1017 1018 1019 1020\n",
      " 1021 1022 1023 1024 1025 1026 1027 1028 1029 1030 1031 1032 1033 1034\n",
      " 1035 1036 1037 1038 1039 1040 1041 1042 1043 1044 1045 1046 1047 1048\n",
      " 1049 1050 1051 1052 1053 1054 1055 1056 1057 1058 1059 1060 1061 1062\n",
      " 1063 1064 1065 1066 1067 1068 1069 1070 1071 1072 1073 1074 1075 1076\n",
      " 1077 1078 1079 1080 1081 1082 1083 1084 1085 1086 1087 1088 1089 1090\n",
      " 1091 1092 1093 1094 1095 1096 1097 1098 1099 1100 1101 1102 1103 1104\n",
      " 1105 1106 1107 1108 1109 1110 1111 1112 1113 1114 1115 1116 1117 1118\n",
      " 1119 1120 1121 1122 1123 1124 1125 1126 1127 1128 1129 1130 1131 1132\n",
      " 1133 1134 1135 1136 1137 1138 1139 1140 1141 1142 1143 1144 1145 1146\n",
      " 1147 1148 1149 1150 1151 1152 1153 1154 1155 1156 1157 1158 1159 1160\n",
      " 1161 1162 1163 1164 1165 1166 1167 1168 1169 1170 1171 1172 1173 1174\n",
      " 1175 1176 1177 1178 1179 1180 1181 1182 1183 1184 1185 1186 1187 1188\n",
      " 1189 1190 1191 1192 1193 1194 1195 1196 1197 1198 1199 1200 1201 1202\n",
      " 1203 1204 1205 1206 1207 1208 1209 1210 1211 1212 1213 1214 1215 1216\n",
      " 1217 1218 1219 1220 1221 1222 1223 1224 1225 1226 1227 1228 1229 1230\n",
      " 1231 1232 1233 1234 1235 1236 1237 1238 1239 1240 1241 1242 1243 1244\n",
      " 1245 1246 1247 1248 1249 1250 1251 1252 1253 1254 1255 1256 1257 1258\n",
      " 1259 1260 1261 1262 1263 1264 1265 1266 1267 1268 1269 1270 1271 1272\n",
      " 1273 1274 1275 1276 1277 1278 1279 1280 1281 1282 1283 1284 1285 1286\n",
      " 1287 1288 1289 1290 1291 1292 1293 1294 1295 1296 1297 1298 1299 1300\n",
      " 1301 1302 1303 1304 1305 1306 1307 1308 1309 1310 1311 1312 1313 1314\n",
      " 1315 1316 1317 1318 1319 1320 1321 1322 1323 1324 1325 1326 1327 1328\n",
      " 1329 1330 1331 1332 1333 1334 1335 1336 1337 1338 1339 1340 1341 1342\n",
      " 1343 1344 1345 1346 1347 1348 1349 1350 1351 1352 1353 1354 1355 1356\n",
      " 1357 1358 1359 1360 1361 1362 1363 1364 1365 1366 1367 1368 1369 1370\n",
      " 1371 1372 1373 1374 1375 1376 1377 1378 1379 1380 1381 1382 1383 1384\n",
      " 1385 1386 1387 1388 1389 1390 1391 1392 1393 1394 1395 1396 1397 1398\n",
      " 1399 1400 1401 1402 1403 1404 1405 1406 1407 1408 1409 1410 1411 1412\n",
      " 1413 1414 1415 1416 1417 1418 1419 1420 1421 1422 1423 1424 1425 1426\n",
      " 1427 1428 1429 1430 1431 1432 1433 1434 1435 1436 1437 1438 1439 1440\n",
      " 1441 1442 1443 1444 1445 1446 1447 1448 1449 1450 1451 1452 1453 1454\n",
      " 1455 1456 1457 1458 1459 1460 1461 1462 1463 1464 1465 1466 1467 1468\n",
      " 1469 1470 1471 1472 1473 1474 1475 1476 1477 1478 1479 1480 1481 1482\n",
      " 1483 1484 1485 1486 1487 1488 1489 1490 1491 1492 1493 1494 1495 1496\n",
      " 1497 1498 1499 1500 1501 1502 1503 1504 1505 1506 1507 1508 1509 1510\n",
      " 1511 1512 1513 1514 1515 1516 1517 1518 1519 1520 1521 1522 1523 1524\n",
      " 1525 1526 1527 1528 1529 1530 1531 1532 1533 1534 1535 1536 1537 1538\n",
      " 1539 1540 1541 1542 1543 1544 1545 1546 1547 1548 1549 1550 1551 1552\n",
      " 1553 1554 1555 1556 1557 1558 1559 1560 1561 1562 1563 1564 1565 1566\n",
      " 1567 1568 1569 1570 1571 1572 1573 1574 1575 1576 1577 1578 1579 1580\n",
      " 1581 1582 1583 1584 1585 1586 1587 1588 1589 1590 1591 1592 1593 1594\n",
      " 1595 1596 1597 1598 1599 1600 1601 1602 1603 1604 1605 1606 1607 1608\n",
      " 1609 1610 1611 1612 1613 1614 1615 1616 1617 1618 1619 1620 1621 1622\n",
      " 1623 1624 1625 1626 1627 1628 1629 1630 1631 1632 1633 1634 1635 1636\n",
      " 1637 1638 1639 1640 1641 1642 1643 1644 1645 1646 1647 1648 1649 1650\n",
      " 1651 1652 1653 1654 1655 1656 1657 1658 1659 1660 1661 1662 1663 1664\n",
      " 1665 1666 1667 1668 1669 1670 1671 1672 1673 1674 1675 1676 1677 1678\n",
      " 1679 1680 1681 1682 1683 1684 1685 1686 1687 1688 1689 1690 1691 1692\n",
      " 1693 1694 1695 1696 1697 1698 1699 1700 1701 1702 1703 1704 1705 1706\n",
      " 1707 1708 1709 1710 1711 1712 1713 1714 1715 1716 1717 1718 1719 1720\n",
      " 1721 1722 1723 1724 1725 1726 1727 1728 1729 1730 1731 1732 1733 1734\n",
      " 1735 1736 1737 1738 1739 1740 1741 1742 1743 1744 1745 1746 1747 1748\n",
      " 1749 1750 1751 1752 1753 1754 1755 1756 1757 1758 1759 1760 1761 1762\n",
      " 1763 1764 1765 1766 1767 1768 1769 1770 1771 1772 1773 1774 1775 1776\n",
      " 1777 1778 1779 1780 1781 1782 1783 1784 1785 1786 1787 1788 1789 1790\n",
      " 1791 1792 1793 1794 1795 1796 1797 1798 1799 1800 1801 1802 1803 1804\n",
      " 1805 1806 1807 1808 1809 1810 1811 1812 1813 1814 1815 1816 1817 1818\n",
      " 1819 1820 1821 1822 1823 1824 1825 1826 1827 1828 1829 1830 1831 1832\n",
      " 1833 1834 1835 1836 1837 1838 1839 1840 1841 1842 1843 1844 1845 1846\n",
      " 1847 1848 1849 1850 1851 1852 1853 1854 1855 1856 1857 1858 1859 1860\n",
      " 1861 1862 1863 1864 1865 1866 1867 1868 1869 1870 1871 1872 1873 1874\n",
      " 1875 1876 1877 1878 1879 1880 1881 1882 1883 1884 1885 1886 1887 1888\n",
      " 1889 1890 1891 1892 1893 1894 1895 1896 1897 1898 1899 1900 1901 1902\n",
      " 1903 1904 1905 1906 1907 1908 1909 1910 1911 1912 1913 1914 1915 1916\n",
      " 1917 1918 1919 1920 1921 1922 1923 1924 1925 1926 1927 1928 1929 1930\n",
      " 1931 1932 1933 1934 1935 1936 1937 1938 1939 1940 1941 1942 1943 1944\n",
      " 1945 1946 1947 1948 1949 1950 1951 1952 1953 1955 1958 1965 1970]\n",
      "TRAIN: [   0    1    2 ... 9782 9783 9784] TEST: [1954 1956 1957 1959 1960 1961 1962 1963 1964 1966 1967 1968 1969 1971\n",
      " 1972 1973 1974 1975 1976 1977 1978 1979 1980 1981 1982 1983 1984 1985\n",
      " 1986 1987 1988 1989 1990 1991 1992 1993 1994 1995 1996 1997 1998 1999\n",
      " 2000 2001 2002 2003 2004 2005 2006 2007 2008 2009 2010 2011 2012 2013\n",
      " 2014 2015 2016 2017 2018 2019 2020 2021 2022 2023 2024 2025 2026 2027\n",
      " 2028 2029 2030 2031 2032 2033 2034 2035 2036 2037 2038 2039 2040 2041\n",
      " 2042 2043 2044 2045 2046 2047 2048 2049 2050 2051 2052 2053 2054 2055\n",
      " 2056 2057 2058 2059 2060 2061 2062 2063 2064 2065 2066 2067 2068 2069\n",
      " 2070 2071 2072 2073 2074 2075 2076 2077 2078 2079 2080 2081 2082 2083\n",
      " 2084 2085 2086 2087 2088 2089 2090 2091 2092 2093 2094 2095 2096 2097\n",
      " 2098 2099 2100 2101 2102 2103 2104 2105 2106 2107 2108 2109 2110 2111\n",
      " 2112 2113 2114 2115 2116 2117 2118 2119 2120 2121 2122 2123 2124 2125\n",
      " 2126 2127 2128 2129 2130 2131 2132 2133 2134 2135 2136 2137 2138 2139\n",
      " 2140 2141 2142 2143 2144 2145 2146 2147 2148 2149 2150 2151 2152 2153\n",
      " 2154 2155 2156 2157 2158 2159 2160 2161 2162 2163 2164 2165 2166 2167\n",
      " 2168 2169 2170 2171 2172 2173 2174 2175 2176 2177 2178 2179 2180 2181\n",
      " 2182 2183 2184 2185 2186 2187 2188 2189 2190 2191 2192 2193 2194 2195\n",
      " 2196 2197 2198 2199 2200 2201 2202 2203 2204 2205 2206 2207 2208 2209\n",
      " 2210 2211 2212 2213 2214 2215 2216 2217 2218 2219 2220 2221 2222 2223\n",
      " 2224 2225 2226 2227 2228 2229 2230 2231 2232 2233 2234 2235 2236 2237\n",
      " 2238 2239 2240 2241 2242 2243 2244 2245 2246 2247 2248 2249 2250 2251\n",
      " 2252 2253 2254 2255 2256 2257 2258 2259 2260 2261 2262 2263 2264 2265\n",
      " 2266 2267 2268 2269 2270 2271 2272 2273 2274 2275 2276 2277 2278 2279\n",
      " 2280 2281 2282 2283 2284 2285 2286 2287 2288 2289 2290 2291 2292 2293\n",
      " 2294 2295 2296 2297 2298 2299 2300 2301 2302 2303 2304 2305 2306 2307\n",
      " 2308 2309 2310 2311 2312 2313 2314 2315 2316 2317 2318 2319 2320 2321\n",
      " 2322 2323 2324 2325 2326 2327 2328 2329 2330 2331 2332 2333 2334 2335\n",
      " 2336 2337 2338 2339 2340 2341 2342 2343 2344 2345 2346 2347 2348 2349\n",
      " 2350 2351 2352 2353 2354 2355 2356 2357 2358 2359 2360 2361 2362 2363\n",
      " 2364 2365 2366 2367 2368 2369 2370 2371 2372 2373 2374 2375 2376 2377\n",
      " 2378 2379 2380 2381 2382 2383 2384 2385 2386 2387 2388 2389 2390 2391\n",
      " 2392 2393 2394 2395 2396 2397 2398 2399 2400 2401 2402 2403 2404 2405\n",
      " 2406 2407 2408 2409 2410 2411 2412 2413 2414 2415 2416 2417 2418 2419\n",
      " 2420 2421 2422 2423 2424 2425 2426 2427 2428 2429 2430 2431 2432 2433\n",
      " 2434 2435 2436 2437 2438 2439 2440 2441 2442 2443 2444 2445 2446 2447\n",
      " 2448 2449 2450 2451 2452 2453 2454 2455 2456 2457 2458 2459 2460 2461\n",
      " 2462 2463 2464 2465 2466 2467 2468 2469 2470 2471 2472 2473 2474 2475\n",
      " 2476 2477 2478 2479 2480 2481 2482 2483 2484 2485 2486 2487 2488 2489\n",
      " 2490 2491 2492 2493 2494 2495 2496 2497 2498 2499 2500 2501 2502 2503\n",
      " 2504 2505 2506 2507 2508 2509 2510 2511 2512 2513 2514 2515 2516 2517\n",
      " 2518 2519 2520 2521 2522 2523 2524 2525 2526 2527 2528 2529 2530 2531\n",
      " 2532 2533 2534 2535 2536 2537 2538 2539 2540 2541 2542 2543 2544 2545\n",
      " 2546 2547 2548 2549 2550 2551 2552 2553 2554 2555 2556 2557 2558 2559\n",
      " 2560 2561 2562 2563 2564 2565 2566 2567 2568 2569 2570 2571 2572 2573\n",
      " 2574 2575 2576 2577 2578 2579 2580 2581 2582 2583 2584 2585 2586 2587\n",
      " 2588 2589 2590 2591 2592 2593 2594 2595 2596 2597 2598 2599 2600 2601\n",
      " 2602 2603 2604 2605 2606 2607 2608 2609 2610 2611 2612 2613 2614 2615\n",
      " 2616 2617 2618 2619 2620 2621 2622 2623 2624 2625 2626 2627 2628 2629\n",
      " 2630 2631 2632 2633 2634 2635 2636 2637 2638 2639 2640 2641 2642 2643\n",
      " 2644 2645 2646 2647 2648 2649 2650 2651 2652 2653 2654 2655 2656 2657\n",
      " 2658 2659 2660 2661 2662 2663 2664 2665 2666 2667 2668 2669 2670 2671\n",
      " 2672 2673 2674 2675 2676 2677 2678 2679 2680 2681 2682 2683 2684 2685\n",
      " 2686 2687 2688 2689 2690 2691 2692 2693 2694 2695 2696 2697 2698 2699\n",
      " 2700 2701 2702 2703 2704 2705 2706 2707 2708 2709 2710 2711 2712 2713\n",
      " 2714 2715 2716 2717 2718 2719 2720 2721 2722 2723 2724 2725 2726 2727\n",
      " 2728 2729 2730 2731 2732 2733 2734 2735 2736 2737 2738 2739 2740 2741\n",
      " 2742 2743 2744 2745 2746 2747 2748 2749 2750 2751 2752 2753 2754 2755\n",
      " 2756 2757 2758 2759 2760 2761 2762 2763 2764 2765 2766 2767 2768 2769\n",
      " 2770 2771 2772 2773 2774 2775 2776 2777 2778 2779 2780 2781 2782 2783\n",
      " 2784 2785 2786 2787 2788 2789 2790 2791 2793 2796 2797 2798 2799 2800\n",
      " 2801 2802 2803 2804 2805 2806 2807 2808 2811 2812 2813 2814 2815 2816\n",
      " 2817 2818 2819 2820 2821 2822 2823 2824 2825 2827 2828 2829 2830 2832\n",
      " 2833 2834 2835 2836 2838 2839 2840 2841 2842 2843 2844 2845 2847 2848\n",
      " 2849 2851 2852 2853 2854 2856 2857 2858 2859 2860 2861 2862 2863 2864\n",
      " 2865 2866 2867 2868 2869 2871 2872 2873 2874 2875 2876 2879 2880 2881\n",
      " 2882 2883 2884 2885 2887 2888 2889 2890 2891 2892 2893 2894 2895 2897\n",
      " 2898 2899 2901 2902 2903 2904 2906 2907 2908 2909 2910 2911 2912 2913\n",
      " 2914 2915 2916 2917 2918 2920 2921 2922 2923 2925 2926 2927 2928 2929\n",
      " 2930 2931 2932 2933 2934 2935 2936 2937 2939 2940 2941 2942 2943 2945\n",
      " 2946 2948 2949 2950 2951 2952 2953 2954 2955 2956 2957 2958 2959]\n",
      "TRAIN: [   0    1    2 ... 9782 9783 9784] TEST: [2792 2794 2795 2809 2810 2826 2831 2837 2846 2850 2855 2870 2877 2878\n",
      " 2886 2896 2900 2905 2919 2924 2938 2944 2947 2960 2961 2962 2963 2964\n",
      " 2965 2966 2967 2968 2969 2970 2971 2972 2973 2974 2975 2976 2977 2978\n",
      " 2979 2980 2981 2982 2983 2984 2985 2986 2987 2988 2989 2990 2991 2992\n",
      " 2993 2994 2995 2996 2997 2998 2999 3000 3001 3002 3003 3004 3005 3006\n",
      " 3007 3008 3009 3010 3011 3012 3013 3014 3015 3016 3017 3018 3019 3020\n",
      " 3021 3022 3023 3024 3025 3026 3027 3028 3029 3030 3031 3032 3033 3034\n",
      " 3035 3036 3037 3038 3039 3040 3041 3042 3043 3044 3045 3046 3047 3048\n",
      " 3049 3050 3051 3052 3053 3054 3055 3056 3057 3058 3059 3060 3061 3062\n",
      " 3063 3064 3065 3066 3067 3068 3069 3070 3071 3072 3073 3074 3075 3076\n",
      " 3077 3078 3079 3080 3081 3082 3083 3084 3085 3086 3087 3088 3089 3090\n",
      " 3091 3092 3093 3094 3095 3096 3097 3098 3099 3100 3101 3102 3103 3104\n",
      " 3105 3106 3107 3108 3109 3110 3111 3112 3113 3114 3115 3116 3117 3118\n",
      " 3119 3120 3121 3122 3123 3124 3125 3126 3127 3128 3129 3130 3131 3132\n",
      " 3133 3134 3135 3136 3137 3138 3139 3140 3141 3142 3143 3144 3145 3146\n",
      " 3147 3148 3149 3150 3151 3152 3153 3154 3155 3156 3157 3158 3159 3160\n",
      " 3161 3162 3163 3164 3165 3166 3167 3168 3169 3170 3171 3172 3173 3174\n",
      " 3175 3176 3177 3178 3179 3180 3181 3182 3183 3184 3185 3186 3187 3188\n",
      " 3189 3190 3191 3192 3193 3194 3195 3196 3197 3198 3199 3200 3201 3202\n",
      " 3203 3204 3205 3206 3207 3208 3209 3210 3211 3212 3213 3214 3215 3216\n",
      " 3217 3218 3219 3220 3221 3222 3223 3224 3225 3226 3227 3228 3229 3230\n",
      " 3231 3232 3233 3234 3235 3236 3237 3238 3239 3240 3241 3242 3243 3244\n",
      " 3245 3246 3247 3248 3249 3250 3251 3252 3253 3254 3255 3256 3257 3258\n",
      " 3259 3260 3261 3262 3263 3264 3265 3266 3267 3268 3269 3270 3271 3272\n",
      " 3273 3274 3275 3276 3277 3278 3279 3280 3281 3282 3283 3284 3285 3286\n",
      " 3287 3288 3289 3290 3291 3292 3293 3294 3295 3296 3297 3298 3299 3300\n",
      " 3301 3302 3303 3304 3305 3306 3307 3308 3309 3310 3311 3312 3313 3314\n",
      " 3315 3316 3317 3318 3319 3320 3321 3322 3323 3324 3325 3326 3327 3328\n",
      " 3329 3330 3331 3332 3333 3334 3335 3336 3337 3338 3339 3340 3341 3342\n",
      " 3343 3344 3345 3346 3347 3348 3349 3350 3351 3352 3353 3354 3355 3356\n",
      " 3357 3358 3359 3360 3361 3362 3363 3364 3365 3366 3367 3368 3369 3370\n",
      " 3371 3372 3373 3374 3375 3376 3377 3378 3379 3380 3381 3382 3383 3384\n",
      " 3385 3386 3387 3388 3389 3390 3391 3392 3393 3394 3395 3396 3397 3398\n",
      " 3399 3400 3401 3402 3403 3404 3405 3406 3407 3408 3409 3410 3411 3412\n",
      " 3413 3414 3415 3416 3417 3418 3419 3420 3421 3422 3423 3424 3425 3426\n",
      " 3427 3428 3429 3430 3431 3432 3433 3434 3435 3436 3437 3438 3439 3440\n",
      " 3441 3442 3443 3444 3445 3446 3447 3448 3449 3450 3451 3452 3453 3454\n",
      " 3455 3456 3457 3458 3459 3460 3461 3462 3463 3464 3465 3466 3467 3468\n",
      " 3469 3470 3471 3472 3473 3474 3475 3476 3477 3478 3479 3480 3481 3482\n",
      " 3483 3484 3485 3486 3487 3488 3489 3490 3491 3492 3493 3494 3495 3496\n",
      " 3497 3498 3499 3500 3501 3502 3503 3504 3505 3506 3507 3508 3509 3510\n",
      " 3511 3512 3513 3514 3515 3516 3517 3518 3519 3520 3521 3522 3523 3524\n",
      " 3525 3526 3527 3528 3529 3530 3531 3532 3533 3534 3535 3536 3537 3538\n",
      " 3539 3540 3541 3542 3543 3544 3545 3546 3547 3548 3549 3550 3551 3552\n",
      " 3553 3554 3555 3556 3557 3558 3559 3560 3561 3562 3563 3564 3565 3566\n",
      " 3567 3568 3569 3570 3571 3572 3573 3574 3575 3576 3577 3578 3579 3580\n",
      " 3581 3582 3583 3584 3585 3586 3587 3588 3589 3590 3591 3592 3593 3594\n",
      " 3595 3596 3597 3598 3599 3600 3601 3602 3603 3604 3605 3606 3607 3608\n",
      " 3609 3610 3611 3612 3613 3614 3615 3616 3617 3618 3619 3620 3621 3622\n",
      " 3623 3624 3625 3626 3627 3628 3629 3630 3631 3632 3633 3634 3635 3636\n",
      " 3637 3638 3639 3640 3641 3642 3643 3644 3645 3646 3647 3648 3649 3650\n",
      " 3651 3652 3653 3654 3655 3656 3657 3658 3659 3660 3661 3662 3663 3664\n",
      " 3665 3666 3667 3668 3669 3670 3671 3672 3673 3674 3675 3676 3677 3678\n",
      " 3679 3680 3681 3682 3683 3684 3685 3686 3687 3688 3689 3690 3691 3692\n",
      " 3693 3694 3695 3696 3697 3698 3699 3700 3701 3702 3703 3704 3705 3706\n",
      " 3707 3708 3709 3710 3711 3712 3713 3714 3715 3716 3717 3718 3719 3720\n",
      " 3721 3722 3723 3724 3725 3726 3727 3728 3729 3730 3731 3732 3733 3734\n",
      " 3735 3736 3737 3738 3739 3740 3741 3742 3743 3744 3745 3746 3747 3748\n",
      " 3749 3750 3751 3752 3753 3754 3755 3756 3757 3758 3759 3760 3761 3762\n",
      " 3763 3764 3765 3766 3767 3768 3769 3770 3771 3772 3773 3774 3775 3776\n",
      " 3777 3778 3779 3780 3781 3782 3783 3784 3785 3786 3787 3788 3789 3790\n",
      " 3791 3792 3793 3794 3795 3796 3797 3798 3799 3800 3801 3802 3803 3804\n",
      " 3805 3806 3807 3808 3809 3810 3811 3812 3813 3814 3815 3816 3817 3818\n",
      " 3819 3820 3821 3822 3823 3824 3825 3826 3827 3828 3829 3830 3831 3832\n",
      " 3833 3834 3835 3836 3837 3838 3839 3840 3841 3842 3843 3844 3845 3846\n",
      " 3847 3848 3849 3850 3851 3852 3853 3854 3855 3856 3857 3858 3859 3860\n",
      " 3861 3862 3863 3864 3865 3866 3867 3868 3869 3870 3871 3872 3873 3874\n",
      " 3875 3876 3877 3878 3879 3880 3881 3882 3883 3884 3885 3886 3887 3888\n",
      " 3889 3890 3891 3892 3893 3894 3895 3896 3897 3898 3899 3900 3901 3902\n",
      " 3903 3904 3905 3906 3914 3932 3937 3939 3955 3957 3964 3974 3976]\n",
      "TRAIN: [   0    1    2 ... 9782 9783 9784] TEST: [3907 3908 3909 3910 3911 3912 3913 3915 3916 3917 3918 3919 3920 3921\n",
      " 3922 3923 3924 3925 3926 3927 3928 3929 3930 3931 3933 3934 3935 3936\n",
      " 3938 3940 3941 3942 3943 3944 3945 3946 3947 3948 3949 3950 3951 3952\n",
      " 3953 3954 3956 3958 3959 3960 3961 3962 3963 3965 3966 3967 3968 3969\n",
      " 3970 3971 3972 3973 3975 3977 3978 3979 3980 3981 3982 3983 3984 3985\n",
      " 3986 3987 3988 3989 3990 3991 3992 3993 3994 3995 3996 3997 3998 3999\n",
      " 4000 4001 4002 4003 4004 4005 4006 4007 4008 4009 4010 4011 4012 4013\n",
      " 4014 4015 4016 4017 4018 4019 4020 4021 4022 4023 4024 4025 4026 4027\n",
      " 4028 4029 4030 4031 4032 4033 4034 4035 4036 4037 4038 4039 4040 4041\n",
      " 4042 4043 4044 4045 4046 4047 4048 4049 4050 4051 4052 4053 4054 4055\n",
      " 4056 4057 4058 4059 4060 4061 4062 4063 4064 4065 4066 4067 4068 4069\n",
      " 4070 4071 4072 4073 4074 4075 4076 4077 4078 4079 4080 4081 4082 4083\n",
      " 4084 4085 4086 4087 4088 4089 4090 4091 4092 4093 4094 4095 4096 4097\n",
      " 4098 4099 4100 4101 4102 4103 4104 4105 4106 4107 4108 4109 4110 4111\n",
      " 4112 4113 4114 4115 4116 4117 4118 4119 4120 4121 4122 4123 4124 4125\n",
      " 4126 4127 4128 4129 4130 4131 4132 4133 4134 4135 4136 4137 4138 4139\n",
      " 4140 4141 4142 4143 4144 4145 4146 4147 4148 4149 4150 4151 4152 4153\n",
      " 4154 4155 4156 4157 4158 4159 4160 4161 4162 4163 4164 4165 4166 4167\n",
      " 4168 4169 4170 4171 4172 4173 4174 4175 4176 4177 4178 4179 4180 4181\n",
      " 4182 4183 4184 4185 4186 4187 4188 4189 4190 4191 4192 4193 4194 4195\n",
      " 4196 4197 4198 4199 4200 4201 4202 4203 4204 4205 4206 4207 4208 4209\n",
      " 4210 4211 4212 4213 4214 4215 4216 4217 4218 4219 4220 4221 4222 4223\n",
      " 4224 4225 4226 4227 4228 4229 4230 4231 4232 4233 4234 4235 4236 4237\n",
      " 4238 4239 4240 4241 4242 4243 4244 4245 4246 4247 4248 4249 4250 4251\n",
      " 4252 4253 4254 4255 4256 4257 4258 4259 4260 4261 4262 4263 4264 4265\n",
      " 4266 4267 4268 4269 4270 4271 4272 4273 4274 4275 4276 4277 4278 4279\n",
      " 4280 4281 4282 4283 4284 4285 4286 4287 4288 4289 4290 4291 4292 4293\n",
      " 4294 4295 4296 4297 4298 4299 4300 4301 4302 4303 4304 4305 4306 4307\n",
      " 4308 4309 4310 4311 4312 4313 4314 4315 4316 4317 4318 4319 4320 4321\n",
      " 4322 4323 4324 4325 4326 4327 4328 4329 4330 4331 4332 4333 4334 4335\n",
      " 4336 4337 4338 4339 4340 4341 4342 4343 4344 4345 4346 4347 4348 4349\n",
      " 4350 4351 4352 4353 4354 4355 4356 4357 4358 4359 4360 4361 4362 4363\n",
      " 4364 4365 4366 4367 4368 4369 4370 4371 4372 4373 4374 4375 4376 4377\n",
      " 4378 4379 4380 4381 4382 4383 4384 4385 4386 4387 4388 4389 4390 4391\n",
      " 4392 4393 4394 4395 4396 4397 4398 4399 4400 4401 4402 4403 4404 4405\n",
      " 4406 4407 4408 4409 4410 4411 4412 4413 4414 4415 4416 4417 4418 4419\n",
      " 4420 4421 4422 4423 4424 4425 4426 4427 4428 4429 4430 4431 4432 4433\n",
      " 4434 4435 4436 4437 4438 4439 4440 4441 4442 4443 4444 4445 4446 4447\n",
      " 4448 4449 4450 4451 4452 4453 4454 4455 4456 4457 4458 4459 4460 4461\n",
      " 4462 4463 4464 4465 4466 4467 4468 4469 4470 4471 4472 4473 4474 4475\n",
      " 4476 4477 4478 4479 4480 4481 4482 4483 4484 4485 4486 4487 4488 4489\n",
      " 4490 4491 4492 4493 4494 4495 4496 4497 4498 4499 4500 4501 4502 4503\n",
      " 4504 4505 4506 4507 4508 4509 4510 4511 4512 4513 4514 4515 4516 4517\n",
      " 4518 4519 4520 4521 4522 4523 4524 4525 4526 4527 4528 4529 4530 4531\n",
      " 4532 4533 4534 4535 4536 4537 4538 4539 4540 4541 4542 4543 4544 4545\n",
      " 4546 4547 4548 4549 4550 4551 4552 4553 4554 4555 4556 4557 4558 4559\n",
      " 4560 4561 4562 4563 4564 4565 4566 4567 4568 4569 4570 4571 4572 4573\n",
      " 4574 4575 4576 4577 4578 4579 4580 4581 4582 4583 4584 4585 4586 4587\n",
      " 4588 4589 4590 4591 4592 4593 4594 4595 4596 4597 4598 4599 4600 4601\n",
      " 4602 4603 4604 4605 4606 4607 4608 4609 4610 4611 4612 4613 4614 4615\n",
      " 4616 4617 4618 4619 4620 4621 4622 4623 4624 4625 4626 4627 4628 4629\n",
      " 4630 4631 4632 4633 4634 4635 4636 4637 4638 4639 4640 4641 4642 4643\n",
      " 4644 4645 4646 4647 4648 4649 4650 4651 4652 4653 4654 4655 4656 4657\n",
      " 4658 4659 4660 4661 4662 4663 4664 4665 4666 4667 4668 4669 4670 4671\n",
      " 4672 4673 4674 4675 4676 4677 4678 4679 4680 4681 4682 4683 4684 4685\n",
      " 4686 4687 4688 4689 4690 4691 4692 4693 4694 4695 4696 4697 4698 4699\n",
      " 4700 4701 4702 4703 4704 4705 4706 4707 4708 4709 4710 4711 4712 4713\n",
      " 4714 4715 4716 4717 4718 4719 4720 4721 4722 4723 4724 4725 4726 4727\n",
      " 4728 4729 4730 4731 4732 4733 4734 4735 4736 4737 4738 4739 4740 4741\n",
      " 4742 4743 4744 4745 4746 4747 4748 4749 4750 4751 4752 4753 4754 4755\n",
      " 4756 4757 4758 4759 4760 4761 4762 4763 4764 4765 4766 4767 4768 4769\n",
      " 4770 4771 4772 4773 4774 4775 4776 4777 4778 4779 4780 4781 4782 4783\n",
      " 4784 4785 4786 4787 4788 4789 4790 4791 4792 4793 4794 4795 4796 4797\n",
      " 4798 4799 4800 4801 4802 4803 4804 4805 4806 4807 4808 4809 4810 4811\n",
      " 4812 4813 4814 4815 4816 4817 4818 4819 4820 4821 4822 4823 4824 4825\n",
      " 4826 4827 4828 4829 4830 4831 4832 4833 4834 4835 4836 4837 4838 4839\n",
      " 4840 4841 4842 4843 4844 4845 4846 4847 4848 4849 4850 4851 4852 4853\n",
      " 4854 4855 4856 4857 4858 4859 4860 4861 4862 4863 4864 4865 4866 4867\n",
      " 4868 4869 4870 4871 4872 4873 4874 4875 4876 4877 4878 4879 4880 4881\n",
      " 4882 4883 4885 4886 4888 4889 4892 4895 4896 4899 4909 4910 4911]\n",
      "TRAIN: [   0    1    2 ... 9782 9783 9784] TEST: [4884 4887 4890 4891 4893 4894 4897 4898 4900 4901 4902 4903 4904 4905\n",
      " 4906 4907 4908 4912 4913 4914 4915 4916 4917 4918 4919 4920 4921 4922\n",
      " 4923 4924 4925 4926 4927 4928 4929 4930 4931 4932 4933 4934 4935 4936\n",
      " 4937 4938 4939 4940 4941 4942 4943 4944 4945 4946 4947 4948 4949 4950\n",
      " 4951 4952 4953 4954 4955 4956 4957 4958 4959 4960 4961 4962 4963 4964\n",
      " 4965 4966 4967 4968 4969 4970 4971 4972 4973 4974 4975 4976 4977 4978\n",
      " 4979 4980 4981 4982 4983 4984 4985 4986 4987 4988 4989 4990 4991 4992\n",
      " 4993 4994 4995 4996 4997 4998 4999 5000 5001 5002 5003 5004 5005 5006\n",
      " 5007 5008 5009 5010 5011 5012 5013 5014 5015 5016 5017 5018 5019 5020\n",
      " 5021 5022 5023 5024 5025 5026 5027 5028 5029 5030 5031 5032 5033 5034\n",
      " 5035 5036 5037 5038 5039 5040 5041 5042 5043 5044 5045 5046 5047 5048\n",
      " 5049 5050 5051 5052 5053 5054 5055 5056 5057 5058 5059 5060 5061 5062\n",
      " 5063 5064 5065 5066 5067 5068 5069 5070 5071 5072 5073 5074 5075 5076\n",
      " 5077 5078 5079 5080 5081 5082 5083 5084 5085 5086 5087 5088 5089 5090\n",
      " 5091 5092 5093 5094 5095 5096 5097 5098 5099 5100 5101 5102 5103 5104\n",
      " 5105 5106 5107 5108 5109 5110 5111 5112 5113 5114 5115 5116 5117 5118\n",
      " 5119 5120 5121 5122 5123 5124 5125 5126 5127 5128 5129 5130 5131 5132\n",
      " 5133 5134 5135 5136 5137 5138 5139 5140 5141 5142 5143 5144 5145 5146\n",
      " 5147 5148 5149 5150 5151 5152 5153 5154 5155 5156 5157 5158 5159 5160\n",
      " 5161 5162 5163 5164 5165 5166 5167 5168 5169 5170 5171 5172 5173 5174\n",
      " 5175 5176 5177 5178 5179 5180 5181 5182 5183 5184 5185 5186 5187 5188\n",
      " 5189 5190 5191 5192 5193 5194 5195 5196 5197 5198 5199 5200 5201 5202\n",
      " 5203 5204 5205 5206 5207 5208 5209 5210 5211 5212 5213 5214 5215 5216\n",
      " 5217 5218 5219 5220 5221 5222 5223 5224 5225 5226 5227 5228 5229 5230\n",
      " 5231 5232 5233 5234 5235 5236 5237 5238 5239 5240 5241 5242 5243 5244\n",
      " 5245 5246 5247 5248 5249 5250 5251 5252 5253 5254 5255 5256 5257 5258\n",
      " 5259 5260 5261 5262 5263 5264 5265 5266 5267 5268 5269 5270 5271 5272\n",
      " 5273 5274 5275 5276 5277 5278 5279 5280 5281 5282 5283 5284 5285 5286\n",
      " 5287 5288 5289 5290 5291 5292 5293 5294 5295 5296 5297 5298 5299 5300\n",
      " 5301 5302 5303 5304 5305 5306 5307 5308 5309 5310 5311 5312 5313 5314\n",
      " 5315 5316 5317 5318 5319 5320 5321 5322 5323 5324 5325 5326 5327 5328\n",
      " 5329 5330 5331 5332 5333 5334 5335 5336 5337 5338 5339 5340 5341 5342\n",
      " 5343 5344 5345 5346 5347 5348 5349 5350 5351 5352 5353 5354 5355 5356\n",
      " 5357 5358 5359 5360 5361 5362 5363 5364 5365 5366 5367 5368 5369 5370\n",
      " 5371 5372 5373 5374 5375 5376 5377 5378 5379 5380 5381 5382 5383 5384\n",
      " 5385 5386 5387 5388 5389 5390 5391 5392 5393 5394 5395 5396 5397 5398\n",
      " 5399 5400 5401 5402 5403 5404 5405 5406 5407 5408 5409 5410 5411 5412\n",
      " 5413 5414 5415 5416 5417 5418 5419 5420 5421 5422 5423 5424 5425 5426\n",
      " 5427 5428 5429 5430 5431 5432 5433 5434 5435 5436 5437 5438 5439 5440\n",
      " 5441 5442 5443 5444 5445 5446 5447 5448 5449 5450 5451 5452 5453 5454\n",
      " 5455 5456 5457 5458 5459 5460 5461 5462 5463 5464 5465 5466 5467 5468\n",
      " 5469 5470 5471 5472 5473 5474 5475 5476 5477 5478 5479 5480 5481 5482\n",
      " 5483 5484 5485 5486 5487 5488 5489 5490 5491 5492 5493 5494 5495 5496\n",
      " 5497 5498 5499 5500 5501 5502 5503 5504 5505 5506 5507 5508 5509 5510\n",
      " 5511 5512 5513 5514 5515 5516 5517 5518 5519 5520 5521 5522 5523 5524\n",
      " 5525 5526 5527 5528 5529 5530 5531 5532 5533 5534 5535 5536 5537 5538\n",
      " 5539 5540 5541 5542 5543 5544 5545 5546 5547 5548 5549 5550 5551 5552\n",
      " 5553 5554 5555 5556 5557 5558 5559 5560 5561 5562 5563 5564 5565 5566\n",
      " 5567 5568 5569 5570 5571 5572 5573 5574 5575 5576 5577 5578 5579 5580\n",
      " 5581 5582 5583 5584 5585 5586 5587 5588 5589 5590 5591 5592 5593 5594\n",
      " 5595 5596 5597 5598 5599 5600 5601 5602 5603 5604 5605 5606 5607 5608\n",
      " 5609 5610 5611 5612 5613 5614 5615 5616 5617 5618 5619 5620 5621 5622\n",
      " 5623 5624 5625 5626 5627 5628 5629 5630 5631 5632 5633 5634 5635 5636\n",
      " 5637 5638 5639 5640 5641 5642 5643 5644 5645 5646 5647 5648 5649 5650\n",
      " 5651 5652 5653 5654 5655 5656 5657 5658 5659 5660 5661 5662 5663 5664\n",
      " 5665 5666 5667 5668 5669 5670 5671 5672 5673 5674 5675 5676 5677 5678\n",
      " 5679 5680 5681 5682 5683 5684 5685 5686 5687 5688 5689 5690 5691 5692\n",
      " 5693 5694 5695 5696 5697 5698 5699 5700 5701 5702 5703 5704 5705 5706\n",
      " 5707 5708 5709 5710 5711 5712 5713 5714 5715 5716 5717 5718 5719 5720\n",
      " 5721 5722 5723 5724 5725 5726 5727 5728 5729 5730 5731 5732 5733 5734\n",
      " 5735 5736 5737 5738 5739 5740 5741 5742 5743 5744 5745 5746 5747 5748\n",
      " 5749 5750 5751 5752 5753 5754 5755 5756 5757 5758 5759 5760 5761 5762\n",
      " 5763 5764 5765 5766 5767 5768 5769 5770 5771 5772 5773 5774 5775 5776\n",
      " 5777 5778 5779 5780 5781 5782 5783 5784 5785 5786 5787 5788 5789 5790\n",
      " 5791 5792 5793 5794 5795 5796 5797 5798 5799 5800 5801 5802 5803 5804\n",
      " 5805 5806 5807 5808 5809 5810 5811 5812 5813 5814 5815 5816 5817 5818\n",
      " 5819 5820 5821 5822 5823 5824 5825 5826 5827 5828 5829 5830 5831 5832\n",
      " 5833 5834 5835 5836 5837 5838 5839 5840 5841 5842 5843 5844 5845 5846\n",
      " 5847 5848 5849 5850 5851 5852 5853 5854 5855 5856 5857 5858 5859 5860\n",
      " 5861 5862 5863 5864 5865 5866 5867 5873 5878 5885 5906 5911]\n",
      "TRAIN: [   0    1    2 ... 9782 9783 9784] TEST: [5868 5869 5870 5871 5872 5874 5875 5876 5877 5879 5880 5881 5882 5883\n",
      " 5884 5886 5887 5888 5889 5890 5891 5892 5893 5894 5895 5896 5897 5898\n",
      " 5899 5900 5901 5902 5903 5904 5905 5907 5908 5909 5910 5912 5913 5914\n",
      " 5915 5916 5917 5918 5919 5920 5921 5922 5923 5924 5925 5926 5927 5928\n",
      " 5929 5930 5931 5932 5933 5934 5935 5936 5937 5938 5939 5940 5941 5942\n",
      " 5943 5944 5945 5946 5947 5948 5949 5950 5951 5952 5953 5954 5955 5956\n",
      " 5957 5958 5959 5960 5961 5962 5963 5964 5965 5966 5967 5968 5969 5970\n",
      " 5971 5972 5973 5974 5975 5976 5977 5978 5979 5980 5981 5982 5983 5984\n",
      " 5985 5986 5987 5988 5989 5990 5991 5992 5993 5994 5995 5996 5997 5998\n",
      " 5999 6000 6001 6002 6003 6004 6005 6006 6007 6008 6009 6010 6011 6012\n",
      " 6013 6014 6015 6016 6017 6018 6019 6020 6021 6022 6023 6024 6025 6026\n",
      " 6027 6028 6029 6030 6031 6032 6033 6034 6035 6036 6037 6038 6039 6040\n",
      " 6041 6042 6043 6044 6045 6046 6047 6048 6049 6050 6051 6052 6053 6054\n",
      " 6055 6056 6057 6058 6059 6060 6061 6062 6063 6064 6065 6066 6067 6068\n",
      " 6069 6070 6071 6072 6073 6074 6075 6076 6077 6078 6079 6080 6081 6082\n",
      " 6083 6084 6085 6086 6087 6088 6089 6090 6091 6092 6093 6094 6095 6096\n",
      " 6097 6098 6099 6100 6101 6102 6103 6104 6105 6106 6107 6108 6109 6110\n",
      " 6111 6112 6113 6114 6115 6116 6117 6118 6119 6120 6121 6122 6123 6124\n",
      " 6125 6126 6127 6128 6129 6130 6131 6132 6133 6134 6135 6136 6137 6138\n",
      " 6139 6140 6141 6142 6143 6144 6145 6146 6147 6148 6149 6150 6151 6152\n",
      " 6153 6154 6155 6156 6157 6158 6159 6160 6161 6162 6163 6164 6165 6166\n",
      " 6167 6168 6169 6170 6171 6172 6173 6174 6175 6176 6177 6178 6179 6180\n",
      " 6181 6182 6183 6184 6185 6186 6187 6188 6189 6190 6191 6192 6193 6194\n",
      " 6195 6196 6197 6198 6199 6200 6201 6202 6203 6204 6205 6206 6207 6208\n",
      " 6209 6210 6211 6212 6213 6214 6215 6216 6217 6218 6219 6220 6221 6222\n",
      " 6223 6224 6225 6226 6227 6228 6229 6230 6231 6232 6233 6234 6235 6236\n",
      " 6237 6238 6239 6240 6241 6242 6243 6244 6245 6246 6247 6248 6249 6250\n",
      " 6251 6252 6253 6254 6255 6256 6257 6258 6259 6260 6261 6262 6263 6264\n",
      " 6265 6266 6267 6268 6269 6270 6271 6272 6273 6274 6275 6276 6277 6278\n",
      " 6279 6280 6281 6282 6283 6284 6285 6286 6287 6288 6289 6290 6291 6292\n",
      " 6293 6294 6295 6296 6297 6298 6299 6300 6301 6302 6303 6304 6305 6306\n",
      " 6307 6308 6309 6310 6311 6312 6313 6314 6315 6316 6317 6318 6319 6320\n",
      " 6321 6322 6323 6324 6325 6326 6327 6328 6329 6330 6331 6332 6333 6334\n",
      " 6335 6336 6337 6338 6339 6340 6341 6342 6343 6344 6345 6346 6347 6348\n",
      " 6349 6350 6351 6352 6353 6354 6355 6356 6357 6358 6359 6360 6361 6362\n",
      " 6363 6364 6365 6366 6367 6368 6369 6370 6371 6372 6373 6374 6375 6376\n",
      " 6377 6378 6379 6380 6381 6382 6383 6384 6385 6386 6387 6388 6389 6390\n",
      " 6391 6392 6393 6394 6395 6396 6397 6398 6399 6400 6401 6402 6403 6404\n",
      " 6405 6406 6407 6408 6409 6410 6411 6412 6413 6414 6415 6416 6417 6418\n",
      " 6419 6420 6421 6422 6423 6424 6425 6426 6427 6428 6429 6430 6431 6432\n",
      " 6433 6434 6435 6436 6437 6438 6439 6440 6441 6442 6443 6444 6445 6446\n",
      " 6447 6448 6449 6450 6451 6452 6453 6454 6455 6456 6457 6458 6459 6460\n",
      " 6461 6462 6463 6464 6465 6466 6467 6468 6469 6470 6471 6472 6473 6474\n",
      " 6475 6476 6477 6478 6479 6480 6481 6482 6483 6484 6485 6486 6487 6488\n",
      " 6489 6490 6491 6492 6493 6494 6495 6496 6497 6498 6499 6500 6501 6502\n",
      " 6503 6504 6505 6506 6507 6508 6509 6510 6511 6512 6513 6514 6515 6516\n",
      " 6517 6518 6519 6520 6521 6522 6523 6524 6525 6526 6527 6528 6529 6530\n",
      " 6531 6532 6533 6534 6535 6536 6537 6538 6539 6540 6541 6542 6543 6544\n",
      " 6545 6546 6547 6548 6549 6550 6551 6552 6553 6554 6555 6556 6557 6558\n",
      " 6559 6560 6561 6562 6563 6564 6565 6566 6567 6568 6569 6570 6571 6572\n",
      " 6573 6574 6575 6576 6577 6578 6579 6580 6581 6582 6583 6584 6585 6586\n",
      " 6587 6588 6589 6590 6591 6592 6593 6594 6595 6596 6597 6598 6599 6600\n",
      " 6601 6602 6603 6604 6605 6606 6607 6608 6609 6610 6611 6612 6613 6614\n",
      " 6615 6616 6617 6618 6619 6620 6621 6622 6623 6624 6625 6626 6627 6628\n",
      " 6629 6630 6631 6632 6633 6634 6635 6636 6637 6638 6639 6640 6641 6642\n",
      " 6643 6644 6645 6646 6647 6648 6649 6650 6651 6652 6653 6654 6655 6656\n",
      " 6657 6658 6659 6660 6661 6662 6663 6664 6665 6666 6667 6668 6669 6670\n",
      " 6671 6672 6673 6674 6675 6676 6677 6678 6679 6680 6681 6682 6683 6684\n",
      " 6685 6686 6687 6688 6689 6690 6691 6692 6693 6694 6695 6696 6697 6698\n",
      " 6699 6700 6701 6702 6703 6704 6705 6706 6707 6708 6709 6710 6711 6712\n",
      " 6713 6714 6715 6716 6717 6718 6719 6720 6721 6722 6723 6724 6725 6726\n",
      " 6727 6728 6729 6730 6731 6732 6733 6734 6735 6736 6737 6738 6739 6740\n",
      " 6741 6742 6743 6744 6745 6746 6747 6748 6749 6750 6751 6752 6753 6754\n",
      " 6755 6756 6757 6758 6759 6760 6761 6762 6763 6764 6765 6766 6767 6768\n",
      " 6769 6770 6771 6772 6773 6774 6775 6776 6777 6778 6779 6780 6781 6782\n",
      " 6783 6784 6785 6786 6787 6788 6789 6790 6791 6792 6793 6794 6795 6796\n",
      " 6797 6798 6799 6800 6801 6802 6803 6804 6805 6806 6807 6808 6809 6810\n",
      " 6811 6812 6813 6814 6815 6816 6817 6818 6819 6820 6821 6822 6823 6824\n",
      " 6825 6826 6827 6828 6829 6830 6831 6832 6833 6834 6835 6836 6837 6838\n",
      " 6839 6840 6841 6842 6843 6844 6845 6846 6847 6848 6849 6850]\n",
      "TRAIN: [   0    1    2 ... 9782 9783 9784] TEST: [6851 6852 6853 6854 6855 6856 6857 6858 6859 6860 6861 6862 6863 6864\n",
      " 6865 6866 6867 6868 6869 6870 6871 6872 6873 6874 6875 6876 6877 6878\n",
      " 6879 6880 6881 6882 6883 6884 6885 6886 6887 6888 6889 6890 6891 6892\n",
      " 6893 6894 6895 6896 6897 6898 6899 6900 6901 6902 6903 6904 6905 6906\n",
      " 6907 6908 6909 6910 6911 6912 6913 6914 6915 6916 6917 6918 6919 6920\n",
      " 6921 6922 6923 6924 6925 6926 6927 6928 6929 6930 6931 6932 6933 6934\n",
      " 6935 6936 6937 6938 6939 6940 6941 6942 6943 6944 6945 6946 6947 6948\n",
      " 6949 6950 6951 6952 6953 6954 6955 6956 6957 6958 6959 6960 6961 6962\n",
      " 6963 6964 6965 6966 6967 6968 6969 6970 6971 6972 6973 6974 6975 6976\n",
      " 6977 6978 6979 6980 6981 6982 6983 6984 6985 6986 6987 6988 6989 6990\n",
      " 6991 6992 6993 6994 6995 6996 6997 6998 6999 7000 7001 7002 7003 7004\n",
      " 7005 7006 7007 7008 7009 7010 7011 7012 7013 7014 7015 7016 7017 7018\n",
      " 7019 7020 7021 7022 7023 7024 7025 7026 7027 7028 7029 7030 7031 7032\n",
      " 7033 7034 7035 7036 7037 7038 7039 7040 7041 7042 7043 7044 7045 7046\n",
      " 7047 7048 7049 7050 7051 7052 7053 7054 7055 7056 7057 7058 7059 7060\n",
      " 7061 7062 7063 7064 7065 7066 7067 7068 7069 7070 7071 7072 7073 7074\n",
      " 7075 7076 7077 7078 7079 7080 7081 7082 7083 7084 7085 7086 7087 7088\n",
      " 7089 7090 7091 7092 7093 7094 7095 7096 7097 7098 7099 7100 7101 7102\n",
      " 7103 7104 7105 7106 7107 7108 7109 7110 7111 7112 7113 7114 7115 7116\n",
      " 7117 7118 7119 7120 7121 7122 7123 7124 7125 7126 7127 7128 7129 7130\n",
      " 7131 7132 7133 7134 7135 7136 7137 7138 7139 7140 7141 7142 7143 7144\n",
      " 7145 7146 7147 7148 7149 7150 7151 7152 7153 7154 7155 7156 7157 7158\n",
      " 7159 7160 7161 7162 7163 7164 7165 7166 7167 7168 7169 7170 7171 7172\n",
      " 7173 7174 7175 7176 7177 7178 7179 7180 7181 7182 7183 7184 7185 7186\n",
      " 7187 7188 7189 7190 7191 7192 7193 7194 7195 7196 7197 7198 7199 7200\n",
      " 7201 7202 7203 7204 7205 7206 7207 7208 7209 7210 7211 7212 7213 7214\n",
      " 7215 7216 7217 7218 7219 7220 7221 7222 7223 7224 7225 7226 7227 7228\n",
      " 7229 7230 7231 7232 7233 7234 7235 7236 7237 7238 7239 7240 7241 7242\n",
      " 7243 7244 7245 7246 7247 7248 7249 7250 7251 7252 7253 7254 7255 7256\n",
      " 7257 7258 7259 7260 7261 7262 7263 7264 7265 7266 7267 7268 7269 7270\n",
      " 7271 7272 7273 7274 7275 7276 7277 7278 7279 7280 7281 7282 7283 7284\n",
      " 7285 7286 7287 7288 7289 7290 7291 7292 7293 7294 7295 7296 7297 7298\n",
      " 7299 7300 7301 7302 7303 7304 7305 7306 7307 7308 7309 7310 7311 7312\n",
      " 7313 7314 7315 7316 7317 7318 7319 7320 7321 7322 7323 7324 7325 7326\n",
      " 7327 7328 7329 7330 7331 7332 7333 7334 7335 7336 7337 7338 7339 7340\n",
      " 7341 7342 7343 7344 7345 7346 7347 7348 7349 7350 7351 7352 7353 7354\n",
      " 7355 7356 7357 7358 7359 7360 7361 7362 7363 7364 7365 7366 7367 7368\n",
      " 7369 7370 7371 7372 7373 7374 7375 7376 7377 7378 7379 7380 7381 7382\n",
      " 7383 7384 7385 7386 7387 7388 7389 7390 7391 7392 7393 7394 7395 7396\n",
      " 7397 7398 7399 7400 7401 7402 7403 7404 7405 7406 7407 7408 7409 7410\n",
      " 7411 7412 7413 7414 7415 7416 7417 7418 7419 7420 7421 7422 7423 7424\n",
      " 7425 7426 7427 7428 7429 7430 7431 7432 7433 7434 7435 7436 7437 7438\n",
      " 7439 7440 7441 7442 7443 7444 7445 7446 7447 7448 7449 7450 7451 7452\n",
      " 7453 7454 7455 7456 7457 7458 7459 7460 7461 7462 7463 7464 7465 7466\n",
      " 7467 7468 7469 7470 7471 7472 7473 7474 7475 7476 7477 7478 7479 7480\n",
      " 7481 7482 7483 7484 7485 7486 7487 7488 7489 7490 7491 7492 7493 7494\n",
      " 7495 7496 7497 7498 7499 7500 7501 7502 7503 7504 7505 7506 7507 7508\n",
      " 7509 7510 7511 7512 7513 7514 7515 7516 7517 7518 7519 7520 7521 7522\n",
      " 7523 7524 7525 7526 7527 7528 7529 7530 7531 7532 7533 7534 7535 7536\n",
      " 7537 7538 7539 7540 7541 7542 7543 7544 7545 7546 7547 7548 7549 7550\n",
      " 7551 7552 7553 7554 7555 7556 7557 7558 7559 7560 7561 7562 7563 7564\n",
      " 7565 7566 7567 7568 7569 7570 7571 7572 7573 7574 7575 7576 7577 7578\n",
      " 7579 7580 7581 7582 7583 7584 7585 7586 7587 7588 7589 7590 7591 7592\n",
      " 7593 7594 7595 7596 7597 7598 7599 7600 7601 7602 7603 7604 7605 7606\n",
      " 7607 7608 7609 7610 7611 7612 7613 7614 7615 7616 7617 7618 7619 7620\n",
      " 7621 7622 7623 7624 7625 7626 7627 7628 7629 7630 7631 7632 7633 7634\n",
      " 7635 7636 7637 7638 7639 7640 7641 7642 7643 7644 7645 7646 7647 7648\n",
      " 7649 7650 7651 7652 7653 7654 7655 7656 7657 7658 7659 7660 7661 7662\n",
      " 7663 7664 7665 7666 7667 7668 7669 7670 7671 7672 7673 7674 7675 7676\n",
      " 7677 7678 7679 7680 7681 7682 7683 7684 7685 7686 7687 7688 7689 7690\n",
      " 7691 7692 7693 7694 7695 7696 7697 7698 7699 7700 7701 7702 7703 7704\n",
      " 7705 7706 7707 7708 7709 7710 7711 7712 7713 7714 7715 7716 7717 7718\n",
      " 7720 7721 7722 7723 7724 7725 7727 7728 7729 7730 7731 7732 7733 7734\n",
      " 7736 7737 7738 7739 7740 7741 7742 7743 7744 7745 7747 7748 7749 7751\n",
      " 7753 7754 7755 7756 7759 7760 7763 7764 7766 7767 7768 7769 7771 7772\n",
      " 7774 7775 7776 7777 7778 7779 7780 7781 7782 7783 7784 7786 7787 7788\n",
      " 7789 7790 7791 7793 7794 7796 7797 7798 7799 7800 7801 7802 7803 7804\n",
      " 7805 7806 7807 7808 7809 7810 7811 7814 7815 7816 7817 7818 7819 7820\n",
      " 7822 7823 7824 7825 7826 7827 7828 7829 7830 7832 7833 7834 7835 7837\n",
      " 7838 7839 7840 7841 7843 7844 7845 7846 7847 7848 7849 7850]\n",
      "TRAIN: [   0    1    2 ... 9782 9783 9784] TEST: [7719 7726 7735 7746 7750 7752 7757 7758 7761 7762 7765 7770 7773 7785\n",
      " 7792 7795 7812 7813 7821 7831 7836 7842 7851 7852 7853 7854 7855 7856\n",
      " 7857 7858 7859 7860 7861 7862 7863 7864 7865 7866 7867 7868 7869 7870\n",
      " 7871 7872 7873 7874 7875 7876 7877 7878 7879 7880 7881 7882 7883 7884\n",
      " 7885 7886 7887 7888 7889 7890 7891 7892 7893 7894 7895 7896 7897 7898\n",
      " 7899 7900 7901 7902 7903 7904 7905 7906 7907 7908 7909 7910 7911 7912\n",
      " 7913 7914 7915 7916 7917 7918 7919 7920 7921 7922 7923 7924 7925 7926\n",
      " 7927 7928 7929 7930 7931 7932 7933 7934 7935 7936 7937 7938 7939 7940\n",
      " 7941 7942 7943 7944 7945 7946 7947 7948 7949 7950 7951 7952 7953 7954\n",
      " 7955 7956 7957 7958 7959 7960 7961 7962 7963 7964 7965 7966 7967 7968\n",
      " 7969 7970 7971 7972 7973 7974 7975 7976 7977 7978 7979 7980 7981 7982\n",
      " 7983 7984 7985 7986 7987 7988 7989 7990 7991 7992 7993 7994 7995 7996\n",
      " 7997 7998 7999 8000 8001 8002 8003 8004 8005 8006 8007 8008 8009 8010\n",
      " 8011 8012 8013 8014 8015 8016 8017 8018 8019 8020 8021 8022 8023 8024\n",
      " 8025 8026 8027 8028 8029 8030 8031 8032 8033 8034 8035 8036 8037 8038\n",
      " 8039 8040 8041 8042 8043 8044 8045 8046 8047 8048 8049 8050 8051 8052\n",
      " 8053 8054 8055 8056 8057 8058 8059 8060 8061 8062 8063 8064 8065 8066\n",
      " 8067 8068 8069 8070 8071 8072 8073 8074 8075 8076 8077 8078 8079 8080\n",
      " 8081 8082 8083 8084 8085 8086 8087 8088 8089 8090 8091 8092 8093 8094\n",
      " 8095 8096 8097 8098 8099 8100 8101 8102 8103 8104 8105 8106 8107 8108\n",
      " 8109 8110 8111 8112 8113 8114 8115 8116 8117 8118 8119 8120 8121 8122\n",
      " 8123 8124 8125 8126 8127 8128 8129 8130 8131 8132 8133 8134 8135 8136\n",
      " 8137 8138 8139 8140 8141 8142 8143 8144 8145 8146 8147 8148 8149 8150\n",
      " 8151 8152 8153 8154 8155 8156 8157 8158 8159 8160 8161 8162 8163 8164\n",
      " 8165 8166 8167 8168 8169 8170 8171 8172 8173 8174 8175 8176 8177 8178\n",
      " 8179 8180 8181 8182 8183 8184 8185 8186 8187 8188 8189 8190 8191 8192\n",
      " 8193 8194 8195 8196 8197 8198 8199 8200 8201 8202 8203 8204 8205 8206\n",
      " 8207 8208 8209 8210 8211 8212 8213 8214 8215 8216 8217 8218 8219 8220\n",
      " 8221 8222 8223 8224 8225 8226 8227 8228 8229 8230 8231 8232 8233 8234\n",
      " 8235 8236 8237 8238 8239 8240 8241 8242 8243 8244 8245 8246 8247 8248\n",
      " 8249 8250 8251 8252 8253 8254 8255 8256 8257 8258 8259 8260 8261 8262\n",
      " 8263 8264 8265 8266 8267 8268 8269 8270 8271 8272 8273 8274 8275 8276\n",
      " 8277 8278 8279 8280 8281 8282 8283 8284 8285 8286 8287 8288 8289 8290\n",
      " 8291 8292 8293 8294 8295 8296 8297 8298 8299 8300 8301 8302 8303 8304\n",
      " 8305 8306 8307 8308 8309 8310 8311 8312 8313 8314 8315 8316 8317 8318\n",
      " 8319 8320 8321 8322 8323 8324 8325 8326 8327 8328 8329 8330 8331 8332\n",
      " 8333 8334 8335 8336 8337 8338 8339 8340 8341 8342 8343 8344 8345 8346\n",
      " 8347 8348 8349 8350 8351 8352 8353 8354 8355 8356 8357 8358 8359 8360\n",
      " 8361 8362 8363 8364 8365 8366 8367 8368 8369 8370 8371 8372 8373 8374\n",
      " 8375 8376 8377 8378 8379 8380 8381 8382 8383 8384 8385 8386 8387 8388\n",
      " 8389 8390 8391 8392 8393 8394 8395 8396 8397 8398 8399 8400 8401 8402\n",
      " 8403 8404 8405 8406 8407 8408 8409 8410 8411 8412 8413 8414 8415 8416\n",
      " 8417 8418 8419 8420 8421 8422 8423 8424 8425 8426 8427 8428 8429 8430\n",
      " 8431 8432 8433 8434 8435 8436 8437 8438 8439 8440 8441 8442 8443 8444\n",
      " 8445 8446 8447 8448 8449 8450 8451 8452 8453 8454 8455 8456 8457 8458\n",
      " 8459 8460 8461 8462 8463 8464 8465 8466 8467 8468 8469 8470 8471 8472\n",
      " 8473 8474 8475 8476 8477 8478 8479 8480 8481 8482 8483 8484 8485 8486\n",
      " 8487 8488 8489 8490 8491 8492 8493 8494 8495 8496 8497 8498 8499 8500\n",
      " 8501 8502 8503 8504 8505 8506 8507 8508 8509 8510 8511 8512 8513 8514\n",
      " 8515 8516 8517 8518 8519 8520 8521 8522 8523 8524 8525 8526 8527 8528\n",
      " 8529 8530 8531 8532 8533 8534 8535 8536 8537 8538 8539 8540 8541 8542\n",
      " 8543 8544 8545 8546 8547 8548 8549 8550 8551 8552 8553 8554 8555 8556\n",
      " 8557 8558 8559 8560 8561 8562 8563 8564 8565 8566 8567 8568 8569 8570\n",
      " 8571 8572 8573 8574 8575 8576 8577 8578 8579 8580 8581 8582 8583 8584\n",
      " 8585 8586 8587 8588 8589 8590 8591 8592 8593 8594 8595 8596 8597 8598\n",
      " 8599 8600 8601 8602 8603 8604 8605 8606 8607 8608 8609 8610 8611 8612\n",
      " 8613 8614 8615 8616 8617 8618 8619 8620 8621 8622 8623 8624 8625 8626\n",
      " 8627 8628 8629 8630 8631 8632 8633 8634 8635 8636 8637 8638 8639 8640\n",
      " 8641 8642 8643 8644 8645 8646 8647 8648 8649 8650 8651 8652 8653 8654\n",
      " 8655 8656 8657 8658 8659 8660 8661 8662 8663 8664 8665 8666 8667 8668\n",
      " 8669 8670 8671 8672 8673 8674 8675 8676 8677 8678 8679 8680 8681 8682\n",
      " 8683 8684 8686 8687 8688 8689 8690 8691 8692 8693 8694 8696 8697 8698\n",
      " 8700 8701 8702 8703 8704 8705 8706 8707 8708 8709 8710 8711 8712 8713\n",
      " 8714 8715 8717 8719 8720 8721 8722 8723 8724 8725 8726 8727 8729 8730\n",
      " 8731 8732 8733 8734 8735 8736 8737 8739 8740 8741 8742 8743 8744 8745\n",
      " 8746 8747 8748 8749 8750 8752 8753 8754 8755 8758 8759 8760 8761 8763\n",
      " 8764 8765 8766 8767 8768 8769 8770 8771 8772 8773 8774 8775 8776 8778\n",
      " 8780 8781 8782 8783 8784 8785 8786 8787 8788 8789 8790 8791 8792 8793\n",
      " 8794 8795 8796 8797 8799 8800 8802 8803 8805 8806 8807 8809 8810 8811\n",
      " 8812 8813 8814 8815 8816 8817 8818 8819 8820 8823 8824 8825]\n",
      "TRAIN: [   0    1    2 ... 8823 8824 8825] TEST: [8685 8695 8699 8716 8718 8728 8738 8751 8756 8757 8762 8777 8779 8798\n",
      " 8801 8804 8808 8821 8822 8826 8827 8828 8829 8830 8831 8832 8833 8834\n",
      " 8835 8836 8837 8838 8839 8840 8841 8842 8843 8844 8845 8846 8847 8848\n",
      " 8849 8850 8851 8852 8853 8854 8855 8856 8857 8858 8859 8860 8861 8862\n",
      " 8863 8864 8865 8866 8867 8868 8869 8870 8871 8872 8873 8874 8875 8876\n",
      " 8877 8878 8879 8880 8881 8882 8883 8884 8885 8886 8887 8888 8889 8890\n",
      " 8891 8892 8893 8894 8895 8896 8897 8898 8899 8900 8901 8902 8903 8904\n",
      " 8905 8906 8907 8908 8909 8910 8911 8912 8913 8914 8915 8916 8917 8918\n",
      " 8919 8920 8921 8922 8923 8924 8925 8926 8927 8928 8929 8930 8931 8932\n",
      " 8933 8934 8935 8936 8937 8938 8939 8940 8941 8942 8943 8944 8945 8946\n",
      " 8947 8948 8949 8950 8951 8952 8953 8954 8955 8956 8957 8958 8959 8960\n",
      " 8961 8962 8963 8964 8965 8966 8967 8968 8969 8970 8971 8972 8973 8974\n",
      " 8975 8976 8977 8978 8979 8980 8981 8982 8983 8984 8985 8986 8987 8988\n",
      " 8989 8990 8991 8992 8993 8994 8995 8996 8997 8998 8999 9000 9001 9002\n",
      " 9003 9004 9005 9006 9007 9008 9009 9010 9011 9012 9013 9014 9015 9016\n",
      " 9017 9018 9019 9020 9021 9022 9023 9024 9025 9026 9027 9028 9029 9030\n",
      " 9031 9032 9033 9034 9035 9036 9037 9038 9039 9040 9041 9042 9043 9044\n",
      " 9045 9046 9047 9048 9049 9050 9051 9052 9053 9054 9055 9056 9057 9058\n",
      " 9059 9060 9061 9062 9063 9064 9065 9066 9067 9068 9069 9070 9071 9072\n",
      " 9073 9074 9075 9076 9077 9078 9079 9080 9081 9082 9083 9084 9085 9086\n",
      " 9087 9088 9089 9090 9091 9092 9093 9094 9095 9096 9097 9098 9099 9100\n",
      " 9101 9102 9103 9104 9105 9106 9107 9108 9109 9110 9111 9112 9113 9114\n",
      " 9115 9116 9117 9118 9119 9120 9121 9122 9123 9124 9125 9126 9127 9128\n",
      " 9129 9130 9131 9132 9133 9134 9135 9136 9137 9138 9139 9140 9141 9142\n",
      " 9143 9144 9145 9146 9147 9148 9149 9150 9151 9152 9153 9154 9155 9156\n",
      " 9157 9158 9159 9160 9161 9162 9163 9164 9165 9166 9167 9168 9169 9170\n",
      " 9171 9172 9173 9174 9175 9176 9177 9178 9179 9180 9181 9182 9183 9184\n",
      " 9185 9186 9187 9188 9189 9190 9191 9192 9193 9194 9195 9196 9197 9198\n",
      " 9199 9200 9201 9202 9203 9204 9205 9206 9207 9208 9209 9210 9211 9212\n",
      " 9213 9214 9215 9216 9217 9218 9219 9220 9221 9222 9223 9224 9225 9226\n",
      " 9227 9228 9229 9230 9231 9232 9233 9234 9235 9236 9237 9238 9239 9240\n",
      " 9241 9242 9243 9244 9245 9246 9247 9248 9249 9250 9251 9252 9253 9254\n",
      " 9255 9256 9257 9258 9259 9260 9261 9262 9263 9264 9265 9266 9267 9268\n",
      " 9269 9270 9271 9272 9273 9274 9275 9276 9277 9278 9279 9280 9281 9282\n",
      " 9283 9284 9285 9286 9287 9288 9289 9290 9291 9292 9293 9294 9295 9296\n",
      " 9297 9298 9299 9300 9301 9302 9303 9304 9305 9306 9307 9308 9309 9310\n",
      " 9311 9312 9313 9314 9315 9316 9317 9318 9319 9320 9321 9322 9323 9324\n",
      " 9325 9326 9327 9328 9329 9330 9331 9332 9333 9334 9335 9336 9337 9338\n",
      " 9339 9340 9341 9342 9343 9344 9345 9346 9347 9348 9349 9350 9351 9352\n",
      " 9353 9354 9355 9356 9357 9358 9359 9360 9361 9362 9363 9364 9365 9366\n",
      " 9367 9368 9369 9370 9371 9372 9373 9374 9375 9376 9377 9378 9379 9380\n",
      " 9381 9382 9383 9384 9385 9386 9387 9388 9389 9390 9391 9392 9393 9394\n",
      " 9395 9396 9397 9398 9399 9400 9401 9402 9403 9404 9405 9406 9407 9408\n",
      " 9409 9410 9411 9412 9413 9414 9415 9416 9417 9418 9419 9420 9421 9422\n",
      " 9423 9424 9425 9426 9427 9428 9429 9430 9431 9432 9433 9434 9435 9436\n",
      " 9437 9438 9439 9440 9441 9442 9443 9444 9445 9446 9447 9448 9449 9450\n",
      " 9451 9452 9453 9454 9455 9456 9457 9458 9459 9460 9461 9462 9463 9464\n",
      " 9465 9466 9467 9468 9469 9470 9471 9472 9473 9474 9475 9476 9477 9478\n",
      " 9479 9480 9481 9482 9483 9484 9485 9486 9487 9488 9489 9490 9491 9492\n",
      " 9493 9494 9495 9496 9497 9498 9499 9500 9501 9502 9503 9504 9505 9506\n",
      " 9507 9508 9509 9510 9511 9512 9513 9514 9515 9516 9517 9518 9519 9520\n",
      " 9521 9522 9523 9524 9525 9526 9527 9528 9529 9530 9531 9532 9533 9534\n",
      " 9535 9536 9537 9538 9539 9540 9541 9542 9543 9544 9545 9546 9547 9548\n",
      " 9549 9550 9551 9552 9553 9554 9555 9556 9557 9558 9559 9560 9561 9562\n",
      " 9563 9564 9565 9566 9567 9568 9569 9570 9571 9572 9573 9574 9575 9576\n",
      " 9577 9578 9579 9580 9581 9582 9583 9584 9585 9586 9587 9588 9589 9590\n",
      " 9591 9592 9593 9594 9595 9596 9597 9598 9599 9600 9601 9602 9603 9604\n",
      " 9605 9606 9607 9608 9609 9610 9611 9612 9613 9614 9615 9616 9617 9618\n",
      " 9619 9620 9621 9622 9623 9624 9625 9626 9627 9628 9629 9630 9631 9632\n",
      " 9633 9634 9635 9636 9637 9638 9639 9640 9641 9642 9643 9644 9645 9646\n",
      " 9647 9648 9649 9650 9651 9652 9653 9654 9655 9656 9657 9658 9659 9660\n",
      " 9661 9662 9663 9664 9665 9666 9667 9668 9669 9670 9671 9672 9673 9674\n",
      " 9675 9676 9677 9678 9679 9680 9681 9682 9683 9684 9685 9686 9687 9688\n",
      " 9689 9690 9691 9692 9693 9694 9695 9696 9697 9698 9699 9700 9701 9702\n",
      " 9703 9704 9705 9706 9707 9708 9709 9710 9711 9712 9713 9714 9715 9716\n",
      " 9717 9718 9719 9720 9721 9722 9723 9724 9725 9726 9727 9728 9729 9730\n",
      " 9731 9732 9733 9734 9735 9736 9737 9738 9739 9740 9741 9742 9743 9744\n",
      " 9745 9746 9747 9748 9749 9750 9751 9752 9753 9754 9755 9756 9757 9758\n",
      " 9759 9760 9761 9762 9763 9764 9765 9766 9767 9768 9769 9770 9771 9772\n",
      " 9773 9774 9775 9776 9777 9778 9779 9780 9781 9782 9783 9784]\n"
     ]
    }
   ],
   "source": [
    "skf = StratifiedKFold(n_splits=10)\n",
    "skf.get_n_splits(data1[predictors], data1['target'])\n",
    "\n",
    "train_indexes = []\n",
    "test_indexes = []\n",
    "for train_index, test_index in skf.split(data1[predictors], data1['target']):\n",
    "    train_indexes.append(train_index)\n",
    "    test_indexes.append(test_index)"
   ]
  },
  {
   "cell_type": "code",
   "execution_count": 388,
   "metadata": {},
   "outputs": [
    {
     "name": "stdout",
     "output_type": "stream",
     "text": [
      "Optimization terminated successfully.\n",
      "         Current function value: 0.367886\n",
      "         Iterations 7\n",
      "Optimization terminated successfully.\n",
      "         Current function value: 0.367887\n",
      "         Iterations 7\n",
      "Optimization terminated successfully.\n",
      "         Current function value: 0.367038\n",
      "         Iterations 7\n",
      "Optimization terminated successfully.\n",
      "         Current function value: 0.369266\n",
      "         Iterations 7\n",
      "Optimization terminated successfully.\n",
      "         Current function value: 0.367901\n",
      "         Iterations 7\n",
      "Optimization terminated successfully.\n",
      "         Current function value: 0.368545\n",
      "         Iterations 7\n",
      "Optimization terminated successfully.\n",
      "         Current function value: 0.368983\n",
      "         Iterations 7\n",
      "Optimization terminated successfully.\n",
      "         Current function value: 0.367320\n",
      "         Iterations 7\n",
      "Optimization terminated successfully.\n",
      "         Current function value: 0.367191\n",
      "         Iterations 7\n",
      "Optimization terminated successfully.\n",
      "         Current function value: 0.369597\n",
      "         Iterations 7\n"
     ]
    }
   ],
   "source": [
    "Accuracies = []\n",
    "AUCs = []\n",
    "\n",
    "for i in range(len(train_indexes)):\n",
    "    #logreg.fit(data1.loc[train_indexes[i], predictors],data1.loc[train_indexes[i], 'target'])\n",
    "    model = sm.Logit(data1.loc[train_indexes[i], 'target'], data1.loc[train_indexes[i], predictors]).fit()\n",
    "    \n",
    "    Accuracies.append(metrics.accuracy_score(data1.loc[test_indexes[i], 'target'],\n",
    "                                            (model.predict(data1.loc[test_indexes[i], predictors]) > 0.5).astype(int)))\n",
    "    \n",
    "    AUCs.append(metrics.roc_auc_score(data1.loc[test_indexes[i], 'target'],\n",
    "                                            (model.predict(data1.loc[test_indexes[i], predictors]) > 0.5).astype(int)))\n"
   ]
  },
  {
   "cell_type": "code",
   "execution_count": 91,
   "metadata": {
    "scrolled": true
   },
   "outputs": [
    {
     "name": "stdout",
     "output_type": "stream",
     "text": [
      "Mean Accuracy Rate: 0.8474170254276409\n",
      "Mean Area under the ROC: 0.602663561239982\n"
     ]
    }
   ],
   "source": [
    "print('Mean Accuracy Rate: {}\\nMean Area under the ROC: {}'.format(np.mean(Accuracies), np.mean(AUCs)))"
   ]
  },
  {
   "cell_type": "code",
   "execution_count": 390,
   "metadata": {},
   "outputs": [
    {
     "name": "stdout",
     "output_type": "stream",
     "text": [
      "Split with most Accuracy: 10\n",
      "Split with most AUC: 10\n"
     ]
    }
   ],
   "source": [
    "print('Split with most Accuracy: {}\\nSplit with most AUC: {}'.format(Accuracies.index(max(Accuracies))+1, AUCs.index(max(AUCs))+1))"
   ]
  },
  {
   "cell_type": "markdown",
   "metadata": {},
   "source": [
    "### Now that we have an estimate for Accuracy and AUC we fit the model on the entire data to see predictor significance"
   ]
  },
  {
   "cell_type": "code",
   "execution_count": 413,
   "metadata": {},
   "outputs": [
    {
     "name": "stdout",
     "output_type": "stream",
     "text": [
      "Optimization terminated successfully.\n",
      "         Current function value: 0.365907\n",
      "         Iterations 7\n"
     ]
    },
    {
     "data": {
      "text/html": [
       "<table class=\"simpletable\">\n",
       "<caption>Logit Regression Results</caption>\n",
       "<tr>\n",
       "  <th>Dep. Variable:</th>        <td>target</td>      <th>  No. Observations:  </th>   <td>  9785</td>  \n",
       "</tr>\n",
       "<tr>\n",
       "  <th>Model:</th>                 <td>Logit</td>      <th>  Df Residuals:      </th>   <td>  9758</td>  \n",
       "</tr>\n",
       "<tr>\n",
       "  <th>Method:</th>                 <td>MLE</td>       <th>  Df Model:          </th>   <td>    26</td>  \n",
       "</tr>\n",
       "<tr>\n",
       "  <th>Date:</th>            <td>Wed, 26 May 2021</td> <th>  Pseudo R-squ.:     </th>   <td>0.1764</td>  \n",
       "</tr>\n",
       "<tr>\n",
       "  <th>Time:</th>                <td>14:54:12</td>     <th>  Log-Likelihood:    </th>  <td> -3580.4</td> \n",
       "</tr>\n",
       "<tr>\n",
       "  <th>converged:</th>             <td>True</td>       <th>  LL-Null:           </th>  <td> -4347.3</td> \n",
       "</tr>\n",
       "<tr>\n",
       "  <th>Covariance Type:</th>     <td>nonrobust</td>    <th>  LLR p-value:       </th> <td>7.462e-308</td>\n",
       "</tr>\n",
       "</table>\n",
       "<table class=\"simpletable\">\n",
       "<tr>\n",
       "             <td></td>               <th>coef</th>     <th>std err</th>      <th>z</th>      <th>P>|z|</th>  <th>[0.025</th>    <th>0.975]</th>  \n",
       "</tr>\n",
       "<tr>\n",
       "  <th>const</th>                  <td>    5.8661</td> <td>    0.681</td> <td>    8.614</td> <td> 0.000</td> <td>    4.531</td> <td>    7.201</td>\n",
       "</tr>\n",
       "<tr>\n",
       "  <th>city_development_index</th> <td>   -7.6932</td> <td>    0.249</td> <td>  -30.925</td> <td> 0.000</td> <td>   -8.181</td> <td>   -7.206</td>\n",
       "</tr>\n",
       "<tr>\n",
       "  <th>Female</th>                 <td>   -0.2495</td> <td>    0.326</td> <td>   -0.766</td> <td> 0.444</td> <td>   -0.888</td> <td>    0.389</td>\n",
       "</tr>\n",
       "<tr>\n",
       "  <th>Male</th>                   <td>   -0.2491</td> <td>    0.310</td> <td>   -0.802</td> <td> 0.422</td> <td>   -0.858</td> <td>    0.359</td>\n",
       "</tr>\n",
       "<tr>\n",
       "  <th>relevent_experience</th>    <td>   -0.2295</td> <td>    0.090</td> <td>   -2.559</td> <td> 0.010</td> <td>   -0.405</td> <td>   -0.054</td>\n",
       "</tr>\n",
       "<tr>\n",
       "  <th>Full time course</th>       <td>    0.1911</td> <td>    0.092</td> <td>    2.080</td> <td> 0.038</td> <td>    0.011</td> <td>    0.371</td>\n",
       "</tr>\n",
       "<tr>\n",
       "  <th>Part time course</th>       <td>   -0.2374</td> <td>    0.129</td> <td>   -1.837</td> <td> 0.066</td> <td>   -0.491</td> <td>    0.016</td>\n",
       "</tr>\n",
       "<tr>\n",
       "  <th>High School</th>            <td>   -0.2950</td> <td>    0.501</td> <td>   -0.589</td> <td> 0.556</td> <td>   -1.277</td> <td>    0.687</td>\n",
       "</tr>\n",
       "<tr>\n",
       "  <th>Graduate</th>               <td>   -0.1140</td> <td>    0.573</td> <td>   -0.199</td> <td> 0.842</td> <td>   -1.238</td> <td>    1.010</td>\n",
       "</tr>\n",
       "<tr>\n",
       "  <th>Masters</th>                <td>   -0.1826</td> <td>    0.577</td> <td>   -0.316</td> <td> 0.752</td> <td>   -1.314</td> <td>    0.949</td>\n",
       "</tr>\n",
       "<tr>\n",
       "  <th>Phd</th>                    <td>    0.2479</td> <td>    0.608</td> <td>    0.408</td> <td> 0.683</td> <td>   -0.944</td> <td>    1.439</td>\n",
       "</tr>\n",
       "<tr>\n",
       "  <th>Other_major</th>            <td>   -0.3000</td> <td>    0.398</td> <td>   -0.753</td> <td> 0.451</td> <td>   -1.081</td> <td>    0.481</td>\n",
       "</tr>\n",
       "<tr>\n",
       "  <th>Arts_major</th>             <td>   -0.2223</td> <td>    0.473</td> <td>   -0.470</td> <td> 0.638</td> <td>   -1.149</td> <td>    0.704</td>\n",
       "</tr>\n",
       "<tr>\n",
       "  <th>Humanities_major</th>       <td>    0.1709</td> <td>    0.354</td> <td>    0.482</td> <td> 0.630</td> <td>   -0.524</td> <td>    0.865</td>\n",
       "</tr>\n",
       "<tr>\n",
       "  <th>Business_Degree_major</th>  <td>    0.1323</td> <td>    0.395</td> <td>    0.335</td> <td> 0.738</td> <td>   -0.642</td> <td>    0.906</td>\n",
       "</tr>\n",
       "<tr>\n",
       "  <th>STEM_major</th>             <td>    0.1431</td> <td>    0.310</td> <td>    0.461</td> <td> 0.645</td> <td>   -0.465</td> <td>    0.751</td>\n",
       "</tr>\n",
       "<tr>\n",
       "  <th>>20y experience</th>        <td>   -0.7955</td> <td>    0.130</td> <td>   -6.104</td> <td> 0.000</td> <td>   -1.051</td> <td>   -0.540</td>\n",
       "</tr>\n",
       "<tr>\n",
       "  <th>experience</th>             <td>   -0.0440</td> <td>    0.008</td> <td>   -5.624</td> <td> 0.000</td> <td>   -0.059</td> <td>   -0.029</td>\n",
       "</tr>\n",
       "<tr>\n",
       "  <th>company_size</th>           <td>    0.0363</td> <td>    0.015</td> <td>    2.461</td> <td> 0.014</td> <td>    0.007</td> <td>    0.065</td>\n",
       "</tr>\n",
       "<tr>\n",
       "  <th>NGO</th>                    <td>   -0.7216</td> <td>    0.338</td> <td>   -2.138</td> <td> 0.033</td> <td>   -1.383</td> <td>   -0.060</td>\n",
       "</tr>\n",
       "<tr>\n",
       "  <th>Public_Sector</th>          <td>   -0.3876</td> <td>    0.321</td> <td>   -1.208</td> <td> 0.227</td> <td>   -1.016</td> <td>    0.241</td>\n",
       "</tr>\n",
       "<tr>\n",
       "  <th>Pvt_Ltd</th>                <td>   -0.6873</td> <td>    0.300</td> <td>   -2.289</td> <td> 0.022</td> <td>   -1.276</td> <td>   -0.099</td>\n",
       "</tr>\n",
       "<tr>\n",
       "  <th>Early_Stage_Startup</th>    <td>   -0.5999</td> <td>    0.329</td> <td>   -1.823</td> <td> 0.068</td> <td>   -1.245</td> <td>    0.045</td>\n",
       "</tr>\n",
       "<tr>\n",
       "  <th>Funded_Startup</th>         <td>   -0.7626</td> <td>    0.319</td> <td>   -2.390</td> <td> 0.017</td> <td>   -1.388</td> <td>   -0.137</td>\n",
       "</tr>\n",
       "<tr>\n",
       "  <th>>4y from last job</th>      <td>    0.2321</td> <td>    0.108</td> <td>    2.145</td> <td> 0.032</td> <td>    0.020</td> <td>    0.444</td>\n",
       "</tr>\n",
       "<tr>\n",
       "  <th>last_new_job</th>           <td>    0.1151</td> <td>    0.034</td> <td>    3.390</td> <td> 0.001</td> <td>    0.049</td> <td>    0.182</td>\n",
       "</tr>\n",
       "<tr>\n",
       "  <th>training_hours</th>         <td>   -0.0006</td> <td>    0.001</td> <td>   -1.165</td> <td> 0.244</td> <td>   -0.002</td> <td>    0.000</td>\n",
       "</tr>\n",
       "</table>"
      ],
      "text/plain": [
       "<class 'statsmodels.iolib.summary.Summary'>\n",
       "\"\"\"\n",
       "                           Logit Regression Results                           \n",
       "==============================================================================\n",
       "Dep. Variable:                 target   No. Observations:                 9785\n",
       "Model:                          Logit   Df Residuals:                     9758\n",
       "Method:                           MLE   Df Model:                           26\n",
       "Date:                Wed, 26 May 2021   Pseudo R-squ.:                  0.1764\n",
       "Time:                        14:54:12   Log-Likelihood:                -3580.4\n",
       "converged:                       True   LL-Null:                       -4347.3\n",
       "Covariance Type:            nonrobust   LLR p-value:                7.462e-308\n",
       "==========================================================================================\n",
       "                             coef    std err          z      P>|z|      [0.025      0.975]\n",
       "------------------------------------------------------------------------------------------\n",
       "const                      5.8661      0.681      8.614      0.000       4.531       7.201\n",
       "city_development_index    -7.6932      0.249    -30.925      0.000      -8.181      -7.206\n",
       "Female                    -0.2495      0.326     -0.766      0.444      -0.888       0.389\n",
       "Male                      -0.2491      0.310     -0.802      0.422      -0.858       0.359\n",
       "relevent_experience       -0.2295      0.090     -2.559      0.010      -0.405      -0.054\n",
       "Full time course           0.1911      0.092      2.080      0.038       0.011       0.371\n",
       "Part time course          -0.2374      0.129     -1.837      0.066      -0.491       0.016\n",
       "High School               -0.2950      0.501     -0.589      0.556      -1.277       0.687\n",
       "Graduate                  -0.1140      0.573     -0.199      0.842      -1.238       1.010\n",
       "Masters                   -0.1826      0.577     -0.316      0.752      -1.314       0.949\n",
       "Phd                        0.2479      0.608      0.408      0.683      -0.944       1.439\n",
       "Other_major               -0.3000      0.398     -0.753      0.451      -1.081       0.481\n",
       "Arts_major                -0.2223      0.473     -0.470      0.638      -1.149       0.704\n",
       "Humanities_major           0.1709      0.354      0.482      0.630      -0.524       0.865\n",
       "Business_Degree_major      0.1323      0.395      0.335      0.738      -0.642       0.906\n",
       "STEM_major                 0.1431      0.310      0.461      0.645      -0.465       0.751\n",
       ">20y experience           -0.7955      0.130     -6.104      0.000      -1.051      -0.540\n",
       "experience                -0.0440      0.008     -5.624      0.000      -0.059      -0.029\n",
       "company_size               0.0363      0.015      2.461      0.014       0.007       0.065\n",
       "NGO                       -0.7216      0.338     -2.138      0.033      -1.383      -0.060\n",
       "Public_Sector             -0.3876      0.321     -1.208      0.227      -1.016       0.241\n",
       "Pvt_Ltd                   -0.6873      0.300     -2.289      0.022      -1.276      -0.099\n",
       "Early_Stage_Startup       -0.5999      0.329     -1.823      0.068      -1.245       0.045\n",
       "Funded_Startup            -0.7626      0.319     -2.390      0.017      -1.388      -0.137\n",
       ">4y from last job          0.2321      0.108      2.145      0.032       0.020       0.444\n",
       "last_new_job               0.1151      0.034      3.390      0.001       0.049       0.182\n",
       "training_hours            -0.0006      0.001     -1.165      0.244      -0.002       0.000\n",
       "==========================================================================================\n",
       "\"\"\""
      ]
     },
     "execution_count": 413,
     "metadata": {},
     "output_type": "execute_result"
    }
   ],
   "source": [
    "Xt = data1[predictors]\n",
    "Xt = sm.add_constant(Xt)\n",
    "yt = data1['target']\n",
    "model = sm.Logit(yt, Xt).fit()\n",
    "model.summary()"
   ]
  },
  {
   "cell_type": "code",
   "execution_count": 414,
   "metadata": {},
   "outputs": [
    {
     "name": "stdout",
     "output_type": "stream",
     "text": [
      "AUC: 0.6287810721772986\n",
      "Optimization terminated successfully.\n",
      "         Current function value: 0.369597\n",
      "         Iterations 7\n"
     ]
    },
    {
     "data": {
      "text/plain": [
       "array([[796,  23],\n",
       "       [114,  45]])"
      ]
     },
     "execution_count": 414,
     "metadata": {},
     "output_type": "execute_result"
    },
    {
     "data": {
      "image/png": "[encoded data removed]",
      "text/plain": [
       "<Figure size 432x288 with 1 Axes>"
      ]
     },
     "metadata": {
      "needs_background": "light"
     },
     "output_type": "display_data"
    }
   ],
   "source": [
    "fpr,tpr,thresholds = roc_curve(data1.loc[test_indexes[9], 'target'], ((model.predict(sm.add_constant(data1.loc[test_indexes[9], predictors])))>0.5).astype(float))\n",
    "xgrid = np.linspace(0,1,100) \n",
    "plt.plot(fpr,tpr)\n",
    "plt.plot(xgrid,xgrid,'red')\n",
    "print('AUC: {}'.format(metrics.roc_auc_score(data1.loc[test_indexes[9], 'target'], ((model.predict(sm.add_constant(data1.loc[test_indexes[9], predictors])))>0.5).astype(float))))\n",
    "\n",
    "model = sm.Logit(data1.loc[train_indexes[9], 'target'], data1.loc[train_indexes[9], predictors]).fit()\n",
    "confusion_matrix(data1.loc[test_indexes[9], 'target'], ((model.predict(data1.loc[test_indexes[9], predictors]))>0.5).astype(float))\n",
    "\n"
   ]
  },
  {
   "cell_type": "markdown",
   "metadata": {},
   "source": [
    "### Only on the statistically significant predictors"
   ]
  },
  {
   "cell_type": "code",
   "execution_count": 415,
   "metadata": {
    "scrolled": true
   },
   "outputs": [
    {
     "name": "stdout",
     "output_type": "stream",
     "text": [
      "Optimization terminated successfully.\n",
      "         Current function value: 0.367115\n",
      "         Iterations 7\n"
     ]
    },
    {
     "data": {
      "text/html": [
       "<table class=\"simpletable\">\n",
       "<caption>Logit Regression Results</caption>\n",
       "<tr>\n",
       "  <th>Dep. Variable:</th>        <td>target</td>      <th>  No. Observations:  </th>  <td>  9785</td> \n",
       "</tr>\n",
       "<tr>\n",
       "  <th>Model:</th>                 <td>Logit</td>      <th>  Df Residuals:      </th>  <td>  9773</td> \n",
       "</tr>\n",
       "<tr>\n",
       "  <th>Method:</th>                 <td>MLE</td>       <th>  Df Model:          </th>  <td>    11</td> \n",
       "</tr>\n",
       "<tr>\n",
       "  <th>Date:</th>            <td>Wed, 26 May 2021</td> <th>  Pseudo R-squ.:     </th>  <td>0.1737</td> \n",
       "</tr>\n",
       "<tr>\n",
       "  <th>Time:</th>                <td>14:55:12</td>     <th>  Log-Likelihood:    </th> <td> -3592.2</td>\n",
       "</tr>\n",
       "<tr>\n",
       "  <th>converged:</th>             <td>True</td>       <th>  LL-Null:           </th> <td> -4347.3</td>\n",
       "</tr>\n",
       "<tr>\n",
       "  <th>Covariance Type:</th>     <td>nonrobust</td>    <th>  LLR p-value:       </th>  <td> 0.000</td> \n",
       "</tr>\n",
       "</table>\n",
       "<table class=\"simpletable\">\n",
       "<tr>\n",
       "             <td></td>               <th>coef</th>     <th>std err</th>      <th>z</th>      <th>P>|z|</th>  <th>[0.025</th>    <th>0.975]</th>  \n",
       "</tr>\n",
       "<tr>\n",
       "  <th>const</th>                  <td>    5.0842</td> <td>    0.220</td> <td>   23.105</td> <td> 0.000</td> <td>    4.653</td> <td>    5.516</td>\n",
       "</tr>\n",
       "<tr>\n",
       "  <th>city_development_index</th> <td>   -7.7377</td> <td>    0.241</td> <td>  -32.086</td> <td> 0.000</td> <td>   -8.210</td> <td>   -7.265</td>\n",
       "</tr>\n",
       "<tr>\n",
       "  <th>relevent_experience</th>    <td>   -0.2184</td> <td>    0.088</td> <td>   -2.494</td> <td> 0.013</td> <td>   -0.390</td> <td>   -0.047</td>\n",
       "</tr>\n",
       "<tr>\n",
       "  <th>Full time course</th>       <td>    0.1902</td> <td>    0.090</td> <td>    2.125</td> <td> 0.034</td> <td>    0.015</td> <td>    0.366</td>\n",
       "</tr>\n",
       "<tr>\n",
       "  <th>>20y experience</th>        <td>   -0.7301</td> <td>    0.127</td> <td>   -5.747</td> <td> 0.000</td> <td>   -0.979</td> <td>   -0.481</td>\n",
       "</tr>\n",
       "<tr>\n",
       "  <th>experience</th>             <td>   -0.0416</td> <td>    0.008</td> <td>   -5.420</td> <td> 0.000</td> <td>   -0.057</td> <td>   -0.027</td>\n",
       "</tr>\n",
       "<tr>\n",
       "  <th>company_size</th>           <td>    0.0450</td> <td>    0.014</td> <td>    3.164</td> <td> 0.002</td> <td>    0.017</td> <td>    0.073</td>\n",
       "</tr>\n",
       "<tr>\n",
       "  <th>NGO</th>                    <td>   -0.2701</td> <td>    0.178</td> <td>   -1.520</td> <td> 0.128</td> <td>   -0.618</td> <td>    0.078</td>\n",
       "</tr>\n",
       "<tr>\n",
       "  <th>Pvt_Ltd</th>                <td>   -0.2528</td> <td>    0.092</td> <td>   -2.734</td> <td> 0.006</td> <td>   -0.434</td> <td>   -0.072</td>\n",
       "</tr>\n",
       "<tr>\n",
       "  <th>Funded_Startup</th>         <td>   -0.3038</td> <td>    0.140</td> <td>   -2.170</td> <td> 0.030</td> <td>   -0.578</td> <td>   -0.029</td>\n",
       "</tr>\n",
       "<tr>\n",
       "  <th>>4y from last job</th>      <td>    0.2488</td> <td>    0.108</td> <td>    2.307</td> <td> 0.021</td> <td>    0.037</td> <td>    0.460</td>\n",
       "</tr>\n",
       "<tr>\n",
       "  <th>last_new_job</th>           <td>    0.1159</td> <td>    0.034</td> <td>    3.424</td> <td> 0.001</td> <td>    0.050</td> <td>    0.182</td>\n",
       "</tr>\n",
       "</table>"
      ],
      "text/plain": [
       "<class 'statsmodels.iolib.summary.Summary'>\n",
       "\"\"\"\n",
       "                           Logit Regression Results                           \n",
       "==============================================================================\n",
       "Dep. Variable:                 target   No. Observations:                 9785\n",
       "Model:                          Logit   Df Residuals:                     9773\n",
       "Method:                           MLE   Df Model:                           11\n",
       "Date:                Wed, 26 May 2021   Pseudo R-squ.:                  0.1737\n",
       "Time:                        14:55:12   Log-Likelihood:                -3592.2\n",
       "converged:                       True   LL-Null:                       -4347.3\n",
       "Covariance Type:            nonrobust   LLR p-value:                     0.000\n",
       "==========================================================================================\n",
       "                             coef    std err          z      P>|z|      [0.025      0.975]\n",
       "------------------------------------------------------------------------------------------\n",
       "const                      5.0842      0.220     23.105      0.000       4.653       5.516\n",
       "city_development_index    -7.7377      0.241    -32.086      0.000      -8.210      -7.265\n",
       "relevent_experience       -0.2184      0.088     -2.494      0.013      -0.390      -0.047\n",
       "Full time course           0.1902      0.090      2.125      0.034       0.015       0.366\n",
       ">20y experience           -0.7301      0.127     -5.747      0.000      -0.979      -0.481\n",
       "experience                -0.0416      0.008     -5.420      0.000      -0.057      -0.027\n",
       "company_size               0.0450      0.014      3.164      0.002       0.017       0.073\n",
       "NGO                       -0.2701      0.178     -1.520      0.128      -0.618       0.078\n",
       "Pvt_Ltd                   -0.2528      0.092     -2.734      0.006      -0.434      -0.072\n",
       "Funded_Startup            -0.3038      0.140     -2.170      0.030      -0.578      -0.029\n",
       ">4y from last job          0.2488      0.108      2.307      0.021       0.037       0.460\n",
       "last_new_job               0.1159      0.034      3.424      0.001       0.050       0.182\n",
       "==========================================================================================\n",
       "\"\"\""
      ]
     },
     "execution_count": 415,
     "metadata": {},
     "output_type": "execute_result"
    }
   ],
   "source": [
    "Xt = data1[['city_development_index', 'relevent_experience', 'Full time course','>20y experience', 'experience', 'company_size', 'NGO', 'Pvt_Ltd', 'Funded_Startup', '>4y from last job','last_new_job']]\n",
    "Xt = sm.add_constant(Xt)\n",
    "yt = data1['target']\n",
    "model2 = sm.Logit(yt, Xt).fit()\n",
    "model2.summary()"
   ]
  },
  {
   "cell_type": "code",
   "execution_count": 416,
   "metadata": {},
   "outputs": [],
   "source": [
    "small_predictors = ['city_development_index',\n",
    " 'relevent_experience',\n",
    " 'Full time course',\n",
    " '>20y experience',\n",
    " 'experience',\n",
    " 'company_size',\n",
    " 'Pvt_Ltd',\n",
    " 'Funded_Startup',\n",
    " '>4y from last job',\n",
    " 'last_new_job']"
   ]
  },
  {
   "cell_type": "code",
   "execution_count": 417,
   "metadata": {},
   "outputs": [
    {
     "name": "stdout",
     "output_type": "stream",
     "text": [
      "Optimization terminated successfully.\n",
      "         Current function value: 0.395019\n",
      "         Iterations 7\n",
      "Optimization terminated successfully.\n",
      "         Current function value: 0.395452\n",
      "         Iterations 7\n",
      "Optimization terminated successfully.\n",
      "         Current function value: 0.395139\n",
      "         Iterations 7\n",
      "Optimization terminated successfully.\n",
      "         Current function value: 0.397041\n",
      "         Iterations 7\n",
      "Optimization terminated successfully.\n",
      "         Current function value: 0.396249\n",
      "         Iterations 6\n",
      "Optimization terminated successfully.\n",
      "         Current function value: 0.396177\n",
      "         Iterations 6\n",
      "Optimization terminated successfully.\n",
      "         Current function value: 0.396048\n",
      "         Iterations 6\n",
      "Optimization terminated successfully.\n",
      "         Current function value: 0.394029\n",
      "         Iterations 7\n",
      "Optimization terminated successfully.\n",
      "         Current function value: 0.395250\n",
      "         Iterations 6\n",
      "Optimization terminated successfully.\n",
      "         Current function value: 0.395776\n",
      "         Iterations 6\n"
     ]
    }
   ],
   "source": [
    "Accuracies = []\n",
    "AUCs = []\n",
    "\n",
    "for i in range(len(train_indexes)):\n",
    "    #logreg.fit(data1.loc[train_indexes[i], predictors],data1.loc[train_indexes[i], 'target'])\n",
    "    model = sm.Logit(data1.loc[train_indexes[i], 'target'], data1.loc[train_indexes[i], small_predictors]).fit()\n",
    "    \n",
    "    Accuracies.append(metrics.accuracy_score(data1.loc[test_indexes[i], 'target'],\n",
    "                                            (model.predict(data1.loc[test_indexes[i], small_predictors]) > 0.5).astype(int)))\n",
    "    \n",
    "    AUCs.append(metrics.roc_auc_score(data1.loc[test_indexes[i], 'target'],\n",
    "                                            (model.predict(data1.loc[test_indexes[i], small_predictors]) > 0.5).astype(int)))\n",
    "\n"
   ]
  },
  {
   "cell_type": "code",
   "execution_count": 418,
   "metadata": {
    "scrolled": false
   },
   "outputs": [
    {
     "name": "stdout",
     "output_type": "stream",
     "text": [
      "Mean Accuracy Rate: 0.8375060315709657\n",
      "Mean Area under the ROC: 0.5042221469280834\n"
     ]
    }
   ],
   "source": [
    "print('Mean Accuracy Rate: {}\\nMean Area under the ROC: {}'.format(np.mean(Accuracies), np.mean(AUCs)))"
   ]
  },
  {
   "cell_type": "markdown",
   "metadata": {},
   "source": [
    "AUC has become like no-skill classifier and still some coefficients have newly become statistically unsignificant."
   ]
  },
  {
   "cell_type": "markdown",
   "metadata": {},
   "source": [
    "### Some other predictors have lost siginificante, try again"
   ]
  },
  {
   "cell_type": "code",
   "execution_count": 474,
   "metadata": {},
   "outputs": [],
   "source": [
    "smaller_predictors = ['city_development_index', 'relevent_experience', 'Full time course','>20y experience', 'experience', 'company_size', '>4y from last job','last_new_job']"
   ]
  },
  {
   "cell_type": "code",
   "execution_count": 475,
   "metadata": {},
   "outputs": [
    {
     "name": "stdout",
     "output_type": "stream",
     "text": [
      "Optimization terminated successfully.\n",
      "         Current function value: 0.367526\n",
      "         Iterations 7\n"
     ]
    },
    {
     "data": {
      "text/html": [
       "<table class=\"simpletable\">\n",
       "<caption>Logit Regression Results</caption>\n",
       "<tr>\n",
       "  <th>Dep. Variable:</th>        <td>target</td>      <th>  No. Observations:  </th>  <td>  9785</td> \n",
       "</tr>\n",
       "<tr>\n",
       "  <th>Model:</th>                 <td>Logit</td>      <th>  Df Residuals:      </th>  <td>  9776</td> \n",
       "</tr>\n",
       "<tr>\n",
       "  <th>Method:</th>                 <td>MLE</td>       <th>  Df Model:          </th>  <td>     8</td> \n",
       "</tr>\n",
       "<tr>\n",
       "  <th>Date:</th>            <td>Wed, 26 May 2021</td> <th>  Pseudo R-squ.:     </th>  <td>0.1728</td> \n",
       "</tr>\n",
       "<tr>\n",
       "  <th>Time:</th>                <td>16:32:35</td>     <th>  Log-Likelihood:    </th> <td> -3596.2</td>\n",
       "</tr>\n",
       "<tr>\n",
       "  <th>converged:</th>             <td>True</td>       <th>  LL-Null:           </th> <td> -4347.3</td>\n",
       "</tr>\n",
       "<tr>\n",
       "  <th>Covariance Type:</th>     <td>nonrobust</td>    <th>  LLR p-value:       </th>  <td> 0.000</td> \n",
       "</tr>\n",
       "</table>\n",
       "<table class=\"simpletable\">\n",
       "<tr>\n",
       "             <td></td>               <th>coef</th>     <th>std err</th>      <th>z</th>      <th>P>|z|</th>  <th>[0.025</th>    <th>0.975]</th>  \n",
       "</tr>\n",
       "<tr>\n",
       "  <th>const</th>                  <td>    4.8766</td> <td>    0.207</td> <td>   23.570</td> <td> 0.000</td> <td>    4.471</td> <td>    5.282</td>\n",
       "</tr>\n",
       "<tr>\n",
       "  <th>city_development_index</th> <td>   -7.7115</td> <td>    0.240</td> <td>  -32.089</td> <td> 0.000</td> <td>   -8.183</td> <td>   -7.241</td>\n",
       "</tr>\n",
       "<tr>\n",
       "  <th>relevent_experience</th>    <td>   -0.2473</td> <td>    0.086</td> <td>   -2.860</td> <td> 0.004</td> <td>   -0.417</td> <td>   -0.078</td>\n",
       "</tr>\n",
       "<tr>\n",
       "  <th>Full time course</th>       <td>    0.2032</td> <td>    0.089</td> <td>    2.274</td> <td> 0.023</td> <td>    0.028</td> <td>    0.378</td>\n",
       "</tr>\n",
       "<tr>\n",
       "  <th>>20y experience</th>        <td>   -0.7337</td> <td>    0.127</td> <td>   -5.783</td> <td> 0.000</td> <td>   -0.982</td> <td>   -0.485</td>\n",
       "</tr>\n",
       "<tr>\n",
       "  <th>experience</th>             <td>   -0.0420</td> <td>    0.008</td> <td>   -5.480</td> <td> 0.000</td> <td>   -0.057</td> <td>   -0.027</td>\n",
       "</tr>\n",
       "<tr>\n",
       "  <th>company_size</th>           <td>    0.0419</td> <td>    0.014</td> <td>    3.022</td> <td> 0.003</td> <td>    0.015</td> <td>    0.069</td>\n",
       "</tr>\n",
       "<tr>\n",
       "  <th>>4y from last job</th>      <td>    0.2465</td> <td>    0.107</td> <td>    2.298</td> <td> 0.022</td> <td>    0.036</td> <td>    0.457</td>\n",
       "</tr>\n",
       "<tr>\n",
       "  <th>last_new_job</th>           <td>    0.1144</td> <td>    0.034</td> <td>    3.384</td> <td> 0.001</td> <td>    0.048</td> <td>    0.181</td>\n",
       "</tr>\n",
       "</table>"
      ],
      "text/plain": [
       "<class 'statsmodels.iolib.summary.Summary'>\n",
       "\"\"\"\n",
       "                           Logit Regression Results                           \n",
       "==============================================================================\n",
       "Dep. Variable:                 target   No. Observations:                 9785\n",
       "Model:                          Logit   Df Residuals:                     9776\n",
       "Method:                           MLE   Df Model:                            8\n",
       "Date:                Wed, 26 May 2021   Pseudo R-squ.:                  0.1728\n",
       "Time:                        16:32:35   Log-Likelihood:                -3596.2\n",
       "converged:                       True   LL-Null:                       -4347.3\n",
       "Covariance Type:            nonrobust   LLR p-value:                     0.000\n",
       "==========================================================================================\n",
       "                             coef    std err          z      P>|z|      [0.025      0.975]\n",
       "------------------------------------------------------------------------------------------\n",
       "const                      4.8766      0.207     23.570      0.000       4.471       5.282\n",
       "city_development_index    -7.7115      0.240    -32.089      0.000      -8.183      -7.241\n",
       "relevent_experience       -0.2473      0.086     -2.860      0.004      -0.417      -0.078\n",
       "Full time course           0.2032      0.089      2.274      0.023       0.028       0.378\n",
       ">20y experience           -0.7337      0.127     -5.783      0.000      -0.982      -0.485\n",
       "experience                -0.0420      0.008     -5.480      0.000      -0.057      -0.027\n",
       "company_size               0.0419      0.014      3.022      0.003       0.015       0.069\n",
       ">4y from last job          0.2465      0.107      2.298      0.022       0.036       0.457\n",
       "last_new_job               0.1144      0.034      3.384      0.001       0.048       0.181\n",
       "==========================================================================================\n",
       "\"\"\""
      ]
     },
     "execution_count": 475,
     "metadata": {},
     "output_type": "execute_result"
    }
   ],
   "source": [
    "Xt = data1[smaller_predictors]\n",
    "Xt = sm.add_constant(Xt)\n",
    "yt = data1['target']\n",
    "model = sm.Logit(yt, Xt).fit()\n",
    "model.summary()"
   ]
  },
  {
   "cell_type": "code",
   "execution_count": 421,
   "metadata": {},
   "outputs": [
    {
     "name": "stdout",
     "output_type": "stream",
     "text": [
      "Optimization terminated successfully.\n",
      "         Current function value: 0.395958\n",
      "         Iterations 7\n",
      "Optimization terminated successfully.\n",
      "         Current function value: 0.396659\n",
      "         Iterations 7\n",
      "Optimization terminated successfully.\n",
      "         Current function value: 0.396128\n",
      "         Iterations 7\n",
      "Optimization terminated successfully.\n",
      "         Current function value: 0.398051\n",
      "         Iterations 7\n",
      "Optimization terminated successfully.\n",
      "         Current function value: 0.397231\n",
      "         Iterations 6\n",
      "Optimization terminated successfully.\n",
      "         Current function value: 0.397170\n",
      "         Iterations 6\n",
      "Optimization terminated successfully.\n",
      "         Current function value: 0.396976\n",
      "         Iterations 6\n",
      "Optimization terminated successfully.\n",
      "         Current function value: 0.395328\n",
      "         Iterations 7\n",
      "Optimization terminated successfully.\n",
      "         Current function value: 0.396282\n",
      "         Iterations 6\n",
      "Optimization terminated successfully.\n",
      "         Current function value: 0.396806\n",
      "         Iterations 6\n"
     ]
    }
   ],
   "source": [
    "Accuracies = []\n",
    "AUCs = []\n",
    "\n",
    "for i in range(len(train_indexes)):\n",
    "    #logreg.fit(data1.loc[train_indexes[i], predictors],data1.loc[train_indexes[i], 'target'])\n",
    "    model = sm.Logit(data1.loc[train_indexes[i], 'target'], data1.loc[train_indexes[i], smaller_predictors]).fit()\n",
    "    \n",
    "    Accuracies.append(metrics.accuracy_score(data1.loc[test_indexes[i], 'target'],\n",
    "                                            (model.predict(data1.loc[test_indexes[i], smaller_predictors]) > 0.5).astype(int)))\n",
    "    \n",
    "    AUCs.append(metrics.roc_auc_score(data1.loc[test_indexes[i], 'target'],\n",
    "                                            (model.predict(data1.loc[test_indexes[i], smaller_predictors]) > 0.5).astype(int)))\n"
   ]
  },
  {
   "cell_type": "code",
   "execution_count": 422,
   "metadata": {
    "scrolled": true
   },
   "outputs": [
    {
     "name": "stdout",
     "output_type": "stream",
     "text": [
      "Mean Accuracy Rate: 0.8370970336159556\n",
      "Mean Precision Recall F-Score: 0.5029642852928633\n"
     ]
    }
   ],
   "source": [
    "print('Mean Accuracy Rate: {}\\nMean AUC: {}'.format(np.mean(Accuracies), np.mean(FS)))"
   ]
  },
  {
   "cell_type": "code",
   "execution_count": 423,
   "metadata": {},
   "outputs": [
    {
     "name": "stdout",
     "output_type": "stream",
     "text": [
      "Optimization terminated successfully.\n",
      "         Current function value: 0.396806\n",
      "         Iterations 6\n"
     ]
    },
    {
     "data": {
      "text/plain": [
       "array([[818,   1],\n",
       "       [158,   1]])"
      ]
     },
     "execution_count": 423,
     "metadata": {},
     "output_type": "execute_result"
    }
   ],
   "source": [
    "model = sm.Logit(data1.loc[train_indexes[9], 'target'], data1.loc[train_indexes[9], smaller_predictors]).fit()\n",
    "confusion_matrix(data1.loc[test_indexes[9], 'target'], ((model.predict(data1.loc[test_indexes[9], smaller_predictors]))>0.5).astype(float))\n"
   ]
  },
  {
   "cell_type": "code",
   "execution_count": 424,
   "metadata": {},
   "outputs": [
    {
     "data": {
      "text/plain": [
       "[<matplotlib.lines.Line2D at 0x128b92970>]"
      ]
     },
     "execution_count": 424,
     "metadata": {},
     "output_type": "execute_result"
    },
    {
     "data": {
      "image/png": "[encoded data removed]",
      "text/plain": [
       "<Figure size 432x288 with 1 Axes>"
      ]
     },
     "metadata": {
      "needs_background": "light"
     },
     "output_type": "display_data"
    }
   ],
   "source": [
    "fpr,tpr,thresholds = roc_curve(data1.loc[test_indexes[9], 'target'], ((model.predict(data1.loc[test_indexes[9], smaller_predictors]))>0.5).astype(float))\n",
    "xgrid = np.linspace(0,1,100) \n",
    "plt.plot(fpr,tpr)\n",
    "plt.plot(xgrid,xgrid,'red')"
   ]
  },
  {
   "cell_type": "markdown",
   "metadata": {},
   "source": [
    "After removing all variables as they lost significance, we are left with a logistic regression on 8 variables:\n",
    "- city_development_index\n",
    "- elevent_experience\n",
    "- Full time course\n",
    "- \\>20y experience\n",
    "- experience\n",
    "- company_size\n",
    "- \\>4y from last job\n",
    "- last_new_job\n",
    "\n",
    "We've lost a little bit on accuracy and the model is now not better than a no-skill classifier. This is due to the heavy imbalance on the target variable. By removing the predictors that were not statstically significant the model classifies most of the observations to 0 instead of 1. Most of the observations of class 1 are now false negatives, but because they are so few the Accuracy is barely impacted.\n",
    "\n",
    "We can also see that negative coefficients have generally a greater magnitude than positive ones, so that makes the majority of predictions go to 0 when we reduce the number of predictors. City development index is the one that stands out in this aspect, and because its values are mostly close to one (the company looks mostly in cities with high development) the majority of the dataset bbelong to the class 0."
   ]
  },
  {
   "cell_type": "code",
   "execution_count": 425,
   "metadata": {},
   "outputs": [
    {
     "data": {
      "text/plain": [
       "count    9785.000000\n",
       "mean        0.846043\n",
       "std         0.114736\n",
       "min         0.448000\n",
       "25%         0.802000\n",
       "50%         0.910000\n",
       "75%         0.920000\n",
       "max         0.949000\n",
       "Name: city_development_index, dtype: float64"
      ]
     },
     "execution_count": 425,
     "metadata": {},
     "output_type": "execute_result"
    }
   ],
   "source": [
    "data1.city_development_index.describe()"
   ]
  },
  {
   "cell_type": "markdown",
   "metadata": {},
   "source": [
    "We can see that the minimum is relatively ihgh, 0.44, and both the mean and median are very close to 1, 0.84 and 0.91, respectively. This allows us to reach the first conclusion that highly-developed cities are a bad place to look for new employees, perhaps because of a relatively more competitive job market. We can also see thath the coefficients for experience and \\>20y experience are negative, expecially the last one. Because of the values that the variable experience takes, the effect of the values on the higher end of this range will have a similar effect on the response as that of \\>20y experience. This also shed light in that highly-experienced people don't generally join the company. Again this might be attributed to the competitiveness of the job market.\n",
    "\n",
    "It could be that they stayed on their company, but the coefficients related to experience are positive, so it looks like people are looking for a job change the more they have been in their current one. Also the coefficient for Full time course is positive. This points out that potentially profiles of candidates to look at are:\n",
    "- recent graduates and soon to be graduates\n",
    "- People with a low to moderate amount of experience who have been in their jobs for some time (perhaps more than 2 years)\n",
    "\n",
    "And the less economically developed the city they live in is, the higher chances they have to recruit them. These variables offer a possibility to do a rough classification. However, by removing variables from the beginning we lost the capacity to identify positives in the sample. A possible reason for this is that the company is mostly present in highly-developed cities and those of lower development are of no interest.\n",
    "\n",
    "We'll try LDA and QDA classification next to see if we get better results."
   ]
  },
  {
   "cell_type": "markdown",
   "metadata": {},
   "source": [
    "# LDA Classification"
   ]
  },
  {
   "cell_type": "code",
   "execution_count": 426,
   "metadata": {},
   "outputs": [],
   "source": [
    "from sklearn.discriminant_analysis import LinearDiscriminantAnalysis"
   ]
  },
  {
   "cell_type": "code",
   "execution_count": 427,
   "metadata": {},
   "outputs": [],
   "source": [
    "from sklearn.metrics import confusion_matrix"
   ]
  },
  {
   "cell_type": "code",
   "execution_count": 433,
   "metadata": {},
   "outputs": [],
   "source": [
    "clf = LinearDiscriminantAnalysis(solver='lsqr',store_covariance=True)"
   ]
  },
  {
   "cell_type": "code",
   "execution_count": 434,
   "metadata": {},
   "outputs": [],
   "source": [
    "Accuracies = []\n",
    "AUCs = []\n",
    "\n",
    "for i in range(len(train_indexes)):\n",
    "    #logreg.fit(data1.loc[train_indexes[i], predictors],data1.loc[train_indexes[i], 'target'])\n",
    "    model = clf.fit(data1.loc[train_indexes[i], predictors].values, data1.loc[train_indexes[i], 'target'].values)\n",
    "    \n",
    "    Accuracies.append(metrics.accuracy_score(data1.loc[test_indexes[i], 'target'],\n",
    "                                            (model.predict_proba(data1.loc[test_indexes[i], predictors]) > 0.5)[:,1].astype(int)))\n",
    "    \n",
    "    AUCs.append(metrics.roc_auc_score(data1.loc[test_indexes[i], 'target'],\n",
    "                                            (model.predict_proba(data1.loc[test_indexes[i], predictors]) > 0.5)[:,1].astype(int)))\n"
   ]
  },
  {
   "cell_type": "code",
   "execution_count": 435,
   "metadata": {},
   "outputs": [
    {
     "name": "stdout",
     "output_type": "stream",
     "text": [
      "0.8571279069038772 0.7149273602956587\n"
     ]
    }
   ],
   "source": [
    "print(np.mean(Accuracies), np.mean(AUCs))"
   ]
  },
  {
   "cell_type": "code",
   "execution_count": 436,
   "metadata": {},
   "outputs": [
    {
     "name": "stdout",
     "output_type": "stream",
     "text": [
      "Split with most Accuracy: 4\n",
      "Split with most AUC: 10\n"
     ]
    }
   ],
   "source": [
    "print('Split with most Accuracy: {}\\nSplit with most AUC: {}'.format(Accuracies.index(max(Accuracies))+1, AUCs.index(max(AUCs))+1))"
   ]
  },
  {
   "cell_type": "code",
   "execution_count": 445,
   "metadata": {},
   "outputs": [
    {
     "data": {
      "text/plain": [
       "[(0, 0.86414708886619),\n",
       " (1, 0.8590398365679265),\n",
       " (2, 0.8529111338100103),\n",
       " (3, 0.8661899897854954),\n",
       " (4, 0.8467824310520939),\n",
       " (5, 0.852760736196319),\n",
       " (6, 0.8629856850715747),\n",
       " (7, 0.8496932515337423),\n",
       " (8, 0.8517382413087935),\n",
       " (9, 0.8650306748466258)]"
      ]
     },
     "execution_count": 445,
     "metadata": {},
     "output_type": "execute_result"
    }
   ],
   "source": [
    "sorted(enumerate(Accuracies))"
   ]
  },
  {
   "cell_type": "code",
   "execution_count": 446,
   "metadata": {},
   "outputs": [
    {
     "data": {
      "text/plain": [
       "[(0, 0.700901211842307),\n",
       " (1, 0.7079920233164596),\n",
       " (2, 0.7058989621489622),\n",
       " (3, 0.7289224664224665),\n",
       " (4, 0.7097794566544566),\n",
       " (5, 0.7270947082267836),\n",
       " (6, 0.7255972538991408),\n",
       " (7, 0.7049899785748842),\n",
       " (8, 0.7062109797958854),\n",
       " (9, 0.7318865620752414)]"
      ]
     },
     "execution_count": 446,
     "metadata": {},
     "output_type": "execute_result"
    }
   ],
   "source": [
    "sorted(enumerate(AUCs))"
   ]
  },
  {
   "cell_type": "markdown",
   "metadata": {},
   "source": [
    "The best split is the 10th one, as it has almost the same accuracy as the 4th one and a higher AUC"
   ]
  },
  {
   "cell_type": "code",
   "execution_count": 448,
   "metadata": {
    "scrolled": true
   },
   "outputs": [
    {
     "data": {
      "text/plain": [
       "array([[761,  58],\n",
       "       [ 74,  85]])"
      ]
     },
     "execution_count": 448,
     "metadata": {},
     "output_type": "execute_result"
    }
   ],
   "source": [
    "model = clf.fit(data1.loc[train_indexes[9], predictors].values, data1.loc[train_indexes[9], 'target'].values)\n",
    "confusion_matrix(data1.loc[test_indexes[9], 'target'], ((model.predict_proba(data1.loc[test_indexes[9], predictors]))>0.5)[:,1].astype(float))"
   ]
  },
  {
   "cell_type": "code",
   "execution_count": 187,
   "metadata": {},
   "outputs": [
    {
     "data": {
      "text/plain": [
       "[<matplotlib.lines.Line2D at 0x127afc940>]"
      ]
     },
     "execution_count": 187,
     "metadata": {},
     "output_type": "execute_result"
    },
    {
     "data": {
      "image/png": "[encoded data removed]",
      "text/plain": [
       "<Figure size 432x288 with 1 Axes>"
      ]
     },
     "metadata": {
      "needs_background": "light"
     },
     "output_type": "display_data"
    }
   ],
   "source": [
    "fpr,tpr,thresholds = roc_curve(data1.loc[test_indexes[9], 'target'], ((model.predict_proba(data1.loc[test_indexes[9], predictors]))>0.5)[:,1].astype(float))\n",
    "xgrid = np.linspace(0,1,100) \n",
    "plt.plot(fpr,tpr)\n",
    "plt.plot(xgrid,xgrid,'red')"
   ]
  },
  {
   "cell_type": "markdown",
   "metadata": {},
   "source": [
    "## Quadratic Discriminant analysis"
   ]
  },
  {
   "cell_type": "code",
   "execution_count": 449,
   "metadata": {},
   "outputs": [],
   "source": [
    "from sklearn.discriminant_analysis import QuadraticDiscriminantAnalysis"
   ]
  },
  {
   "cell_type": "code",
   "execution_count": 450,
   "metadata": {},
   "outputs": [],
   "source": [
    "qda = QuadraticDiscriminantAnalysis()\n"
   ]
  },
  {
   "cell_type": "code",
   "execution_count": 468,
   "metadata": {},
   "outputs": [],
   "source": [
    "Accuracies = []\n",
    "AUCs = []\n",
    "\n",
    "for i in range(len(train_indexes)):\n",
    "    #logreg.fit(data1.loc[train_indexes[i], predictors],data1.loc[train_indexes[i], 'target'])\n",
    "    model = qda.fit(data1.loc[train_indexes[i], predictors].values, data1.loc[train_indexes[i], 'target'].values)\n",
    "    \n",
    "    Accuracies.append(metrics.accuracy_score(data1.loc[test_indexes[i], 'target'],\n",
    "                                            (qda.predict_proba(data1.loc[test_indexes[i], predictors]) > 0.5)[:,1].astype(int)))\n",
    "    \n",
    "    AUCs.append(metrics.roc_auc_score(data1.loc[test_indexes[i], 'target'],\n",
    "                                            (qda.predict_proba(data1.loc[test_indexes[i], predictors]) > 0.5)[:,1].astype(int)))\n"
   ]
  },
  {
   "cell_type": "code",
   "execution_count": 456,
   "metadata": {},
   "outputs": [
    {
     "name": "stdout",
     "output_type": "stream",
     "text": [
      "0.7641298558062879 0.6965539110599223\n"
     ]
    }
   ],
   "source": [
    "print(np.mean(Accuracies), np.mean(AUCs))"
   ]
  },
  {
   "cell_type": "code",
   "execution_count": 457,
   "metadata": {},
   "outputs": [
    {
     "name": "stdout",
     "output_type": "stream",
     "text": [
      "Split with most Accuracy: 4\n",
      "Split with most AUC: 4\n"
     ]
    }
   ],
   "source": [
    "print('Split with most Accuracy: {}\\nSplit with most AUC: {}'.format(Accuracies.index(max(Accuracies))+1, AUCs.index(max(AUCs))+1))"
   ]
  },
  {
   "cell_type": "code",
   "execution_count": 471,
   "metadata": {
    "scrolled": true
   },
   "outputs": [
    {
     "data": {
      "text/plain": [
       "array([[650, 169],\n",
       "       [ 57, 102]])"
      ]
     },
     "execution_count": 471,
     "metadata": {},
     "output_type": "execute_result"
    }
   ],
   "source": [
    "model = qda.fit(data1.loc[train_indexes[5], predictors].values, data1.loc[train_indexes[5], 'target'].values)\n",
    "confusion_matrix(data1.loc[test_indexes[5], 'target'], ((model.predict_proba(data1.loc[test_indexes[5], predictors]))>0.5)[:,1].astype(float))"
   ]
  },
  {
   "cell_type": "code",
   "execution_count": 473,
   "metadata": {
    "scrolled": true
   },
   "outputs": [
    {
     "data": {
      "text/plain": [
       "[<matplotlib.lines.Line2D at 0x128cdc0d0>]"
      ]
     },
     "execution_count": 473,
     "metadata": {},
     "output_type": "execute_result"
    },
    {
     "data": {
      "image/png": "[encoded data removed]",
      "text/plain": [
       "<Figure size 432x288 with 1 Axes>"
      ]
     },
     "metadata": {
      "needs_background": "light"
     },
     "output_type": "display_data"
    }
   ],
   "source": [
    "fpr,tpr,thresholds = roc_curve(data1.loc[test_indexes[4], 'target'], ((model.predict_proba(data1.loc[test_indexes[4], predictors]))>0.5)[:,1].astype(float))\n",
    "xgrid = np.linspace(0,1,100) \n",
    "plt.plot(fpr,tpr)\n",
    "plt.plot(xgrid,xgrid,'red')"
   ]
  },
  {
   "cell_type": "markdown",
   "metadata": {},
   "source": [
    "# Clustering"
   ]
  },
  {
   "cell_type": "markdown",
   "metadata": {},
   "source": [
    "Following the classification step, a linear regression on the training hours was tried, to see if there was a possibility to identify people who spent more time on training and if it could be related to whether they joined the company. However, no conclusions could be drawn because the MSE was very high, so we opted for clustering instead to see if some more insight could be gained from the data."
   ]
  },
  {
   "cell_type": "code",
   "execution_count": 834,
   "metadata": {
    "scrolled": true
   },
   "outputs": [
    {
     "name": "stdout",
     "output_type": "stream",
     "text": [
      "-1301271.6390861394\n"
     ]
    },
    {
     "data": {
      "text/html": [
       "<div>\n",
       "<style scoped>\n",
       "    .dataframe tbody tr th:only-of-type {\n",
       "        vertical-align: middle;\n",
       "    }\n",
       "\n",
       "    .dataframe tbody tr th {\n",
       "        vertical-align: top;\n",
       "    }\n",
       "\n",
       "    .dataframe thead th {\n",
       "        text-align: right;\n",
       "    }\n",
       "</style>\n",
       "<table border=\"1\" class=\"dataframe\">\n",
       "  <thead>\n",
       "    <tr style=\"text-align: right;\">\n",
       "      <th></th>\n",
       "      <th>spherical</th>\n",
       "      <th>tied</th>\n",
       "      <th>diag</th>\n",
       "      <th>full</th>\n",
       "    </tr>\n",
       "  </thead>\n",
       "  <tbody>\n",
       "    <tr>\n",
       "      <th>1</th>\n",
       "      <td>2.046549e+06</td>\n",
       "      <td>133769.994885</td>\n",
       "      <td>2.663854e+05</td>\n",
       "      <td>1.337700e+05</td>\n",
       "    </tr>\n",
       "    <tr>\n",
       "      <th>2</th>\n",
       "      <td>1.655396e+06</td>\n",
       "      <td>130629.945201</td>\n",
       "      <td>-9.338460e+04</td>\n",
       "      <td>-2.802874e+05</td>\n",
       "    </tr>\n",
       "    <tr>\n",
       "      <th>3</th>\n",
       "      <td>1.465570e+06</td>\n",
       "      <td>129398.718755</td>\n",
       "      <td>-3.559528e+05</td>\n",
       "      <td>-5.288107e+05</td>\n",
       "    </tr>\n",
       "    <tr>\n",
       "      <th>4</th>\n",
       "      <td>1.332770e+06</td>\n",
       "      <td>128750.963937</td>\n",
       "      <td>-6.486050e+05</td>\n",
       "      <td>-6.743593e+05</td>\n",
       "    </tr>\n",
       "    <tr>\n",
       "      <th>5</th>\n",
       "      <td>1.274490e+06</td>\n",
       "      <td>129090.278380</td>\n",
       "      <td>-6.769569e+05</td>\n",
       "      <td>-8.298465e+05</td>\n",
       "    </tr>\n",
       "    <tr>\n",
       "      <th>6</th>\n",
       "      <td>1.212616e+06</td>\n",
       "      <td>128701.049650</td>\n",
       "      <td>-5.183978e+05</td>\n",
       "      <td>-8.635060e+05</td>\n",
       "    </tr>\n",
       "    <tr>\n",
       "      <th>7</th>\n",
       "      <td>1.188678e+06</td>\n",
       "      <td>128858.779481</td>\n",
       "      <td>-8.718190e+05</td>\n",
       "      <td>-8.512590e+05</td>\n",
       "    </tr>\n",
       "    <tr>\n",
       "      <th>8</th>\n",
       "      <td>1.128396e+06</td>\n",
       "      <td>129012.404663</td>\n",
       "      <td>-8.120016e+05</td>\n",
       "      <td>-9.682667e+05</td>\n",
       "    </tr>\n",
       "    <tr>\n",
       "      <th>9</th>\n",
       "      <td>1.119283e+06</td>\n",
       "      <td>128842.696693</td>\n",
       "      <td>-8.778134e+05</td>\n",
       "      <td>-1.033172e+06</td>\n",
       "    </tr>\n",
       "    <tr>\n",
       "      <th>10</th>\n",
       "      <td>1.094920e+06</td>\n",
       "      <td>128930.718759</td>\n",
       "      <td>-9.588966e+05</td>\n",
       "      <td>-8.501201e+05</td>\n",
       "    </tr>\n",
       "    <tr>\n",
       "      <th>11</th>\n",
       "      <td>1.068098e+06</td>\n",
       "      <td>129136.571976</td>\n",
       "      <td>-9.762874e+05</td>\n",
       "      <td>-9.330243e+05</td>\n",
       "    </tr>\n",
       "    <tr>\n",
       "      <th>12</th>\n",
       "      <td>1.058804e+06</td>\n",
       "      <td>129365.523404</td>\n",
       "      <td>-1.007598e+06</td>\n",
       "      <td>-9.636299e+05</td>\n",
       "    </tr>\n",
       "    <tr>\n",
       "      <th>13</th>\n",
       "      <td>1.028422e+06</td>\n",
       "      <td>129474.246856</td>\n",
       "      <td>-1.109692e+06</td>\n",
       "      <td>-1.066835e+06</td>\n",
       "    </tr>\n",
       "    <tr>\n",
       "      <th>14</th>\n",
       "      <td>1.028894e+06</td>\n",
       "      <td>129568.855096</td>\n",
       "      <td>-1.025087e+06</td>\n",
       "      <td>-1.176181e+06</td>\n",
       "    </tr>\n",
       "    <tr>\n",
       "      <th>15</th>\n",
       "      <td>9.812164e+05</td>\n",
       "      <td>-249977.256996</td>\n",
       "      <td>-1.069854e+06</td>\n",
       "      <td>-1.107521e+06</td>\n",
       "    </tr>\n",
       "    <tr>\n",
       "      <th>16</th>\n",
       "      <td>9.937591e+05</td>\n",
       "      <td>-199264.561053</td>\n",
       "      <td>-1.042085e+06</td>\n",
       "      <td>-9.539767e+05</td>\n",
       "    </tr>\n",
       "    <tr>\n",
       "      <th>17</th>\n",
       "      <td>9.567086e+05</td>\n",
       "      <td>-357146.345622</td>\n",
       "      <td>-1.046852e+06</td>\n",
       "      <td>-1.196646e+06</td>\n",
       "    </tr>\n",
       "    <tr>\n",
       "      <th>18</th>\n",
       "      <td>9.435711e+05</td>\n",
       "      <td>-285759.065265</td>\n",
       "      <td>-9.940876e+05</td>\n",
       "      <td>-1.110753e+06</td>\n",
       "    </tr>\n",
       "    <tr>\n",
       "      <th>19</th>\n",
       "      <td>9.469020e+05</td>\n",
       "      <td>-270629.597484</td>\n",
       "      <td>-1.093835e+06</td>\n",
       "      <td>-1.143761e+06</td>\n",
       "    </tr>\n",
       "    <tr>\n",
       "      <th>20</th>\n",
       "      <td>9.443183e+05</td>\n",
       "      <td>-123827.247731</td>\n",
       "      <td>-1.132815e+06</td>\n",
       "      <td>-1.219419e+06</td>\n",
       "    </tr>\n",
       "    <tr>\n",
       "      <th>21</th>\n",
       "      <td>9.110475e+05</td>\n",
       "      <td>-379113.003938</td>\n",
       "      <td>-1.156193e+06</td>\n",
       "      <td>-1.159657e+06</td>\n",
       "    </tr>\n",
       "    <tr>\n",
       "      <th>22</th>\n",
       "      <td>9.123074e+05</td>\n",
       "      <td>-146451.633849</td>\n",
       "      <td>-1.187497e+06</td>\n",
       "      <td>-1.069403e+06</td>\n",
       "    </tr>\n",
       "    <tr>\n",
       "      <th>23</th>\n",
       "      <td>8.972768e+05</td>\n",
       "      <td>-207033.067065</td>\n",
       "      <td>-1.156457e+06</td>\n",
       "      <td>-1.266081e+06</td>\n",
       "    </tr>\n",
       "    <tr>\n",
       "      <th>24</th>\n",
       "      <td>9.012729e+05</td>\n",
       "      <td>-138165.338024</td>\n",
       "      <td>-1.255904e+06</td>\n",
       "      <td>-1.165930e+06</td>\n",
       "    </tr>\n",
       "    <tr>\n",
       "      <th>25</th>\n",
       "      <td>8.849591e+05</td>\n",
       "      <td>-386833.415526</td>\n",
       "      <td>-1.264369e+06</td>\n",
       "      <td>-1.125273e+06</td>\n",
       "    </tr>\n",
       "    <tr>\n",
       "      <th>26</th>\n",
       "      <td>8.861824e+05</td>\n",
       "      <td>-307759.447979</td>\n",
       "      <td>-1.158208e+06</td>\n",
       "      <td>-1.131064e+06</td>\n",
       "    </tr>\n",
       "    <tr>\n",
       "      <th>27</th>\n",
       "      <td>8.643699e+05</td>\n",
       "      <td>-215780.169063</td>\n",
       "      <td>-1.204060e+06</td>\n",
       "      <td>-1.248933e+06</td>\n",
       "    </tr>\n",
       "    <tr>\n",
       "      <th>28</th>\n",
       "      <td>8.733856e+05</td>\n",
       "      <td>-339668.010521</td>\n",
       "      <td>-1.301272e+06</td>\n",
       "      <td>-1.234673e+06</td>\n",
       "    </tr>\n",
       "    <tr>\n",
       "      <th>29</th>\n",
       "      <td>8.595832e+05</td>\n",
       "      <td>-245837.556121</td>\n",
       "      <td>-1.194925e+06</td>\n",
       "      <td>-1.203308e+06</td>\n",
       "    </tr>\n",
       "  </tbody>\n",
       "</table>\n",
       "</div>"
      ],
      "text/plain": [
       "       spherical           tied          diag          full\n",
       "1   2.046549e+06  133769.994885  2.663854e+05  1.337700e+05\n",
       "2   1.655396e+06  130629.945201 -9.338460e+04 -2.802874e+05\n",
       "3   1.465570e+06  129398.718755 -3.559528e+05 -5.288107e+05\n",
       "4   1.332770e+06  128750.963937 -6.486050e+05 -6.743593e+05\n",
       "5   1.274490e+06  129090.278380 -6.769569e+05 -8.298465e+05\n",
       "6   1.212616e+06  128701.049650 -5.183978e+05 -8.635060e+05\n",
       "7   1.188678e+06  128858.779481 -8.718190e+05 -8.512590e+05\n",
       "8   1.128396e+06  129012.404663 -8.120016e+05 -9.682667e+05\n",
       "9   1.119283e+06  128842.696693 -8.778134e+05 -1.033172e+06\n",
       "10  1.094920e+06  128930.718759 -9.588966e+05 -8.501201e+05\n",
       "11  1.068098e+06  129136.571976 -9.762874e+05 -9.330243e+05\n",
       "12  1.058804e+06  129365.523404 -1.007598e+06 -9.636299e+05\n",
       "13  1.028422e+06  129474.246856 -1.109692e+06 -1.066835e+06\n",
       "14  1.028894e+06  129568.855096 -1.025087e+06 -1.176181e+06\n",
       "15  9.812164e+05 -249977.256996 -1.069854e+06 -1.107521e+06\n",
       "16  9.937591e+05 -199264.561053 -1.042085e+06 -9.539767e+05\n",
       "17  9.567086e+05 -357146.345622 -1.046852e+06 -1.196646e+06\n",
       "18  9.435711e+05 -285759.065265 -9.940876e+05 -1.110753e+06\n",
       "19  9.469020e+05 -270629.597484 -1.093835e+06 -1.143761e+06\n",
       "20  9.443183e+05 -123827.247731 -1.132815e+06 -1.219419e+06\n",
       "21  9.110475e+05 -379113.003938 -1.156193e+06 -1.159657e+06\n",
       "22  9.123074e+05 -146451.633849 -1.187497e+06 -1.069403e+06\n",
       "23  8.972768e+05 -207033.067065 -1.156457e+06 -1.266081e+06\n",
       "24  9.012729e+05 -138165.338024 -1.255904e+06 -1.165930e+06\n",
       "25  8.849591e+05 -386833.415526 -1.264369e+06 -1.125273e+06\n",
       "26  8.861824e+05 -307759.447979 -1.158208e+06 -1.131064e+06\n",
       "27  8.643699e+05 -215780.169063 -1.204060e+06 -1.248933e+06\n",
       "28  8.733856e+05 -339668.010521 -1.301272e+06 -1.234673e+06\n",
       "29  8.595832e+05 -245837.556121 -1.194925e+06 -1.203308e+06"
      ]
     },
     "execution_count": 834,
     "metadata": {},
     "output_type": "execute_result"
    }
   ],
   "source": [
    "lowest_bic = np.infty\n",
    "# predictors\n",
    "\n",
    "#Consider k=1,...,6 and four types of covariance matrix\n",
    "n_components_range = range(1, 30)\n",
    "cv_types = ['spherical', 'tied', 'diag', 'full']\n",
    "bic = np.zeros((len(n_components_range),len(cv_types))) #matrix to store the BICs\n",
    "j = -1\n",
    "for cv_type in cv_types:\n",
    "    j = j+1\n",
    "    for n_components in n_components_range:\n",
    "        # Fit a Gaussian mixture with EM\n",
    "        gmm = GaussianMixture(n_components=n_components,\n",
    "                                      covariance_type=cv_type)\n",
    "        gmm.fit(data1)\n",
    "        bicij = gmm.bic(data1)  #get the BIC \n",
    "        bic[n_components-1,j] = bicij\n",
    "        #the code below keeps track of the model with the lowest BIC\n",
    "        if bicij < lowest_bic:\n",
    "            lowest_bic = bicij\n",
    "            best_gmm = gmm\n",
    "print(lowest_bic)\n",
    "bic = pd.DataFrame(bic,columns = cv_types,index=n_components_range)\n",
    "bic"
   ]
  },
  {
   "cell_type": "markdown",
   "metadata": {},
   "source": [
    "The lowest BIC is for the model with 28 clusters and a diagonal covariance matrix."
   ]
  },
  {
   "cell_type": "code",
   "execution_count": 835,
   "metadata": {},
   "outputs": [],
   "source": [
    "gmm = GaussianMixture(n_components=28, covariance_type='diag')\n",
    "gmm.fit(data1)\n",
    "labels = gmm.predict(data1)\n"
   ]
  },
  {
   "cell_type": "markdown",
   "metadata": {},
   "source": [
    "Let's check the size of the clusters."
   ]
  },
  {
   "cell_type": "code",
   "execution_count": 836,
   "metadata": {},
   "outputs": [
    {
     "name": "stdout",
     "output_type": "stream",
     "text": [
      "(780, 27)\n",
      "(58, 27)\n",
      "(63, 27)\n",
      "(290, 27)\n",
      "(155, 27)\n",
      "(76, 27)\n",
      "(14, 27)\n",
      "(53, 27)\n",
      "(29, 27)\n",
      "(32, 27)\n",
      "(55, 27)\n",
      "(1172, 27)\n",
      "(564, 27)\n",
      "(286, 27)\n",
      "(31, 27)\n",
      "(25, 27)\n",
      "(160, 27)\n",
      "(2106, 27)\n",
      "(116, 27)\n",
      "(97, 27)\n",
      "(22, 27)\n",
      "(177, 27)\n",
      "(2902, 27)\n",
      "(76, 27)\n",
      "(176, 27)\n",
      "(157, 27)\n"
     ]
    }
   ],
   "source": [
    "for i in range(1,27):\n",
    "    print(data1.loc[labels == i, :].shape)"
   ]
  },
  {
   "cell_type": "markdown",
   "metadata": {},
   "source": [
    "Some of the clusters are really small, so we'll keep those with a size of at least 100 in a list to work only with those"
   ]
  },
  {
   "cell_type": "code",
   "execution_count": null,
   "metadata": {},
   "outputs": [],
   "source": [
    "larger_clusters = []\n",
    "for i in range(1,27):\n",
    "    if data1.loc[labels == i, :].shape[0] > 99:\n",
    "        larger_clusters.append(i)"
   ]
  },
  {
   "cell_type": "code",
   "execution_count": 837,
   "metadata": {},
   "outputs": [
    {
     "data": {
      "text/plain": [
       "[1, 4, 5, 12, 13, 14, 17, 18, 19, 22, 23, 25, 26]"
      ]
     },
     "execution_count": 837,
     "metadata": {},
     "output_type": "execute_result"
    }
   ],
   "source": [
    "larger_clusters"
   ]
  },
  {
   "cell_type": "markdown",
   "metadata": {},
   "source": [
    "We'll keep only those clusters with a conversoin higher than the average to focus on the most relevant ones"
   ]
  },
  {
   "cell_type": "code",
   "execution_count": 598,
   "metadata": {},
   "outputs": [
    {
     "data": {
      "text/plain": [
       "0.16280020439448134"
      ]
     },
     "execution_count": 598,
     "metadata": {},
     "output_type": "execute_result"
    }
   ],
   "source": [
    "data1['target'].sum()/len(data1['target'])"
   ]
  },
  {
   "cell_type": "code",
   "execution_count": 857,
   "metadata": {},
   "outputs": [],
   "source": [
    "pd.set_option('display.max_rows', 500)\n",
    "pd.set_option('display.max_columns', 500)"
   ]
  },
  {
   "cell_type": "markdown",
   "metadata": {},
   "source": [
    "Here we print the variable summary for each of the relevant cluster used in the document to find important variables or comibnations of variables, and compare with the results around variable importance from the Logistic Regression."
   ]
  },
  {
   "cell_type": "code",
   "execution_count": 858,
   "metadata": {},
   "outputs": [
    {
     "name": "stdout",
     "output_type": "stream",
     "text": [
      "Cluster 4:\n",
      "       city_development_index  Female   Male  relevent_experience  \\\n",
      "count              290.000000   290.0  290.0           290.000000   \n",
      "mean                 0.783638     0.0    1.0             0.872414   \n",
      "std                  0.137184     0.0    0.0             0.334205   \n",
      "min                  0.516000     0.0    1.0             0.000000   \n",
      "25%                  0.624000     0.0    1.0             1.000000   \n",
      "50%                  0.855000     0.0    1.0             1.000000   \n",
      "75%                  0.920000     0.0    1.0             1.000000   \n",
      "max                  0.939000     0.0    1.0             1.000000   \n",
      "\n",
      "       Full time course  Part time course  High School    Graduate  \\\n",
      "count        290.000000        290.000000        290.0  290.000000   \n",
      "mean           0.151724          0.117241          0.0    0.727586   \n",
      "std            0.359373          0.322264          0.0    0.445971   \n",
      "min            0.000000          0.000000          0.0    0.000000   \n",
      "25%            0.000000          0.000000          0.0    0.000000   \n",
      "50%            0.000000          0.000000          0.0    1.000000   \n",
      "75%            0.000000          0.000000          0.0    1.000000   \n",
      "max            1.000000          1.000000          0.0    1.000000   \n",
      "\n",
      "          Masters         Phd  Other_major  Arts_major  Humanities_major  \\\n",
      "count  290.000000  290.000000        290.0       290.0        290.000000   \n",
      "mean     0.251724    0.017241          0.0         0.0          0.024138   \n",
      "std      0.434754    0.130395          0.0         0.0          0.153743   \n",
      "min      0.000000    0.000000          0.0         0.0          0.000000   \n",
      "25%      0.000000    0.000000          0.0         0.0          0.000000   \n",
      "50%      0.000000    0.000000          0.0         0.0          0.000000   \n",
      "75%      0.750000    0.000000          0.0         0.0          0.000000   \n",
      "max      1.000000    1.000000          0.0         0.0          1.000000   \n",
      "\n",
      "       Business_Degree_major  STEM_major  >20y experience  experience  \\\n",
      "count                  290.0  290.000000            290.0  290.000000   \n",
      "mean                     0.0    0.951724              0.0    7.448276   \n",
      "std                      0.0    0.214719              0.0    4.827016   \n",
      "min                      0.0    0.000000              0.0    0.000000   \n",
      "25%                      0.0    1.000000              0.0    4.000000   \n",
      "50%                      0.0    1.000000              0.0    7.000000   \n",
      "75%                      0.0    1.000000              0.0   11.000000   \n",
      "max                      0.0    1.000000              0.0   20.000000   \n",
      "\n",
      "       company_size    NGO  Public_Sector  Pvt_Ltd  Early_Stage_Startup  \\\n",
      "count    290.000000  290.0          290.0    290.0                290.0   \n",
      "mean       0.762069    0.0            0.0      0.0                  1.0   \n",
      "std        0.853616    0.0            0.0      0.0                  0.0   \n",
      "min        0.000000    0.0            0.0      0.0                  1.0   \n",
      "25%        0.000000    0.0            0.0      0.0                  1.0   \n",
      "50%        1.000000    0.0            0.0      0.0                  1.0   \n",
      "75%        1.000000    0.0            0.0      0.0                  1.0   \n",
      "max        3.000000    0.0            0.0      0.0                  1.0   \n",
      "\n",
      "       Funded_Startup  >4y from last job  last_new_job  training_hours  \\\n",
      "count           290.0              290.0    290.000000      290.000000   \n",
      "mean              0.0                0.0      1.289655       73.803448   \n",
      "std               0.0                0.0      0.859848       69.096437   \n",
      "min               0.0                0.0      0.000000        3.000000   \n",
      "25%               0.0                0.0      1.000000       23.000000   \n",
      "50%               0.0                0.0      1.000000       52.000000   \n",
      "75%               0.0                0.0      1.750000       99.500000   \n",
      "max               0.0                0.0      4.000000      336.000000   \n",
      "\n",
      "           target  \n",
      "count  290.000000  \n",
      "mean     0.241379  \n",
      "std      0.428659  \n",
      "min      0.000000  \n",
      "25%      0.000000  \n",
      "50%      0.000000  \n",
      "75%      0.000000  \n",
      "max      1.000000  \n",
      "Cluster 5:\n",
      "       city_development_index      Female        Male  relevent_experience  \\\n",
      "count              155.000000  155.000000  155.000000           155.000000   \n",
      "mean                 0.865019    0.283871    0.664516             0.516129   \n",
      "std                  0.098931    0.452336    0.473690             0.501360   \n",
      "min                  0.448000    0.000000    0.000000             0.000000   \n",
      "25%                  0.860500    0.000000    0.000000             0.000000   \n",
      "50%                  0.910000    0.000000    1.000000             1.000000   \n",
      "75%                  0.920000    1.000000    1.000000             1.000000   \n",
      "max                  0.939000    1.000000    1.000000             1.000000   \n",
      "\n",
      "       Full time course  Part time course  High School    Graduate  \\\n",
      "count        155.000000             155.0        155.0  155.000000   \n",
      "mean           0.238710               0.0          0.0    0.225806   \n",
      "std            0.427677               0.0          0.0    0.419468   \n",
      "min            0.000000               0.0          0.0    0.000000   \n",
      "25%            0.000000               0.0          0.0    0.000000   \n",
      "50%            0.000000               0.0          0.0    0.000000   \n",
      "75%            0.000000               0.0          0.0    0.000000   \n",
      "max            1.000000               0.0          0.0    1.000000   \n",
      "\n",
      "          Masters         Phd  Other_major  Arts_major  Humanities_major  \\\n",
      "count  155.000000  155.000000        155.0       155.0             155.0   \n",
      "mean     0.174194    0.600000          0.0         0.0               0.0   \n",
      "std      0.380505    0.491486          0.0         0.0               0.0   \n",
      "min      0.000000    0.000000          0.0         0.0               0.0   \n",
      "25%      0.000000    0.000000          0.0         0.0               0.0   \n",
      "50%      0.000000    1.000000          0.0         0.0               0.0   \n",
      "75%      0.000000    1.000000          0.0         0.0               0.0   \n",
      "max      1.000000    1.000000          0.0         0.0               0.0   \n",
      "\n",
      "       Business_Degree_major  STEM_major  >20y experience  experience  \\\n",
      "count                  155.0       155.0            155.0  155.000000   \n",
      "mean                     0.0         1.0              0.0    9.735484   \n",
      "std                      0.0         0.0              0.0    5.168684   \n",
      "min                      0.0         1.0              0.0    0.000000   \n",
      "25%                      0.0         1.0              0.0    6.000000   \n",
      "50%                      0.0         1.0              0.0    9.000000   \n",
      "75%                      0.0         1.0              0.0   14.000000   \n",
      "max                      0.0         1.0              0.0   20.000000   \n",
      "\n",
      "       company_size         NGO  Public_Sector     Pvt_Ltd  \\\n",
      "count    155.000000  155.000000     155.000000  155.000000   \n",
      "mean       4.070968    0.206452       0.400000    0.393548   \n",
      "std        2.120125    0.406070       0.491486    0.490120   \n",
      "min        0.000000    0.000000       0.000000    0.000000   \n",
      "25%        3.000000    0.000000       0.000000    0.000000   \n",
      "50%        4.000000    0.000000       0.000000    0.000000   \n",
      "75%        6.000000    0.000000       1.000000    1.000000   \n",
      "max        7.000000    1.000000       1.000000    1.000000   \n",
      "\n",
      "       Early_Stage_Startup  Funded_Startup  >4y from last job  last_new_job  \\\n",
      "count                155.0           155.0         155.000000    155.000000   \n",
      "mean                   0.0             0.0           0.174194      1.296774   \n",
      "std                    0.0             0.0           0.380505      1.082171   \n",
      "min                    0.0             0.0           0.000000      0.000000   \n",
      "25%                    0.0             0.0           0.000000      1.000000   \n",
      "50%                    0.0             0.0           0.000000      1.000000   \n",
      "75%                    0.0             0.0           0.000000      2.000000   \n",
      "max                    0.0             0.0           1.000000      4.000000   \n",
      "\n",
      "       training_hours      target  \n",
      "count      155.000000  155.000000  \n",
      "mean        66.200000    0.335484  \n",
      "std         70.749366    0.473690  \n",
      "min          2.000000    0.000000  \n",
      "25%         16.500000    0.000000  \n",
      "50%         46.000000    0.000000  \n",
      "75%         78.000000    1.000000  \n",
      "max        332.000000    1.000000  \n"
     ]
    },
    {
     "name": "stdout",
     "output_type": "stream",
     "text": [
      "Cluster 18:\n",
      "       city_development_index  Female    Male  relevent_experience  \\\n",
      "count             2106.000000  2106.0  2106.0          2106.000000   \n",
      "mean                 0.761544     0.0     1.0             0.801519   \n",
      "std                  0.137210     0.0     0.0             0.398951   \n",
      "min                  0.448000     0.0     1.0             0.000000   \n",
      "25%                  0.624000     0.0     1.0             1.000000   \n",
      "50%                  0.762000     0.0     1.0             1.000000   \n",
      "75%                  0.915000     0.0     1.0             1.000000   \n",
      "max                  0.949000     0.0     1.0             1.000000   \n",
      "\n",
      "       Full time course  Part time course  High School     Graduate  \\\n",
      "count       2106.000000        2106.00000       2106.0  2106.000000   \n",
      "mean           0.264957           0.15812          0.0     0.773979   \n",
      "std            0.441415           0.36494          0.0     0.418352   \n",
      "min            0.000000           0.00000          0.0     0.000000   \n",
      "25%            0.000000           0.00000          0.0     1.000000   \n",
      "50%            0.000000           0.00000          0.0     1.000000   \n",
      "75%            1.000000           0.00000          0.0     1.000000   \n",
      "max            1.000000           1.00000          0.0     1.000000   \n",
      "\n",
      "           Masters     Phd  Other_major  Arts_major  Humanities_major  \\\n",
      "count  2106.000000  2106.0       2106.0      2106.0            2106.0   \n",
      "mean      0.226021     0.0          0.0         0.0               0.0   \n",
      "std       0.418352     0.0          0.0         0.0               0.0   \n",
      "min       0.000000     0.0          0.0         0.0               0.0   \n",
      "25%       0.000000     0.0          0.0         0.0               0.0   \n",
      "50%       0.000000     0.0          0.0         0.0               0.0   \n",
      "75%       0.000000     0.0          0.0         0.0               0.0   \n",
      "max       1.000000     0.0          0.0         0.0               0.0   \n",
      "\n",
      "       Business_Degree_major  STEM_major  >20y experience   experience  \\\n",
      "count                 2106.0      2106.0           2106.0  2106.000000   \n",
      "mean                     0.0         1.0              0.0     8.097341   \n",
      "std                      0.0         0.0              0.0     4.755646   \n",
      "min                      0.0         1.0              0.0     0.000000   \n",
      "25%                      0.0         1.0              0.0     4.000000   \n",
      "50%                      0.0         1.0              0.0     7.000000   \n",
      "75%                      0.0         1.0              0.0    11.000000   \n",
      "max                      0.0         1.0              0.0    20.000000   \n",
      "\n",
      "       company_size          NGO  Public_Sector      Pvt_Ltd  \\\n",
      "count   2106.000000  2106.000000         2106.0  2106.000000   \n",
      "mean       3.363723     0.096391            0.0     0.811016   \n",
      "std        2.193424     0.295197            0.0     0.391589   \n",
      "min        0.000000     0.000000            0.0     0.000000   \n",
      "25%        2.000000     0.000000            0.0     1.000000   \n",
      "50%        3.000000     0.000000            0.0     1.000000   \n",
      "75%        5.000000     0.000000            0.0     1.000000   \n",
      "max        7.000000     1.000000            0.0     1.000000   \n",
      "\n",
      "       Early_Stage_Startup  Funded_Startup  >4y from last job  last_new_job  \\\n",
      "count               2106.0     2106.000000        2106.000000   2106.000000   \n",
      "mean                   0.0        0.084046           0.181861      1.243590   \n",
      "std                    0.0        0.277522           0.385822      1.074878   \n",
      "min                    0.0        0.000000           0.000000      0.000000   \n",
      "25%                    0.0        0.000000           0.000000      1.000000   \n",
      "50%                    0.0        0.000000           0.000000      1.000000   \n",
      "75%                    0.0        0.000000           0.000000      2.000000   \n",
      "max                    0.0        1.000000           1.000000      4.000000   \n",
      "\n",
      "       training_hours       target  \n",
      "count     2106.000000  2106.000000  \n",
      "mean        64.747863     0.477208  \n",
      "std         60.776328     0.499599  \n",
      "min          1.000000     0.000000  \n",
      "25%         23.000000     0.000000  \n",
      "50%         46.000000     0.000000  \n",
      "75%         88.000000     1.000000  \n",
      "max        336.000000     1.000000  \n",
      "Cluster 25:\n",
      "       city_development_index      Female        Male  relevent_experience  \\\n",
      "count              176.000000  176.000000  176.000000           176.000000   \n",
      "mean                 0.783443    0.886364    0.056818             0.744318   \n",
      "std                  0.134778    0.318275    0.232155             0.437488   \n",
      "min                  0.512000    0.000000    0.000000             0.000000   \n",
      "25%                  0.624000    1.000000    0.000000             0.000000   \n",
      "50%                  0.804000    1.000000    0.000000             1.000000   \n",
      "75%                  0.920000    1.000000    0.000000             1.000000   \n",
      "max                  0.939000    1.000000    1.000000             1.000000   \n",
      "\n",
      "       Full time course  Part time course  High School    Graduate  \\\n",
      "count             176.0        176.000000        176.0  176.000000   \n",
      "mean                0.0          0.215909          0.0    0.755682   \n",
      "std                 0.0          0.412625          0.0    0.430908   \n",
      "min                 0.0          0.000000          0.0    0.000000   \n",
      "25%                 0.0          0.000000          0.0    1.000000   \n",
      "50%                 0.0          0.000000          0.0    1.000000   \n",
      "75%                 0.0          0.000000          0.0    1.000000   \n",
      "max                 0.0          1.000000          0.0    1.000000   \n",
      "\n",
      "          Masters    Phd  Other_major  Arts_major  Humanities_major  \\\n",
      "count  176.000000  176.0        176.0       176.0             176.0   \n",
      "mean     0.244318    0.0          0.0         0.0               0.0   \n",
      "std      0.430908    0.0          0.0         0.0               0.0   \n",
      "min      0.000000    0.0          0.0         0.0               0.0   \n",
      "25%      0.000000    0.0          0.0         0.0               0.0   \n",
      "50%      0.000000    0.0          0.0         0.0               0.0   \n",
      "75%      0.000000    0.0          0.0         0.0               0.0   \n",
      "max      1.000000    0.0          0.0         0.0               0.0   \n",
      "\n",
      "       Business_Degree_major  STEM_major  >20y experience  experience  \\\n",
      "count                  176.0       176.0            176.0  176.000000   \n",
      "mean                     0.0         1.0              0.0    8.039773   \n",
      "std                      0.0         0.0              0.0    4.506961   \n",
      "min                      0.0         1.0              0.0    0.000000   \n",
      "25%                      0.0         1.0              0.0    5.000000   \n",
      "50%                      0.0         1.0              0.0    7.000000   \n",
      "75%                      0.0         1.0              0.0   11.000000   \n",
      "max                      0.0         1.0              0.0   20.000000   \n",
      "\n",
      "       company_size    NGO  Public_Sector     Pvt_Ltd  Early_Stage_Startup  \\\n",
      "count    176.000000  176.0          176.0  176.000000           176.000000   \n",
      "mean       2.982955    0.0            0.0    0.704545             0.198864   \n",
      "std        2.248744    0.0            0.0    0.457549             0.400284   \n",
      "min        0.000000    0.0            0.0    0.000000             0.000000   \n",
      "25%        1.000000    0.0            0.0    0.000000             0.000000   \n",
      "50%        2.000000    0.0            0.0    1.000000             0.000000   \n",
      "75%        5.000000    0.0            0.0    1.000000             0.000000   \n",
      "max        7.000000    0.0            0.0    1.000000             1.000000   \n",
      "\n",
      "       Funded_Startup  >4y from last job  last_new_job  training_hours  \\\n",
      "count      176.000000         176.000000      176.0000      176.000000   \n",
      "mean         0.079545           0.215909        1.1250       55.647727   \n",
      "std          0.271360           0.412625        1.0177       47.461874   \n",
      "min          0.000000           0.000000        0.0000        3.000000   \n",
      "25%          0.000000           0.000000        0.0000       23.000000   \n",
      "50%          0.000000           0.000000        1.0000       43.500000   \n",
      "75%          0.000000           0.000000        2.0000       72.000000   \n",
      "max          1.000000           1.000000        4.0000      304.000000   \n",
      "\n",
      "           target  \n",
      "count  176.000000  \n",
      "mean     0.522727  \n",
      "std      0.500908  \n",
      "min      0.000000  \n",
      "25%      0.000000  \n",
      "50%      1.000000  \n",
      "75%      1.000000  \n",
      "max      1.000000  \n"
     ]
    }
   ],
   "source": [
    "for i in larger_clusters:\n",
    "    if (data1.loc[labels == i, :].describe().iloc[1,26:27] > data1['target'].sum()/len(data1['target'])).bool():\n",
    "        print('Cluster {}:\\n{}'.format(i, data1.loc[labels == i, :].describe()))\n",
    "        # .iloc[[0, 1, 2, 5],25:27]"
   ]
  },
  {
   "cell_type": "markdown",
   "metadata": {},
   "source": [
    "Next we'll explore some combinations of variables commented on the paper as well, particularly those around women, people working in Early Stage Startups, and not having changed jobs in the previous 4 years."
   ]
  },
  {
   "cell_type": "code",
   "execution_count": 891,
   "metadata": {},
   "outputs": [
    {
     "name": "stdout",
     "output_type": "stream",
     "text": [
      "Number of Females: 831.0 Proportion: 0.08492590700051099\n"
     ]
    }
   ],
   "source": [
    "print('Number of Females:', sum(data1.Female), 'Proportion:',sum(data1.Female)/len(data1.Female))"
   ]
  },
  {
   "cell_type": "code",
   "execution_count": 892,
   "metadata": {},
   "outputs": [
    {
     "name": "stdout",
     "output_type": "stream",
     "text": [
      "Number of Males: 8857.0 Proportion: 0.9051609606540624\n"
     ]
    }
   ],
   "source": [
    "print('Number of Males:', sum(data1.Male), 'Proportion:',sum(data1.Male)/len(data1.Male))"
   ]
  },
  {
   "cell_type": "code",
   "execution_count": 895,
   "metadata": {
    "scrolled": true
   },
   "outputs": [
    {
     "name": "stdout",
     "output_type": "stream",
     "text": [
      "Females that converted: 137.0 \n",
      "Proportion over all Females: 0.1648616125150421 \n",
      "Proportion over all Conversions: 0.08600125549278091\n"
     ]
    }
   ],
   "source": [
    "print('Females that converted:', sum(data1.loc[data1.loc[data1['target'] == 1, :].index, 'Female'].values),\n",
    "      '\\nProportion over all Females:', sum(data1.loc[data1.loc[data1['target'] == 1, :].index, 'Female'].values)/sum(data1.Female),\n",
    "      '\\nProportion over all Conversions:', sum(data1.loc[data1.loc[data1['target'] == 1, :].index, 'Female'].values)/sum(data1['target'] == 1))"
   ]
  },
  {
   "cell_type": "code",
   "execution_count": 897,
   "metadata": {
    "scrolled": true
   },
   "outputs": [
    {
     "name": "stdout",
     "output_type": "stream",
     "text": [
      "Males that converted: 1442.0 \n",
      "Proportion over all Males: 0.16280907756576718 \n",
      "Proportion over all Conversions: 0.9052102950408035\n"
     ]
    }
   ],
   "source": [
    "print('Males that converted:', sum(data1.loc[data1.loc[data1['target'] == 1, :].index, 'Male'].values),\n",
    "      '\\nProportion over all Males:', sum(data1.loc[data1.loc[data1['target'] == 1, :].index, 'Male'].values)/sum(data1.Male),\n",
    "      '\\nProportion over all Conversions:', sum(data1.loc[data1.loc[data1['target'] == 1, :].index, 'Male'].values)/sum(data1['target'] == 1))\n",
    "\n",
    "#sum(data1.loc[data1.loc[data1['target'] == 1, :].index, 'Male'].values)"
   ]
  },
  {
   "cell_type": "code",
   "execution_count": 868,
   "metadata": {
    "scrolled": true
   },
   "outputs": [
    {
     "data": {
      "text/plain": [
       "1593"
      ]
     },
     "execution_count": 868,
     "metadata": {},
     "output_type": "execute_result"
    }
   ],
   "source": [
    "sum(data1['target'] == 1)"
   ]
  },
  {
   "cell_type": "code",
   "execution_count": 898,
   "metadata": {
    "scrolled": true
   },
   "outputs": [
    {
     "name": "stdout",
     "output_type": "stream",
     "text": [
      "Females in Early Stage Startups: 40.0\n"
     ]
    }
   ],
   "source": [
    "print('Females in Early Stage Startups:', sum(data1.loc[data1.loc[data1['Female'] == 1, :].index, 'Early_Stage_Startup'].values))"
   ]
  },
  {
   "cell_type": "code",
   "execution_count": 902,
   "metadata": {},
   "outputs": [
    {
     "name": "stdout",
     "output_type": "stream",
     "text": [
      "Females from Early Stage Startups that Converted:  9.0\n"
     ]
    }
   ],
   "source": [
    "print('Females from Early Stage Startups that Converted: ', sum(data1.loc[data1.loc[data1['Female'] == 1, :].index.intersection(data1.loc[data1['Early_Stage_Startup'] == 1, :].index), 'target']))"
   ]
  },
  {
   "cell_type": "code",
   "execution_count": 899,
   "metadata": {},
   "outputs": [
    {
     "name": "stdout",
     "output_type": "stream",
     "text": [
      "People in Early Stage Startups that converted: 94.0\n"
     ]
    }
   ],
   "source": [
    "print('People in Early Stage Startups that converted:', sum(data1.loc[data1.loc[data1['Early_Stage_Startup'] == 1, :].index, 'target'].values))"
   ]
  },
  {
   "cell_type": "code",
   "execution_count": 900,
   "metadata": {},
   "outputs": [
    {
     "name": "stdout",
     "output_type": "stream",
     "text": [
      "Males in Early Stage Startups: 387.0\n"
     ]
    }
   ],
   "source": [
    "print('Males in Early Stage Startups:',sum(data1.loc[data1.loc[data1['Male'] == 1, :].index, 'Early_Stage_Startup'].values))"
   ]
  },
  {
   "cell_type": "code",
   "execution_count": 904,
   "metadata": {
    "scrolled": true
   },
   "outputs": [
    {
     "name": "stdout",
     "output_type": "stream",
     "text": [
      "Males from Early Stage Startups that Converted:  85.0\n"
     ]
    }
   ],
   "source": [
    "print('Males from Early Stage Startups that Converted: ', sum(data1.loc[data1.loc[data1['Male'] == 1, :].index.intersection(data1.loc[data1['Early_Stage_Startup'] == 1, :].index), 'target']))"
   ]
  },
  {
   "cell_type": "markdown",
   "metadata": {},
   "source": [
    "There is no connection between early stage startups, <4y with the same employer and geneder in terms of conversion. Lets check the cluster's subset that converted."
   ]
  },
  {
   "cell_type": "code",
   "execution_count": 915,
   "metadata": {},
   "outputs": [
    {
     "data": {
      "text/html": [
       "<div>\n",
       "<style scoped>\n",
       "    .dataframe tbody tr th:only-of-type {\n",
       "        vertical-align: middle;\n",
       "    }\n",
       "\n",
       "    .dataframe tbody tr th {\n",
       "        vertical-align: top;\n",
       "    }\n",
       "\n",
       "    .dataframe thead th {\n",
       "        text-align: right;\n",
       "    }\n",
       "</style>\n",
       "<table border=\"1\" class=\"dataframe\">\n",
       "  <thead>\n",
       "    <tr style=\"text-align: right;\">\n",
       "      <th></th>\n",
       "      <th>city_development_index</th>\n",
       "      <th>Female</th>\n",
       "      <th>Male</th>\n",
       "      <th>relevent_experience</th>\n",
       "      <th>Full time course</th>\n",
       "      <th>Part time course</th>\n",
       "      <th>High School</th>\n",
       "      <th>Graduate</th>\n",
       "      <th>Masters</th>\n",
       "      <th>Phd</th>\n",
       "      <th>Other_major</th>\n",
       "      <th>Arts_major</th>\n",
       "      <th>Humanities_major</th>\n",
       "      <th>Business_Degree_major</th>\n",
       "      <th>STEM_major</th>\n",
       "      <th>&gt;20y experience</th>\n",
       "      <th>experience</th>\n",
       "      <th>company_size</th>\n",
       "      <th>NGO</th>\n",
       "      <th>Public_Sector</th>\n",
       "      <th>Pvt_Ltd</th>\n",
       "      <th>Early_Stage_Startup</th>\n",
       "      <th>Funded_Startup</th>\n",
       "      <th>&gt;4y from last job</th>\n",
       "      <th>last_new_job</th>\n",
       "      <th>training_hours</th>\n",
       "      <th>target</th>\n",
       "    </tr>\n",
       "  </thead>\n",
       "  <tbody>\n",
       "    <tr>\n",
       "      <th>count</th>\n",
       "      <td>156.000000</td>\n",
       "      <td>156.0</td>\n",
       "      <td>156.0</td>\n",
       "      <td>156.000000</td>\n",
       "      <td>156.0</td>\n",
       "      <td>156.000000</td>\n",
       "      <td>156.0</td>\n",
       "      <td>156.000000</td>\n",
       "      <td>156.000000</td>\n",
       "      <td>156.0</td>\n",
       "      <td>156.0</td>\n",
       "      <td>156.0</td>\n",
       "      <td>156.0</td>\n",
       "      <td>156.0</td>\n",
       "      <td>156.0</td>\n",
       "      <td>156.0</td>\n",
       "      <td>156.000000</td>\n",
       "      <td>156.000000</td>\n",
       "      <td>156.0</td>\n",
       "      <td>156.0</td>\n",
       "      <td>156.000000</td>\n",
       "      <td>156.000000</td>\n",
       "      <td>156.000000</td>\n",
       "      <td>156.000000</td>\n",
       "      <td>156.000000</td>\n",
       "      <td>156.000000</td>\n",
       "      <td>156.000000</td>\n",
       "    </tr>\n",
       "    <tr>\n",
       "      <th>mean</th>\n",
       "      <td>0.774788</td>\n",
       "      <td>1.0</td>\n",
       "      <td>0.0</td>\n",
       "      <td>0.737179</td>\n",
       "      <td>0.0</td>\n",
       "      <td>0.211538</td>\n",
       "      <td>0.0</td>\n",
       "      <td>0.750000</td>\n",
       "      <td>0.250000</td>\n",
       "      <td>0.0</td>\n",
       "      <td>0.0</td>\n",
       "      <td>0.0</td>\n",
       "      <td>0.0</td>\n",
       "      <td>0.0</td>\n",
       "      <td>1.0</td>\n",
       "      <td>0.0</td>\n",
       "      <td>7.820513</td>\n",
       "      <td>3.141026</td>\n",
       "      <td>0.0</td>\n",
       "      <td>0.0</td>\n",
       "      <td>0.750000</td>\n",
       "      <td>0.153846</td>\n",
       "      <td>0.083333</td>\n",
       "      <td>0.179487</td>\n",
       "      <td>1.166667</td>\n",
       "      <td>55.987179</td>\n",
       "      <td>0.519231</td>\n",
       "    </tr>\n",
       "    <tr>\n",
       "      <th>std</th>\n",
       "      <td>0.133266</td>\n",
       "      <td>0.0</td>\n",
       "      <td>0.0</td>\n",
       "      <td>0.441583</td>\n",
       "      <td>0.0</td>\n",
       "      <td>0.409715</td>\n",
       "      <td>0.0</td>\n",
       "      <td>0.434407</td>\n",
       "      <td>0.434407</td>\n",
       "      <td>0.0</td>\n",
       "      <td>0.0</td>\n",
       "      <td>0.0</td>\n",
       "      <td>0.0</td>\n",
       "      <td>0.0</td>\n",
       "      <td>0.0</td>\n",
       "      <td>0.0</td>\n",
       "      <td>4.361839</td>\n",
       "      <td>2.261740</td>\n",
       "      <td>0.0</td>\n",
       "      <td>0.0</td>\n",
       "      <td>0.434407</td>\n",
       "      <td>0.361963</td>\n",
       "      <td>0.277276</td>\n",
       "      <td>0.384996</td>\n",
       "      <td>1.002148</td>\n",
       "      <td>48.952642</td>\n",
       "      <td>0.501239</td>\n",
       "    </tr>\n",
       "    <tr>\n",
       "      <th>min</th>\n",
       "      <td>0.512000</td>\n",
       "      <td>1.0</td>\n",
       "      <td>0.0</td>\n",
       "      <td>0.000000</td>\n",
       "      <td>0.0</td>\n",
       "      <td>0.000000</td>\n",
       "      <td>0.0</td>\n",
       "      <td>0.000000</td>\n",
       "      <td>0.000000</td>\n",
       "      <td>0.0</td>\n",
       "      <td>0.0</td>\n",
       "      <td>0.0</td>\n",
       "      <td>0.0</td>\n",
       "      <td>0.0</td>\n",
       "      <td>1.0</td>\n",
       "      <td>0.0</td>\n",
       "      <td>0.000000</td>\n",
       "      <td>0.000000</td>\n",
       "      <td>0.0</td>\n",
       "      <td>0.0</td>\n",
       "      <td>0.000000</td>\n",
       "      <td>0.000000</td>\n",
       "      <td>0.000000</td>\n",
       "      <td>0.000000</td>\n",
       "      <td>0.000000</td>\n",
       "      <td>3.000000</td>\n",
       "      <td>0.000000</td>\n",
       "    </tr>\n",
       "    <tr>\n",
       "      <th>25%</th>\n",
       "      <td>0.624000</td>\n",
       "      <td>1.0</td>\n",
       "      <td>0.0</td>\n",
       "      <td>0.000000</td>\n",
       "      <td>0.0</td>\n",
       "      <td>0.000000</td>\n",
       "      <td>0.0</td>\n",
       "      <td>0.750000</td>\n",
       "      <td>0.000000</td>\n",
       "      <td>0.0</td>\n",
       "      <td>0.0</td>\n",
       "      <td>0.0</td>\n",
       "      <td>0.0</td>\n",
       "      <td>0.0</td>\n",
       "      <td>1.0</td>\n",
       "      <td>0.0</td>\n",
       "      <td>5.000000</td>\n",
       "      <td>1.000000</td>\n",
       "      <td>0.0</td>\n",
       "      <td>0.0</td>\n",
       "      <td>0.750000</td>\n",
       "      <td>0.000000</td>\n",
       "      <td>0.000000</td>\n",
       "      <td>0.000000</td>\n",
       "      <td>0.750000</td>\n",
       "      <td>22.000000</td>\n",
       "      <td>0.000000</td>\n",
       "    </tr>\n",
       "    <tr>\n",
       "      <th>50%</th>\n",
       "      <td>0.802000</td>\n",
       "      <td>1.0</td>\n",
       "      <td>0.0</td>\n",
       "      <td>1.000000</td>\n",
       "      <td>0.0</td>\n",
       "      <td>0.000000</td>\n",
       "      <td>0.0</td>\n",
       "      <td>1.000000</td>\n",
       "      <td>0.000000</td>\n",
       "      <td>0.0</td>\n",
       "      <td>0.0</td>\n",
       "      <td>0.0</td>\n",
       "      <td>0.0</td>\n",
       "      <td>0.0</td>\n",
       "      <td>1.0</td>\n",
       "      <td>0.0</td>\n",
       "      <td>7.000000</td>\n",
       "      <td>2.000000</td>\n",
       "      <td>0.0</td>\n",
       "      <td>0.0</td>\n",
       "      <td>1.000000</td>\n",
       "      <td>0.000000</td>\n",
       "      <td>0.000000</td>\n",
       "      <td>0.000000</td>\n",
       "      <td>1.000000</td>\n",
       "      <td>43.500000</td>\n",
       "      <td>1.000000</td>\n",
       "    </tr>\n",
       "    <tr>\n",
       "      <th>75%</th>\n",
       "      <td>0.920000</td>\n",
       "      <td>1.0</td>\n",
       "      <td>0.0</td>\n",
       "      <td>1.000000</td>\n",
       "      <td>0.0</td>\n",
       "      <td>0.000000</td>\n",
       "      <td>0.0</td>\n",
       "      <td>1.000000</td>\n",
       "      <td>0.250000</td>\n",
       "      <td>0.0</td>\n",
       "      <td>0.0</td>\n",
       "      <td>0.0</td>\n",
       "      <td>0.0</td>\n",
       "      <td>0.0</td>\n",
       "      <td>1.0</td>\n",
       "      <td>0.0</td>\n",
       "      <td>11.000000</td>\n",
       "      <td>5.000000</td>\n",
       "      <td>0.0</td>\n",
       "      <td>0.0</td>\n",
       "      <td>1.000000</td>\n",
       "      <td>0.000000</td>\n",
       "      <td>0.000000</td>\n",
       "      <td>0.000000</td>\n",
       "      <td>2.000000</td>\n",
       "      <td>72.000000</td>\n",
       "      <td>1.000000</td>\n",
       "    </tr>\n",
       "    <tr>\n",
       "      <th>max</th>\n",
       "      <td>0.939000</td>\n",
       "      <td>1.0</td>\n",
       "      <td>0.0</td>\n",
       "      <td>1.000000</td>\n",
       "      <td>0.0</td>\n",
       "      <td>1.000000</td>\n",
       "      <td>0.0</td>\n",
       "      <td>1.000000</td>\n",
       "      <td>1.000000</td>\n",
       "      <td>0.0</td>\n",
       "      <td>0.0</td>\n",
       "      <td>0.0</td>\n",
       "      <td>0.0</td>\n",
       "      <td>0.0</td>\n",
       "      <td>1.0</td>\n",
       "      <td>0.0</td>\n",
       "      <td>20.000000</td>\n",
       "      <td>7.000000</td>\n",
       "      <td>0.0</td>\n",
       "      <td>0.0</td>\n",
       "      <td>1.000000</td>\n",
       "      <td>1.000000</td>\n",
       "      <td>1.000000</td>\n",
       "      <td>1.000000</td>\n",
       "      <td>4.000000</td>\n",
       "      <td>304.000000</td>\n",
       "      <td>1.000000</td>\n",
       "    </tr>\n",
       "  </tbody>\n",
       "</table>\n",
       "</div>"
      ],
      "text/plain": [
       "       city_development_index  Female   Male  relevent_experience  \\\n",
       "count              156.000000   156.0  156.0           156.000000   \n",
       "mean                 0.774788     1.0    0.0             0.737179   \n",
       "std                  0.133266     0.0    0.0             0.441583   \n",
       "min                  0.512000     1.0    0.0             0.000000   \n",
       "25%                  0.624000     1.0    0.0             0.000000   \n",
       "50%                  0.802000     1.0    0.0             1.000000   \n",
       "75%                  0.920000     1.0    0.0             1.000000   \n",
       "max                  0.939000     1.0    0.0             1.000000   \n",
       "\n",
       "       Full time course  Part time course  High School    Graduate  \\\n",
       "count             156.0        156.000000        156.0  156.000000   \n",
       "mean                0.0          0.211538          0.0    0.750000   \n",
       "std                 0.0          0.409715          0.0    0.434407   \n",
       "min                 0.0          0.000000          0.0    0.000000   \n",
       "25%                 0.0          0.000000          0.0    0.750000   \n",
       "50%                 0.0          0.000000          0.0    1.000000   \n",
       "75%                 0.0          0.000000          0.0    1.000000   \n",
       "max                 0.0          1.000000          0.0    1.000000   \n",
       "\n",
       "          Masters    Phd  Other_major  Arts_major  Humanities_major  \\\n",
       "count  156.000000  156.0        156.0       156.0             156.0   \n",
       "mean     0.250000    0.0          0.0         0.0               0.0   \n",
       "std      0.434407    0.0          0.0         0.0               0.0   \n",
       "min      0.000000    0.0          0.0         0.0               0.0   \n",
       "25%      0.000000    0.0          0.0         0.0               0.0   \n",
       "50%      0.000000    0.0          0.0         0.0               0.0   \n",
       "75%      0.250000    0.0          0.0         0.0               0.0   \n",
       "max      1.000000    0.0          0.0         0.0               0.0   \n",
       "\n",
       "       Business_Degree_major  STEM_major  >20y experience  experience  \\\n",
       "count                  156.0       156.0            156.0  156.000000   \n",
       "mean                     0.0         1.0              0.0    7.820513   \n",
       "std                      0.0         0.0              0.0    4.361839   \n",
       "min                      0.0         1.0              0.0    0.000000   \n",
       "25%                      0.0         1.0              0.0    5.000000   \n",
       "50%                      0.0         1.0              0.0    7.000000   \n",
       "75%                      0.0         1.0              0.0   11.000000   \n",
       "max                      0.0         1.0              0.0   20.000000   \n",
       "\n",
       "       company_size    NGO  Public_Sector     Pvt_Ltd  Early_Stage_Startup  \\\n",
       "count    156.000000  156.0          156.0  156.000000           156.000000   \n",
       "mean       3.141026    0.0            0.0    0.750000             0.153846   \n",
       "std        2.261740    0.0            0.0    0.434407             0.361963   \n",
       "min        0.000000    0.0            0.0    0.000000             0.000000   \n",
       "25%        1.000000    0.0            0.0    0.750000             0.000000   \n",
       "50%        2.000000    0.0            0.0    1.000000             0.000000   \n",
       "75%        5.000000    0.0            0.0    1.000000             0.000000   \n",
       "max        7.000000    0.0            0.0    1.000000             1.000000   \n",
       "\n",
       "       Funded_Startup  >4y from last job  last_new_job  training_hours  \\\n",
       "count      156.000000         156.000000    156.000000      156.000000   \n",
       "mean         0.083333           0.179487      1.166667       55.987179   \n",
       "std          0.277276           0.384996      1.002148       48.952642   \n",
       "min          0.000000           0.000000      0.000000        3.000000   \n",
       "25%          0.000000           0.000000      0.750000       22.000000   \n",
       "50%          0.000000           0.000000      1.000000       43.500000   \n",
       "75%          0.000000           0.000000      2.000000       72.000000   \n",
       "max          1.000000           1.000000      4.000000      304.000000   \n",
       "\n",
       "           target  \n",
       "count  156.000000  \n",
       "mean     0.519231  \n",
       "std      0.501239  \n",
       "min      0.000000  \n",
       "25%      0.000000  \n",
       "50%      1.000000  \n",
       "75%      1.000000  \n",
       "max      1.000000  "
      ]
     },
     "execution_count": 915,
     "metadata": {},
     "output_type": "execute_result"
    }
   ],
   "source": [
    "data1.loc[data1.loc[labels == 25, :].index.intersection(data1.loc[data1['Female'] == 1, :].index), :].describe()"
   ]
  },
  {
   "cell_type": "code",
   "execution_count": 914,
   "metadata": {
    "scrolled": true
   },
   "outputs": [
    {
     "data": {
      "text/html": [
       "<div>\n",
       "<style scoped>\n",
       "    .dataframe tbody tr th:only-of-type {\n",
       "        vertical-align: middle;\n",
       "    }\n",
       "\n",
       "    .dataframe tbody tr th {\n",
       "        vertical-align: top;\n",
       "    }\n",
       "\n",
       "    .dataframe thead th {\n",
       "        text-align: right;\n",
       "    }\n",
       "</style>\n",
       "<table border=\"1\" class=\"dataframe\">\n",
       "  <thead>\n",
       "    <tr style=\"text-align: right;\">\n",
       "      <th></th>\n",
       "      <th>city_development_index</th>\n",
       "      <th>Female</th>\n",
       "      <th>Male</th>\n",
       "      <th>relevent_experience</th>\n",
       "      <th>Full time course</th>\n",
       "      <th>Part time course</th>\n",
       "      <th>High School</th>\n",
       "      <th>Graduate</th>\n",
       "      <th>Masters</th>\n",
       "      <th>Phd</th>\n",
       "      <th>Other_major</th>\n",
       "      <th>Arts_major</th>\n",
       "      <th>Humanities_major</th>\n",
       "      <th>Business_Degree_major</th>\n",
       "      <th>STEM_major</th>\n",
       "      <th>&gt;20y experience</th>\n",
       "      <th>experience</th>\n",
       "      <th>company_size</th>\n",
       "      <th>NGO</th>\n",
       "      <th>Public_Sector</th>\n",
       "      <th>Pvt_Ltd</th>\n",
       "      <th>Early_Stage_Startup</th>\n",
       "      <th>Funded_Startup</th>\n",
       "      <th>&gt;4y from last job</th>\n",
       "      <th>last_new_job</th>\n",
       "      <th>training_hours</th>\n",
       "      <th>target</th>\n",
       "    </tr>\n",
       "  </thead>\n",
       "  <tbody>\n",
       "    <tr>\n",
       "      <th>count</th>\n",
       "      <td>92.000000</td>\n",
       "      <td>92.000000</td>\n",
       "      <td>92.000000</td>\n",
       "      <td>92.000000</td>\n",
       "      <td>92.0</td>\n",
       "      <td>92.000000</td>\n",
       "      <td>92.0</td>\n",
       "      <td>92.00000</td>\n",
       "      <td>92.00000</td>\n",
       "      <td>92.0</td>\n",
       "      <td>92.0</td>\n",
       "      <td>92.0</td>\n",
       "      <td>92.0</td>\n",
       "      <td>92.0</td>\n",
       "      <td>92.0</td>\n",
       "      <td>92.0</td>\n",
       "      <td>92.000000</td>\n",
       "      <td>92.000000</td>\n",
       "      <td>92.0</td>\n",
       "      <td>92.0</td>\n",
       "      <td>92.000000</td>\n",
       "      <td>92.000000</td>\n",
       "      <td>92.000000</td>\n",
       "      <td>92.000000</td>\n",
       "      <td>92.000000</td>\n",
       "      <td>92.000000</td>\n",
       "      <td>92.0</td>\n",
       "    </tr>\n",
       "    <tr>\n",
       "      <th>mean</th>\n",
       "      <td>0.745554</td>\n",
       "      <td>0.880435</td>\n",
       "      <td>0.032609</td>\n",
       "      <td>0.793478</td>\n",
       "      <td>0.0</td>\n",
       "      <td>0.097826</td>\n",
       "      <td>0.0</td>\n",
       "      <td>0.76087</td>\n",
       "      <td>0.23913</td>\n",
       "      <td>0.0</td>\n",
       "      <td>0.0</td>\n",
       "      <td>0.0</td>\n",
       "      <td>0.0</td>\n",
       "      <td>0.0</td>\n",
       "      <td>1.0</td>\n",
       "      <td>0.0</td>\n",
       "      <td>7.521739</td>\n",
       "      <td>3.000000</td>\n",
       "      <td>0.0</td>\n",
       "      <td>0.0</td>\n",
       "      <td>0.793478</td>\n",
       "      <td>0.097826</td>\n",
       "      <td>0.076087</td>\n",
       "      <td>0.141304</td>\n",
       "      <td>1.195652</td>\n",
       "      <td>54.641304</td>\n",
       "      <td>1.0</td>\n",
       "    </tr>\n",
       "    <tr>\n",
       "      <th>std</th>\n",
       "      <td>0.143779</td>\n",
       "      <td>0.326230</td>\n",
       "      <td>0.178583</td>\n",
       "      <td>0.407027</td>\n",
       "      <td>0.0</td>\n",
       "      <td>0.298707</td>\n",
       "      <td>0.0</td>\n",
       "      <td>0.42889</td>\n",
       "      <td>0.42889</td>\n",
       "      <td>0.0</td>\n",
       "      <td>0.0</td>\n",
       "      <td>0.0</td>\n",
       "      <td>0.0</td>\n",
       "      <td>0.0</td>\n",
       "      <td>0.0</td>\n",
       "      <td>0.0</td>\n",
       "      <td>4.584921</td>\n",
       "      <td>2.243428</td>\n",
       "      <td>0.0</td>\n",
       "      <td>0.0</td>\n",
       "      <td>0.407027</td>\n",
       "      <td>0.298707</td>\n",
       "      <td>0.266590</td>\n",
       "      <td>0.350244</td>\n",
       "      <td>0.928654</td>\n",
       "      <td>47.559005</td>\n",
       "      <td>0.0</td>\n",
       "    </tr>\n",
       "    <tr>\n",
       "      <th>min</th>\n",
       "      <td>0.516000</td>\n",
       "      <td>0.000000</td>\n",
       "      <td>0.000000</td>\n",
       "      <td>0.000000</td>\n",
       "      <td>0.0</td>\n",
       "      <td>0.000000</td>\n",
       "      <td>0.0</td>\n",
       "      <td>0.00000</td>\n",
       "      <td>0.00000</td>\n",
       "      <td>0.0</td>\n",
       "      <td>0.0</td>\n",
       "      <td>0.0</td>\n",
       "      <td>0.0</td>\n",
       "      <td>0.0</td>\n",
       "      <td>1.0</td>\n",
       "      <td>0.0</td>\n",
       "      <td>0.000000</td>\n",
       "      <td>0.000000</td>\n",
       "      <td>0.0</td>\n",
       "      <td>0.0</td>\n",
       "      <td>0.000000</td>\n",
       "      <td>0.000000</td>\n",
       "      <td>0.000000</td>\n",
       "      <td>0.000000</td>\n",
       "      <td>0.000000</td>\n",
       "      <td>3.000000</td>\n",
       "      <td>1.0</td>\n",
       "    </tr>\n",
       "    <tr>\n",
       "      <th>25%</th>\n",
       "      <td>0.624000</td>\n",
       "      <td>1.000000</td>\n",
       "      <td>0.000000</td>\n",
       "      <td>1.000000</td>\n",
       "      <td>0.0</td>\n",
       "      <td>0.000000</td>\n",
       "      <td>0.0</td>\n",
       "      <td>1.00000</td>\n",
       "      <td>0.00000</td>\n",
       "      <td>0.0</td>\n",
       "      <td>0.0</td>\n",
       "      <td>0.0</td>\n",
       "      <td>0.0</td>\n",
       "      <td>0.0</td>\n",
       "      <td>1.0</td>\n",
       "      <td>0.0</td>\n",
       "      <td>4.000000</td>\n",
       "      <td>1.000000</td>\n",
       "      <td>0.0</td>\n",
       "      <td>0.0</td>\n",
       "      <td>1.000000</td>\n",
       "      <td>0.000000</td>\n",
       "      <td>0.000000</td>\n",
       "      <td>0.000000</td>\n",
       "      <td>1.000000</td>\n",
       "      <td>22.000000</td>\n",
       "      <td>1.0</td>\n",
       "    </tr>\n",
       "    <tr>\n",
       "      <th>50%</th>\n",
       "      <td>0.624000</td>\n",
       "      <td>1.000000</td>\n",
       "      <td>0.000000</td>\n",
       "      <td>1.000000</td>\n",
       "      <td>0.0</td>\n",
       "      <td>0.000000</td>\n",
       "      <td>0.0</td>\n",
       "      <td>1.00000</td>\n",
       "      <td>0.00000</td>\n",
       "      <td>0.0</td>\n",
       "      <td>0.0</td>\n",
       "      <td>0.0</td>\n",
       "      <td>0.0</td>\n",
       "      <td>0.0</td>\n",
       "      <td>1.0</td>\n",
       "      <td>0.0</td>\n",
       "      <td>7.000000</td>\n",
       "      <td>2.000000</td>\n",
       "      <td>0.0</td>\n",
       "      <td>0.0</td>\n",
       "      <td>1.000000</td>\n",
       "      <td>0.000000</td>\n",
       "      <td>0.000000</td>\n",
       "      <td>0.000000</td>\n",
       "      <td>1.000000</td>\n",
       "      <td>42.500000</td>\n",
       "      <td>1.0</td>\n",
       "    </tr>\n",
       "    <tr>\n",
       "      <th>75%</th>\n",
       "      <td>0.916250</td>\n",
       "      <td>1.000000</td>\n",
       "      <td>0.000000</td>\n",
       "      <td>1.000000</td>\n",
       "      <td>0.0</td>\n",
       "      <td>0.000000</td>\n",
       "      <td>0.0</td>\n",
       "      <td>1.00000</td>\n",
       "      <td>0.00000</td>\n",
       "      <td>0.0</td>\n",
       "      <td>0.0</td>\n",
       "      <td>0.0</td>\n",
       "      <td>0.0</td>\n",
       "      <td>0.0</td>\n",
       "      <td>1.0</td>\n",
       "      <td>0.0</td>\n",
       "      <td>10.250000</td>\n",
       "      <td>5.000000</td>\n",
       "      <td>0.0</td>\n",
       "      <td>0.0</td>\n",
       "      <td>1.000000</td>\n",
       "      <td>0.000000</td>\n",
       "      <td>0.000000</td>\n",
       "      <td>0.000000</td>\n",
       "      <td>2.000000</td>\n",
       "      <td>68.250000</td>\n",
       "      <td>1.0</td>\n",
       "    </tr>\n",
       "    <tr>\n",
       "      <th>max</th>\n",
       "      <td>0.926000</td>\n",
       "      <td>1.000000</td>\n",
       "      <td>1.000000</td>\n",
       "      <td>1.000000</td>\n",
       "      <td>0.0</td>\n",
       "      <td>1.000000</td>\n",
       "      <td>0.0</td>\n",
       "      <td>1.00000</td>\n",
       "      <td>1.00000</td>\n",
       "      <td>0.0</td>\n",
       "      <td>0.0</td>\n",
       "      <td>0.0</td>\n",
       "      <td>0.0</td>\n",
       "      <td>0.0</td>\n",
       "      <td>1.0</td>\n",
       "      <td>0.0</td>\n",
       "      <td>20.000000</td>\n",
       "      <td>7.000000</td>\n",
       "      <td>0.0</td>\n",
       "      <td>0.0</td>\n",
       "      <td>1.000000</td>\n",
       "      <td>1.000000</td>\n",
       "      <td>1.000000</td>\n",
       "      <td>1.000000</td>\n",
       "      <td>4.000000</td>\n",
       "      <td>220.000000</td>\n",
       "      <td>1.0</td>\n",
       "    </tr>\n",
       "  </tbody>\n",
       "</table>\n",
       "</div>"
      ],
      "text/plain": [
       "       city_development_index     Female       Male  relevent_experience  \\\n",
       "count               92.000000  92.000000  92.000000            92.000000   \n",
       "mean                 0.745554   0.880435   0.032609             0.793478   \n",
       "std                  0.143779   0.326230   0.178583             0.407027   \n",
       "min                  0.516000   0.000000   0.000000             0.000000   \n",
       "25%                  0.624000   1.000000   0.000000             1.000000   \n",
       "50%                  0.624000   1.000000   0.000000             1.000000   \n",
       "75%                  0.916250   1.000000   0.000000             1.000000   \n",
       "max                  0.926000   1.000000   1.000000             1.000000   \n",
       "\n",
       "       Full time course  Part time course  High School  Graduate   Masters  \\\n",
       "count              92.0         92.000000         92.0  92.00000  92.00000   \n",
       "mean                0.0          0.097826          0.0   0.76087   0.23913   \n",
       "std                 0.0          0.298707          0.0   0.42889   0.42889   \n",
       "min                 0.0          0.000000          0.0   0.00000   0.00000   \n",
       "25%                 0.0          0.000000          0.0   1.00000   0.00000   \n",
       "50%                 0.0          0.000000          0.0   1.00000   0.00000   \n",
       "75%                 0.0          0.000000          0.0   1.00000   0.00000   \n",
       "max                 0.0          1.000000          0.0   1.00000   1.00000   \n",
       "\n",
       "        Phd  Other_major  Arts_major  Humanities_major  Business_Degree_major  \\\n",
       "count  92.0         92.0        92.0              92.0                   92.0   \n",
       "mean    0.0          0.0         0.0               0.0                    0.0   \n",
       "std     0.0          0.0         0.0               0.0                    0.0   \n",
       "min     0.0          0.0         0.0               0.0                    0.0   \n",
       "25%     0.0          0.0         0.0               0.0                    0.0   \n",
       "50%     0.0          0.0         0.0               0.0                    0.0   \n",
       "75%     0.0          0.0         0.0               0.0                    0.0   \n",
       "max     0.0          0.0         0.0               0.0                    0.0   \n",
       "\n",
       "       STEM_major  >20y experience  experience  company_size   NGO  \\\n",
       "count        92.0             92.0   92.000000     92.000000  92.0   \n",
       "mean          1.0              0.0    7.521739      3.000000   0.0   \n",
       "std           0.0              0.0    4.584921      2.243428   0.0   \n",
       "min           1.0              0.0    0.000000      0.000000   0.0   \n",
       "25%           1.0              0.0    4.000000      1.000000   0.0   \n",
       "50%           1.0              0.0    7.000000      2.000000   0.0   \n",
       "75%           1.0              0.0   10.250000      5.000000   0.0   \n",
       "max           1.0              0.0   20.000000      7.000000   0.0   \n",
       "\n",
       "       Public_Sector    Pvt_Ltd  Early_Stage_Startup  Funded_Startup  \\\n",
       "count           92.0  92.000000            92.000000       92.000000   \n",
       "mean             0.0   0.793478             0.097826        0.076087   \n",
       "std              0.0   0.407027             0.298707        0.266590   \n",
       "min              0.0   0.000000             0.000000        0.000000   \n",
       "25%              0.0   1.000000             0.000000        0.000000   \n",
       "50%              0.0   1.000000             0.000000        0.000000   \n",
       "75%              0.0   1.000000             0.000000        0.000000   \n",
       "max              0.0   1.000000             1.000000        1.000000   \n",
       "\n",
       "       >4y from last job  last_new_job  training_hours  target  \n",
       "count          92.000000     92.000000       92.000000    92.0  \n",
       "mean            0.141304      1.195652       54.641304     1.0  \n",
       "std             0.350244      0.928654       47.559005     0.0  \n",
       "min             0.000000      0.000000        3.000000     1.0  \n",
       "25%             0.000000      1.000000       22.000000     1.0  \n",
       "50%             0.000000      1.000000       42.500000     1.0  \n",
       "75%             0.000000      2.000000       68.250000     1.0  \n",
       "max             1.000000      4.000000      220.000000     1.0  "
      ]
     },
     "execution_count": 914,
     "metadata": {},
     "output_type": "execute_result"
    }
   ],
   "source": [
    "data1.loc[data1.loc[labels == 25, :].index.intersection(data1.loc[data1['target'] == 1, :].index), :].describe()"
   ]
  },
  {
   "cell_type": "code",
   "execution_count": 916,
   "metadata": {
    "scrolled": false
   },
   "outputs": [
    {
     "data": {
      "text/html": [
       "<div>\n",
       "<style scoped>\n",
       "    .dataframe tbody tr th:only-of-type {\n",
       "        vertical-align: middle;\n",
       "    }\n",
       "\n",
       "    .dataframe tbody tr th {\n",
       "        vertical-align: top;\n",
       "    }\n",
       "\n",
       "    .dataframe thead th {\n",
       "        text-align: right;\n",
       "    }\n",
       "</style>\n",
       "<table border=\"1\" class=\"dataframe\">\n",
       "  <thead>\n",
       "    <tr style=\"text-align: right;\">\n",
       "      <th></th>\n",
       "      <th>city_development_index</th>\n",
       "      <th>Female</th>\n",
       "      <th>Male</th>\n",
       "      <th>relevent_experience</th>\n",
       "      <th>Full time course</th>\n",
       "      <th>Part time course</th>\n",
       "      <th>High School</th>\n",
       "      <th>Graduate</th>\n",
       "      <th>Masters</th>\n",
       "      <th>Phd</th>\n",
       "      <th>Other_major</th>\n",
       "      <th>Arts_major</th>\n",
       "      <th>Humanities_major</th>\n",
       "      <th>Business_Degree_major</th>\n",
       "      <th>STEM_major</th>\n",
       "      <th>&gt;20y experience</th>\n",
       "      <th>experience</th>\n",
       "      <th>company_size</th>\n",
       "      <th>NGO</th>\n",
       "      <th>Public_Sector</th>\n",
       "      <th>Pvt_Ltd</th>\n",
       "      <th>Early_Stage_Startup</th>\n",
       "      <th>Funded_Startup</th>\n",
       "      <th>&gt;4y from last job</th>\n",
       "      <th>last_new_job</th>\n",
       "      <th>training_hours</th>\n",
       "      <th>target</th>\n",
       "    </tr>\n",
       "  </thead>\n",
       "  <tbody>\n",
       "    <tr>\n",
       "      <th>count</th>\n",
       "      <td>81.000000</td>\n",
       "      <td>81.0</td>\n",
       "      <td>81.0</td>\n",
       "      <td>81.000000</td>\n",
       "      <td>81.0</td>\n",
       "      <td>81.000000</td>\n",
       "      <td>81.0</td>\n",
       "      <td>81.000000</td>\n",
       "      <td>81.000000</td>\n",
       "      <td>81.0</td>\n",
       "      <td>81.0</td>\n",
       "      <td>81.0</td>\n",
       "      <td>81.0</td>\n",
       "      <td>81.0</td>\n",
       "      <td>81.0</td>\n",
       "      <td>81.0</td>\n",
       "      <td>81.000000</td>\n",
       "      <td>81.000000</td>\n",
       "      <td>81.0</td>\n",
       "      <td>81.0</td>\n",
       "      <td>81.000000</td>\n",
       "      <td>81.000000</td>\n",
       "      <td>81.000000</td>\n",
       "      <td>81.000000</td>\n",
       "      <td>81.000000</td>\n",
       "      <td>81.000000</td>\n",
       "      <td>81.0</td>\n",
       "    </tr>\n",
       "    <tr>\n",
       "      <th>mean</th>\n",
       "      <td>0.737716</td>\n",
       "      <td>1.0</td>\n",
       "      <td>0.0</td>\n",
       "      <td>0.814815</td>\n",
       "      <td>0.0</td>\n",
       "      <td>0.061728</td>\n",
       "      <td>0.0</td>\n",
       "      <td>0.740741</td>\n",
       "      <td>0.259259</td>\n",
       "      <td>0.0</td>\n",
       "      <td>0.0</td>\n",
       "      <td>0.0</td>\n",
       "      <td>0.0</td>\n",
       "      <td>0.0</td>\n",
       "      <td>1.0</td>\n",
       "      <td>0.0</td>\n",
       "      <td>7.444444</td>\n",
       "      <td>3.123457</td>\n",
       "      <td>0.0</td>\n",
       "      <td>0.0</td>\n",
       "      <td>0.827160</td>\n",
       "      <td>0.074074</td>\n",
       "      <td>0.074074</td>\n",
       "      <td>0.123457</td>\n",
       "      <td>1.222222</td>\n",
       "      <td>55.530864</td>\n",
       "      <td>1.0</td>\n",
       "    </tr>\n",
       "    <tr>\n",
       "      <th>std</th>\n",
       "      <td>0.140802</td>\n",
       "      <td>0.0</td>\n",
       "      <td>0.0</td>\n",
       "      <td>0.390868</td>\n",
       "      <td>0.0</td>\n",
       "      <td>0.242161</td>\n",
       "      <td>0.0</td>\n",
       "      <td>0.440959</td>\n",
       "      <td>0.440959</td>\n",
       "      <td>0.0</td>\n",
       "      <td>0.0</td>\n",
       "      <td>0.0</td>\n",
       "      <td>0.0</td>\n",
       "      <td>0.0</td>\n",
       "      <td>0.0</td>\n",
       "      <td>0.0</td>\n",
       "      <td>4.418710</td>\n",
       "      <td>2.238206</td>\n",
       "      <td>0.0</td>\n",
       "      <td>0.0</td>\n",
       "      <td>0.380464</td>\n",
       "      <td>0.263523</td>\n",
       "      <td>0.263523</td>\n",
       "      <td>0.331010</td>\n",
       "      <td>0.935414</td>\n",
       "      <td>49.124609</td>\n",
       "      <td>0.0</td>\n",
       "    </tr>\n",
       "    <tr>\n",
       "      <th>min</th>\n",
       "      <td>0.527000</td>\n",
       "      <td>1.0</td>\n",
       "      <td>0.0</td>\n",
       "      <td>0.000000</td>\n",
       "      <td>0.0</td>\n",
       "      <td>0.000000</td>\n",
       "      <td>0.0</td>\n",
       "      <td>0.000000</td>\n",
       "      <td>0.000000</td>\n",
       "      <td>0.0</td>\n",
       "      <td>0.0</td>\n",
       "      <td>0.0</td>\n",
       "      <td>0.0</td>\n",
       "      <td>0.0</td>\n",
       "      <td>1.0</td>\n",
       "      <td>0.0</td>\n",
       "      <td>0.000000</td>\n",
       "      <td>0.000000</td>\n",
       "      <td>0.0</td>\n",
       "      <td>0.0</td>\n",
       "      <td>0.000000</td>\n",
       "      <td>0.000000</td>\n",
       "      <td>0.000000</td>\n",
       "      <td>0.000000</td>\n",
       "      <td>0.000000</td>\n",
       "      <td>3.000000</td>\n",
       "      <td>1.0</td>\n",
       "    </tr>\n",
       "    <tr>\n",
       "      <th>25%</th>\n",
       "      <td>0.624000</td>\n",
       "      <td>1.0</td>\n",
       "      <td>0.0</td>\n",
       "      <td>1.000000</td>\n",
       "      <td>0.0</td>\n",
       "      <td>0.000000</td>\n",
       "      <td>0.0</td>\n",
       "      <td>0.000000</td>\n",
       "      <td>0.000000</td>\n",
       "      <td>0.0</td>\n",
       "      <td>0.0</td>\n",
       "      <td>0.0</td>\n",
       "      <td>0.0</td>\n",
       "      <td>0.0</td>\n",
       "      <td>1.0</td>\n",
       "      <td>0.0</td>\n",
       "      <td>4.000000</td>\n",
       "      <td>1.000000</td>\n",
       "      <td>0.0</td>\n",
       "      <td>0.0</td>\n",
       "      <td>1.000000</td>\n",
       "      <td>0.000000</td>\n",
       "      <td>0.000000</td>\n",
       "      <td>0.000000</td>\n",
       "      <td>1.000000</td>\n",
       "      <td>22.000000</td>\n",
       "      <td>1.0</td>\n",
       "    </tr>\n",
       "    <tr>\n",
       "      <th>50%</th>\n",
       "      <td>0.624000</td>\n",
       "      <td>1.0</td>\n",
       "      <td>0.0</td>\n",
       "      <td>1.000000</td>\n",
       "      <td>0.0</td>\n",
       "      <td>0.000000</td>\n",
       "      <td>0.0</td>\n",
       "      <td>1.000000</td>\n",
       "      <td>0.000000</td>\n",
       "      <td>0.0</td>\n",
       "      <td>0.0</td>\n",
       "      <td>0.0</td>\n",
       "      <td>0.0</td>\n",
       "      <td>0.0</td>\n",
       "      <td>1.0</td>\n",
       "      <td>0.0</td>\n",
       "      <td>7.000000</td>\n",
       "      <td>2.000000</td>\n",
       "      <td>0.0</td>\n",
       "      <td>0.0</td>\n",
       "      <td>1.000000</td>\n",
       "      <td>0.000000</td>\n",
       "      <td>0.000000</td>\n",
       "      <td>0.000000</td>\n",
       "      <td>1.000000</td>\n",
       "      <td>43.000000</td>\n",
       "      <td>1.0</td>\n",
       "    </tr>\n",
       "    <tr>\n",
       "      <th>75%</th>\n",
       "      <td>0.913000</td>\n",
       "      <td>1.0</td>\n",
       "      <td>0.0</td>\n",
       "      <td>1.000000</td>\n",
       "      <td>0.0</td>\n",
       "      <td>0.000000</td>\n",
       "      <td>0.0</td>\n",
       "      <td>1.000000</td>\n",
       "      <td>1.000000</td>\n",
       "      <td>0.0</td>\n",
       "      <td>0.0</td>\n",
       "      <td>0.0</td>\n",
       "      <td>0.0</td>\n",
       "      <td>0.0</td>\n",
       "      <td>1.0</td>\n",
       "      <td>0.0</td>\n",
       "      <td>10.000000</td>\n",
       "      <td>5.000000</td>\n",
       "      <td>0.0</td>\n",
       "      <td>0.0</td>\n",
       "      <td>1.000000</td>\n",
       "      <td>0.000000</td>\n",
       "      <td>0.000000</td>\n",
       "      <td>0.000000</td>\n",
       "      <td>2.000000</td>\n",
       "      <td>71.000000</td>\n",
       "      <td>1.0</td>\n",
       "    </tr>\n",
       "    <tr>\n",
       "      <th>max</th>\n",
       "      <td>0.926000</td>\n",
       "      <td>1.0</td>\n",
       "      <td>0.0</td>\n",
       "      <td>1.000000</td>\n",
       "      <td>0.0</td>\n",
       "      <td>1.000000</td>\n",
       "      <td>0.0</td>\n",
       "      <td>1.000000</td>\n",
       "      <td>1.000000</td>\n",
       "      <td>0.0</td>\n",
       "      <td>0.0</td>\n",
       "      <td>0.0</td>\n",
       "      <td>0.0</td>\n",
       "      <td>0.0</td>\n",
       "      <td>1.0</td>\n",
       "      <td>0.0</td>\n",
       "      <td>20.000000</td>\n",
       "      <td>7.000000</td>\n",
       "      <td>0.0</td>\n",
       "      <td>0.0</td>\n",
       "      <td>1.000000</td>\n",
       "      <td>1.000000</td>\n",
       "      <td>1.000000</td>\n",
       "      <td>1.000000</td>\n",
       "      <td>4.000000</td>\n",
       "      <td>220.000000</td>\n",
       "      <td>1.0</td>\n",
       "    </tr>\n",
       "  </tbody>\n",
       "</table>\n",
       "</div>"
      ],
      "text/plain": [
       "       city_development_index  Female  Male  relevent_experience  \\\n",
       "count               81.000000    81.0  81.0            81.000000   \n",
       "mean                 0.737716     1.0   0.0             0.814815   \n",
       "std                  0.140802     0.0   0.0             0.390868   \n",
       "min                  0.527000     1.0   0.0             0.000000   \n",
       "25%                  0.624000     1.0   0.0             1.000000   \n",
       "50%                  0.624000     1.0   0.0             1.000000   \n",
       "75%                  0.913000     1.0   0.0             1.000000   \n",
       "max                  0.926000     1.0   0.0             1.000000   \n",
       "\n",
       "       Full time course  Part time course  High School   Graduate    Masters  \\\n",
       "count              81.0         81.000000         81.0  81.000000  81.000000   \n",
       "mean                0.0          0.061728          0.0   0.740741   0.259259   \n",
       "std                 0.0          0.242161          0.0   0.440959   0.440959   \n",
       "min                 0.0          0.000000          0.0   0.000000   0.000000   \n",
       "25%                 0.0          0.000000          0.0   0.000000   0.000000   \n",
       "50%                 0.0          0.000000          0.0   1.000000   0.000000   \n",
       "75%                 0.0          0.000000          0.0   1.000000   1.000000   \n",
       "max                 0.0          1.000000          0.0   1.000000   1.000000   \n",
       "\n",
       "        Phd  Other_major  Arts_major  Humanities_major  Business_Degree_major  \\\n",
       "count  81.0         81.0        81.0              81.0                   81.0   \n",
       "mean    0.0          0.0         0.0               0.0                    0.0   \n",
       "std     0.0          0.0         0.0               0.0                    0.0   \n",
       "min     0.0          0.0         0.0               0.0                    0.0   \n",
       "25%     0.0          0.0         0.0               0.0                    0.0   \n",
       "50%     0.0          0.0         0.0               0.0                    0.0   \n",
       "75%     0.0          0.0         0.0               0.0                    0.0   \n",
       "max     0.0          0.0         0.0               0.0                    0.0   \n",
       "\n",
       "       STEM_major  >20y experience  experience  company_size   NGO  \\\n",
       "count        81.0             81.0   81.000000     81.000000  81.0   \n",
       "mean          1.0              0.0    7.444444      3.123457   0.0   \n",
       "std           0.0              0.0    4.418710      2.238206   0.0   \n",
       "min           1.0              0.0    0.000000      0.000000   0.0   \n",
       "25%           1.0              0.0    4.000000      1.000000   0.0   \n",
       "50%           1.0              0.0    7.000000      2.000000   0.0   \n",
       "75%           1.0              0.0   10.000000      5.000000   0.0   \n",
       "max           1.0              0.0   20.000000      7.000000   0.0   \n",
       "\n",
       "       Public_Sector    Pvt_Ltd  Early_Stage_Startup  Funded_Startup  \\\n",
       "count           81.0  81.000000            81.000000       81.000000   \n",
       "mean             0.0   0.827160             0.074074        0.074074   \n",
       "std              0.0   0.380464             0.263523        0.263523   \n",
       "min              0.0   0.000000             0.000000        0.000000   \n",
       "25%              0.0   1.000000             0.000000        0.000000   \n",
       "50%              0.0   1.000000             0.000000        0.000000   \n",
       "75%              0.0   1.000000             0.000000        0.000000   \n",
       "max              0.0   1.000000             1.000000        1.000000   \n",
       "\n",
       "       >4y from last job  last_new_job  training_hours  target  \n",
       "count          81.000000     81.000000       81.000000    81.0  \n",
       "mean            0.123457      1.222222       55.530864     1.0  \n",
       "std             0.331010      0.935414       49.124609     0.0  \n",
       "min             0.000000      0.000000        3.000000     1.0  \n",
       "25%             0.000000      1.000000       22.000000     1.0  \n",
       "50%             0.000000      1.000000       43.000000     1.0  \n",
       "75%             0.000000      2.000000       71.000000     1.0  \n",
       "max             1.000000      4.000000      220.000000     1.0  "
      ]
     },
     "execution_count": 916,
     "metadata": {},
     "output_type": "execute_result"
    }
   ],
   "source": [
    "data1.loc[data1.loc[labels == 25, :].index.intersection(data1.loc[data1['target'] == 1, :].index.intersection(data1.loc[data1['Female'] == 1, :].index)), :].describe()"
   ]
  },
  {
   "cell_type": "code",
   "execution_count": 919,
   "metadata": {},
   "outputs": [
    {
     "name": "stdout",
     "output_type": "stream",
     "text": [
      "Proportion of people enrolled Full time: 0.10444557996934083\n"
     ]
    }
   ],
   "source": [
    "print('Proportion of people enrolled Full time:', sum(data1['Full time course'])/len(data1['Full time course']))"
   ]
  },
  {
   "cell_type": "code",
   "execution_count": 920,
   "metadata": {},
   "outputs": [
    {
     "name": "stdout",
     "output_type": "stream",
     "text": [
      "Proportion of people enrolled Part time: 0.06315789473684211\n"
     ]
    }
   ],
   "source": [
    "print('Proportion of people enrolled Part time:', sum(data1['Part time course'])/len(data1['Full time course']))"
   ]
  }
 ],
 "metadata": {
  "kernelspec": {
   "display_name": "Python 3",
   "language": "python",
   "name": "python3"
  },
  "language_info": {
   "codemirror_mode": {
    "name": "ipython",
    "version": 3
   },
   "file_extension": ".py",
   "mimetype": "text/x-python",
   "name": "python",
   "nbconvert_exporter": "python",
   "pygments_lexer": "ipython3",
   "version": "3.8.9"
  }
 },
 "nbformat": 4,
 "nbformat_minor": 2
}
